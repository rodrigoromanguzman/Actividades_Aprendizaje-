{
  "nbformat": 4,
  "nbformat_minor": 0,
  "metadata": {
    "colab": {
      "name": "assignment01.ipynb",
      "provenance": [],
      "include_colab_link": true
    },
    "kernelspec": {
      "name": "python3",
      "display_name": "Python 3"
    },
    "language_info": {
      "name": "python"
    }
  },
  "cells": [
    {
      "cell_type": "markdown",
      "metadata": {
        "id": "view-in-github",
        "colab_type": "text"
      },
      "source": [
        "<a href=\"https://colab.research.google.com/github/rodrigoromanguzman/Actividades_Aprendizaje-/blob/main/module_5_IBM.ipynb\" target=\"_parent\"><img src=\"https://colab.research.google.com/assets/colab-badge.svg\" alt=\"Open In Colab\"/></a>"
      ]
    },
    {
      "cell_type": "markdown",
      "source": [
        "<h2>IBM module 5 | Rodrigo Ildefonso Roman Guzman |A01794225|Jobish</h2>"
      ],
      "metadata": {
        "id": "UkVADy0sOpD8"
      }
    },
    {
      "cell_type": "markdown",
      "source": [
        "<p>Certificado de curso completado: </p>\n",
        "<a>https://courses.cognitiveclass.ai/certificates/10a8a440add6496593f24b21e39ace09<a/>\n",
        "<h3> - Numpy Arrays -</h3>"
      ],
      "metadata": {
        "id": "q4Ri5mhiOwcB"
      }
    },
    {
      "cell_type": "markdown",
      "source": [
        "<p>Numpy is the basis for Pandas.</p>\n",
        "<b>The elements of a numpy array are all of the same type</p>"
      ],
      "metadata": {
        "id": "-iLfQG6HO3Sw"
      }
    },
    {
      "cell_type": "code",
      "source": [
        "import numpy as np\n",
        "a = np.array([0,1,2,3,4,5])\n",
        "print(a.size) #atributes\n",
        "print(a.ndim) #dimennsion of arrays (rank)\n",
        "print(a.shape) # tupple of ints indicating the size of the array in each dimension"
      ],
      "metadata": {
        "id": "o0QbUXMyTfTa",
        "outputId": "78211b76-8322-47f2-bd0c-c9082b849221",
        "colab": {
          "base_uri": "https://localhost:8080/"
        }
      },
      "execution_count": 1,
      "outputs": [
        {
          "output_type": "stream",
          "name": "stdout",
          "text": [
            "6\n",
            "1\n",
            "(6,)\n"
          ]
        }
      ]
    },
    {
      "cell_type": "markdown",
      "source": [
        "<h4>Indexing and slicing</h4>"
      ],
      "metadata": {
        "id": "Wp8edZWiUCfF"
      }
    },
    {
      "cell_type": "code",
      "source": [
        "a[0] #access first elemnt of array\n",
        "a[1:4] # access from index 1 to index 3"
      ],
      "metadata": {
        "id": "mhkdnV95UAbE"
      },
      "execution_count": null,
      "outputs": []
    },
    {
      "cell_type": "markdown",
      "source": [
        "<h4>Basic operations</h4>"
      ],
      "metadata": {
        "id": "loze17_6UuNn"
      }
    },
    {
      "cell_type": "code",
      "source": [
        "b = np.array([3,3,3,3,3,3])\n",
        "print(a)\n",
        "print(a+b) #Addition of verctors and matrices fast and directly\n",
        "print(a*3) #Multiplication by a scalar\n",
        "print(np.dot(a,b)) #Dot product\n",
        "print(a+1) #Bradcasted addition of the scalar\n"
      ],
      "metadata": {
        "id": "voMqdoDpUyS3",
        "outputId": "fe48b8eb-e223-4718-dfd3-4836757d336c",
        "colab": {
          "base_uri": "https://localhost:8080/"
        }
      },
      "execution_count": null,
      "outputs": [
        {
          "output_type": "stream",
          "name": "stdout",
          "text": [
            "[0 1 2 3 4 5]\n",
            "[3 4 5 6 7 8]\n",
            "[ 0  3  6  9 12 15]\n",
            "45\n",
            "[1 2 3 4 5 6]\n"
          ]
        }
      ]
    },
    {
      "cell_type": "markdown",
      "source": [
        "<h3>Universal functions</h3>"
      ],
      "metadata": {
        "id": "jeNjifJnVng-"
      }
    },
    {
      "cell_type": "code",
      "source": [
        "print(a.mean())\n",
        "print(a.max())\n",
        "print(np.pi)"
      ],
      "metadata": {
        "id": "vHifyFd3VtIf",
        "outputId": "ca4ae6ea-0e27-4b66-d066-1c7617c75324",
        "colab": {
          "base_uri": "https://localhost:8080/"
        }
      },
      "execution_count": null,
      "outputs": [
        {
          "output_type": "stream",
          "name": "stdout",
          "text": [
            "2.5\n",
            "5\n",
            "3.141592653589793\n"
          ]
        }
      ]
    },
    {
      "cell_type": "markdown",
      "source": [
        "<h4>Linspace function</h4>"
      ],
      "metadata": {
        "id": "OD1NYyTeV8rs"
      }
    },
    {
      "cell_type": "markdown",
      "source": [
        "<p>Returns an evenly spaced array of numbers in the specified range</p>"
      ],
      "metadata": {
        "id": "32l9qflxWQLC"
      }
    },
    {
      "cell_type": "code",
      "source": [
        "x = np.linspace(-np.pi,np.pi,num=100) #(min of range, max of range, number of items in the array)\n",
        "np.sin(x)"
      ],
      "metadata": {
        "id": "AgF2-27sWBj-",
        "outputId": "a01894d6-57d3-413e-aade-21c7f2626355",
        "colab": {
          "base_uri": "https://localhost:8080/"
        }
      },
      "execution_count": null,
      "outputs": [
        {
          "output_type": "execute_result",
          "data": {
            "text/plain": [
              "array([-1.22464680e-16, -6.34239197e-02, -1.26592454e-01, -1.89251244e-01,\n",
              "       -2.51147987e-01, -3.12033446e-01, -3.71662456e-01, -4.29794912e-01,\n",
              "       -4.86196736e-01, -5.40640817e-01, -5.92907929e-01, -6.42787610e-01,\n",
              "       -6.90079011e-01, -7.34591709e-01, -7.76146464e-01, -8.14575952e-01,\n",
              "       -8.49725430e-01, -8.81453363e-01, -9.09631995e-01, -9.34147860e-01,\n",
              "       -9.54902241e-01, -9.71811568e-01, -9.84807753e-01, -9.93838464e-01,\n",
              "       -9.98867339e-01, -9.99874128e-01, -9.96854776e-01, -9.89821442e-01,\n",
              "       -9.78802446e-01, -9.63842159e-01, -9.45000819e-01, -9.22354294e-01,\n",
              "       -8.95993774e-01, -8.66025404e-01, -8.32569855e-01, -7.95761841e-01,\n",
              "       -7.55749574e-01, -7.12694171e-01, -6.66769001e-01, -6.18158986e-01,\n",
              "       -5.67059864e-01, -5.13677392e-01, -4.58226522e-01, -4.00930535e-01,\n",
              "       -3.42020143e-01, -2.81732557e-01, -2.20310533e-01, -1.58001396e-01,\n",
              "       -9.50560433e-02, -3.17279335e-02,  3.17279335e-02,  9.50560433e-02,\n",
              "        1.58001396e-01,  2.20310533e-01,  2.81732557e-01,  3.42020143e-01,\n",
              "        4.00930535e-01,  4.58226522e-01,  5.13677392e-01,  5.67059864e-01,\n",
              "        6.18158986e-01,  6.66769001e-01,  7.12694171e-01,  7.55749574e-01,\n",
              "        7.95761841e-01,  8.32569855e-01,  8.66025404e-01,  8.95993774e-01,\n",
              "        9.22354294e-01,  9.45000819e-01,  9.63842159e-01,  9.78802446e-01,\n",
              "        9.89821442e-01,  9.96854776e-01,  9.99874128e-01,  9.98867339e-01,\n",
              "        9.93838464e-01,  9.84807753e-01,  9.71811568e-01,  9.54902241e-01,\n",
              "        9.34147860e-01,  9.09631995e-01,  8.81453363e-01,  8.49725430e-01,\n",
              "        8.14575952e-01,  7.76146464e-01,  7.34591709e-01,  6.90079011e-01,\n",
              "        6.42787610e-01,  5.92907929e-01,  5.40640817e-01,  4.86196736e-01,\n",
              "        4.29794912e-01,  3.71662456e-01,  3.12033446e-01,  2.51147987e-01,\n",
              "        1.89251244e-01,  1.26592454e-01,  6.34239197e-02,  1.22464680e-16])"
            ]
          },
          "metadata": {},
          "execution_count": 11
        }
      ]
    },
    {
      "cell_type": "markdown",
      "source": [
        "<h4>Numpy Array 2D</h4>"
      ],
      "metadata": {
        "id": "TNeO1q2Ea50l"
      }
    },
    {
      "cell_type": "code",
      "source": [
        "a = [[11,12,13],[21,22,23],[31,32,33]]\n",
        "A = np.array(a)\n",
        "print(A)"
      ],
      "metadata": {
        "id": "VvILXmJedqUF",
        "outputId": "640d99f9-b3e0-4c7d-a4a1-4f9df13ee6e4",
        "colab": {
          "base_uri": "https://localhost:8080/"
        }
      },
      "execution_count": 2,
      "outputs": [
        {
          "output_type": "stream",
          "name": "stdout",
          "text": [
            "[[11 12 13]\n",
            " [21 22 23]\n",
            " [31 32 33]]\n"
          ]
        }
      ]
    },
    {
      "cell_type": "code",
      "source": [
        "A.ndim #get number of nested lists"
      ],
      "metadata": {
        "id": "6c2Q8PFyd6W2",
        "outputId": "5db50e0c-e537-43db-ab08-3918aad14453",
        "colab": {
          "base_uri": "https://localhost:8080/"
        }
      },
      "execution_count": 4,
      "outputs": [
        {
          "output_type": "execute_result",
          "data": {
            "text/plain": [
              "2"
            ]
          },
          "metadata": {},
          "execution_count": 4
        }
      ]
    },
    {
      "cell_type": "code",
      "source": [
        "A.shape # (rows,columns)"
      ],
      "metadata": {
        "id": "jafNEOOgeDZc",
        "outputId": "6eabb216-f026-49f2-8c6d-e3bf20052b94",
        "colab": {
          "base_uri": "https://localhost:8080/"
        }
      },
      "execution_count": 5,
      "outputs": [
        {
          "output_type": "execute_result",
          "data": {
            "text/plain": [
              "(3, 3)"
            ]
          },
          "metadata": {},
          "execution_count": 5
        }
      ]
    },
    {
      "cell_type": "code",
      "source": [
        "#Way of indexing elements\n",
        "A[0][0]"
      ],
      "metadata": {
        "id": "AyPj5SSYeNK2"
      },
      "execution_count": null,
      "outputs": []
    },
    {
      "cell_type": "code",
      "source": [
        "#Slicing\n",
        "A[2,1:3] # Third Row from column 1 to 2"
      ],
      "metadata": {
        "id": "6548afHeeTlS",
        "outputId": "936f3513-5ed8-4855-93aa-9ba37a480ffd",
        "colab": {
          "base_uri": "https://localhost:8080/"
        }
      },
      "execution_count": 6,
      "outputs": [
        {
          "output_type": "execute_result",
          "data": {
            "text/plain": [
              "array([32, 33])"
            ]
          },
          "metadata": {},
          "execution_count": 6
        }
      ]
    },
    {
      "cell_type": "code",
      "source": [
        "#Perform Operations\n",
        "a = [[11,12,13],[21,22,23],[31,32,33]]\n",
        "b = [[1,2,3],[4,5,6],[7,8,9]]\n",
        "A = np.array(a)\n",
        "B = np.array(b)\n",
        "print('Addition \\n',A+B)\n",
        "print('\\n')\n",
        "print('Multiplication \\n ',A*B)\n",
        "print('\\n')\n",
        "print('Dot product (matrix multiplication) \\n',np.dot(A,B))\n",
        "print('\\n')\n",
        "\n",
        "\n"
      ],
      "metadata": {
        "id": "ili9KMxNeqKM",
        "outputId": "c8be4271-9fa2-45d5-b5dd-0720ac31dcc7",
        "colab": {
          "base_uri": "https://localhost:8080/"
        }
      },
      "execution_count": 15,
      "outputs": [
        {
          "output_type": "stream",
          "name": "stdout",
          "text": [
            "Addition \n",
            " [[12 14 16]\n",
            " [25 27 29]\n",
            " [38 40 42]]\n",
            "\n",
            "\n",
            "Multiplication \n",
            "  [[ 11  24  39]\n",
            " [ 84 110 138]\n",
            " [217 256 297]]\n",
            "\n",
            "\n",
            "Dot product (matrix multiplication) \n",
            " [[150 186 222]\n",
            " [270 336 402]\n",
            " [390 486 582]]\n",
            "\n",
            "\n"
          ]
        }
      ]
    },
    {
      "cell_type": "markdown",
      "source": [
        "<h3>HTTP Request</h3>"
      ],
      "metadata": {
        "id": "ku01B0ofooZW"
      }
    },
    {
      "cell_type": "code",
      "source": [
        "import requests\n",
        "import os \n",
        "from PIL import Image\n",
        "from IPython.display import IFrame"
      ],
      "metadata": {
        "id": "7gG17qmLos3G"
      },
      "execution_count": 17,
      "outputs": []
    },
    {
      "cell_type": "code",
      "source": [
        "url='https://www.ibm.com/'\n",
        "r=requests.get(url)\n",
        "print(\"request body:\", r.request.body)\n",
        "header=r.headers\n",
        "print(r.headers)"
      ],
      "metadata": {
        "id": "i0u5HCVxo5Zu",
        "outputId": "6721d630-a1a6-4b3e-b876-00c4768564a3",
        "colab": {
          "base_uri": "https://localhost:8080/"
        }
      },
      "execution_count": 19,
      "outputs": [
        {
          "output_type": "stream",
          "name": "stdout",
          "text": [
            "request body: None\n",
            "{'Server': 'Apache', 'Last-Modified': 'Mon, 26 Sep 2022 12:10:36 GMT', 'ETag': '\"182c6-5e9936a544ba1-gzip\"', 'Accept-Ranges': 'bytes', 'Content-Encoding': 'gzip', 'Content-Type': 'text/html', 'Cache-Control': 'max-age=3600', 'Expires': 'Sat, 01 Oct 2022 23:23:21 GMT', 'X-Akamai-Transformed': '9 21429 0 pmb=mTOE,2', 'Date': 'Sat, 01 Oct 2022 22:23:21 GMT', 'Content-Length': '21623', 'Connection': 'keep-alive', 'Vary': 'Accept-Encoding', 'x-content-type-options': 'nosniff', 'X-XSS-Protection': '1; mode=block', 'Content-Security-Policy': 'upgrade-insecure-requests', 'Strict-Transport-Security': 'max-age=31536000'}\n"
          ]
        }
      ]
    },
    {
      "cell_type": "code",
      "source": [
        "path=os.path.join(os.getcwd(),'image.png')\n",
        "with open(path,'wb') as f:\n",
        "    f.write(r.content)\n"
      ],
      "metadata": {
        "id": "GtSXUJFDpmtY"
      },
      "execution_count": 33,
      "outputs": []
    },
    {
      "cell_type": "markdown",
      "source": [
        "<h4>GET and POST</h4>"
      ],
      "metadata": {
        "id": "edvAz5SBr4A9"
      }
    },
    {
      "cell_type": "code",
      "source": [
        "#GET\n",
        "url_get='http://httpbin.org/get'\n",
        "payload={\"name\":\"Joseph\",\"ID\":\"123\"}\n",
        "r=requests.get(url_get,params=payload)\n"
      ],
      "metadata": {
        "id": "F2wjKLJYr-1I"
      },
      "execution_count": 39,
      "outputs": []
    },
    {
      "cell_type": "code",
      "source": [
        "print(\"JSON RESPONSE:\", r.json())"
      ],
      "metadata": {
        "id": "5_ernbEVsXP4",
        "outputId": "bab778d0-1873-4ba3-c54a-e49555862a34",
        "colab": {
          "base_uri": "https://localhost:8080/"
        }
      },
      "execution_count": 41,
      "outputs": [
        {
          "output_type": "stream",
          "name": "stdout",
          "text": [
            "JSON RESPONSE: {'args': {'ID': '123', 'name': 'Joseph'}, 'headers': {'Accept': '*/*', 'Accept-Encoding': 'gzip, deflate', 'Host': 'httpbin.org', 'User-Agent': 'python-requests/2.23.0', 'X-Amzn-Trace-Id': 'Root=1-6338c0e8-282c26a1678dd5a8327ea7e8'}, 'origin': '35.232.254.109', 'url': 'http://httpbin.org/get?name=Joseph&ID=123'}\n"
          ]
        }
      ]
    },
    {
      "cell_type": "code",
      "source": [
        "#POST\n",
        "url_post='http://httpbin.org/post'\n",
        "r_post=requests.post(url_post,data=payload)\n",
        "print(\"POST request body:\",r_post.request.body)\n"
      ],
      "metadata": {
        "id": "5VQ7MXocslqJ",
        "outputId": "e83d1678-3dcf-49df-f9bd-3b7239299a57",
        "colab": {
          "base_uri": "https://localhost:8080/"
        }
      },
      "execution_count": 42,
      "outputs": [
        {
          "output_type": "stream",
          "name": "stdout",
          "text": [
            "POST request body: name=Joseph&ID=123\n"
          ]
        }
      ]
    },
    {
      "cell_type": "markdown",
      "source": [
        "<h3>API</h3>"
      ],
      "metadata": {
        "id": "d3zD14uIt0W6"
      }
    },
    {
      "cell_type": "code",
      "source": [
        "#install API \n",
        "!pip install randomuser"
      ],
      "metadata": {
        "id": "cRdLPhbz3Eak",
        "outputId": "92746d01-d4b4-477f-e859-7afbdef4bbb3",
        "colab": {
          "base_uri": "https://localhost:8080/"
        }
      },
      "execution_count": 44,
      "outputs": [
        {
          "output_type": "stream",
          "name": "stdout",
          "text": [
            "Looking in indexes: https://pypi.org/simple, https://us-python.pkg.dev/colab-wheels/public/simple/\n",
            "Collecting randomuser\n",
            "  Downloading randomuser-1.6.tar.gz (5.0 kB)\n",
            "Building wheels for collected packages: randomuser\n",
            "  Building wheel for randomuser (setup.py) ... \u001b[?25l\u001b[?25hdone\n",
            "  Created wheel for randomuser: filename=randomuser-1.6-py3-none-any.whl size=5084 sha256=44be99950628690449e7ed9f1a4b5018ad1023f3d5b03c895df6ededaf889311\n",
            "  Stored in directory: /root/.cache/pip/wheels/21/10/7b/c13bc3e24a3c1000a34554802ad8aa0ff27df56366998a0473\n",
            "Successfully built randomuser\n",
            "Installing collected packages: randomuser\n",
            "Successfully installed randomuser-1.6\n"
          ]
        }
      ]
    },
    {
      "cell_type": "code",
      "source": [
        "from randomuser import RandomUser\n",
        "import pandas as pd"
      ],
      "metadata": {
        "id": "PgcpBGPv3AR5"
      },
      "execution_count": 45,
      "outputs": []
    },
    {
      "cell_type": "code",
      "source": [
        "#create instance of API\n",
        "r = RandomUser()\n",
        "#generate 10 random users\n",
        "some_list = r.generate_users(10)\n",
        "for user in some_list:\n",
        "    print (user.get_full_name(),\" \",user.get_email(),user.get_picture())"
      ],
      "metadata": {
        "id": "Jymh7qgM3OAm",
        "outputId": "5d531b26-ff9e-4af3-8729-93513328a510",
        "colab": {
          "base_uri": "https://localhost:8080/"
        }
      },
      "execution_count": 48,
      "outputs": [
        {
          "output_type": "stream",
          "name": "stdout",
          "text": [
            "Juliette Campbell   juliette.campbell@example.com https://randomuser.me/api/portraits/women/40.jpg\n",
            "Juliette Lambert   juliette.lambert@example.com https://randomuser.me/api/portraits/women/62.jpg\n",
            "Alexandra Kristiansen   alexandra.kristiansen@example.com https://randomuser.me/api/portraits/women/7.jpg\n",
            "Signe Madsen   signe.madsen@example.com https://randomuser.me/api/portraits/women/5.jpg\n",
            "Väinö Latt   vaino.latt@example.com https://randomuser.me/api/portraits/men/61.jpg\n",
            "Tony Perrin   tony.perrin@example.com https://randomuser.me/api/portraits/men/67.jpg\n",
            "Loraci Lima   loraci.lima@example.com https://randomuser.me/api/portraits/women/37.jpg\n",
            "Belinda Dumont   belinda.dumont@example.com https://randomuser.me/api/portraits/women/56.jpg\n",
            "Iida Wirtanen   iida.wirtanen@example.com https://randomuser.me/api/portraits/women/89.jpg\n",
            "Lenni Hanka   lenni.hanka@example.com https://randomuser.me/api/portraits/men/64.jpg\n"
          ]
        }
      ]
    },
    {
      "cell_type": "code",
      "source": [
        "#We can create a table of the fake data\n",
        "def get_users():\n",
        "    users =[]\n",
        "     \n",
        "    for user in RandomUser.generate_users(10):\n",
        "        users.append({\"Name\":user.get_full_name(),\"Gender\":user.get_gender(),\"City\":user.get_city(),\"State\":user.get_state(),\"Email\":user.get_email(), \"DOB\":user.get_dob(),\"Picture\":user.get_picture()})\n",
        "      \n",
        "    return pd.DataFrame(users)  \n",
        "#We visualize it\n",
        "get_users()  "
      ],
      "metadata": {
        "id": "697c1pkw3Pz_",
        "outputId": "67981704-892f-4f83-ef54-327059d7a7ef",
        "colab": {
          "base_uri": "https://localhost:8080/",
          "height": 601
        }
      },
      "execution_count": 50,
      "outputs": [
        {
          "output_type": "execute_result",
          "data": {
            "text/plain": [
              "               Name  Gender       City              State  \\\n",
              "0   Cäcilia Geppert  female  Schönwald  Baden-Württemberg   \n",
              "1     Johan Bernard    male     Nantes           Charente   \n",
              "2    Hussein Røyset    male  Knarrevik    Møre og Romsdal   \n",
              "3       Samu Pesola    male    Luumäki    Tavastia Proper   \n",
              "4      Jenny Hovind  female    Solerød         Vest-Agder   \n",
              "5     Marilou Romme  female  Ossenzijl            Utrecht   \n",
              "6  Franklin Stanley    male  San Mateo      West Virginia   \n",
              "7   Patrice Vincent    male       Vich             Genève   \n",
              "8    Sanni Leppanen  female    Muurame   Northern Savonia   \n",
              "9     Alisa Hautala  female    Kajaani             Kainuu   \n",
              "\n",
              "                          Email                       DOB  \\\n",
              "0   cacilia.geppert@example.com  1949-04-25T20:47:29.361Z   \n",
              "1     johan.bernard@example.com  1971-04-15T02:40:56.220Z   \n",
              "2    hussein.royset@example.com  1972-12-19T12:20:04.977Z   \n",
              "3       samu.pesola@example.com  1988-05-10T12:38:26.654Z   \n",
              "4      jenny.hovind@example.com  1980-12-28T01:23:52.214Z   \n",
              "5     marilou.romme@example.com  1955-08-25T01:41:52.797Z   \n",
              "6  franklin.stanley@example.com  1967-06-30T13:45:11.106Z   \n",
              "7   patrice.vincent@example.com  1989-08-12T14:01:29.267Z   \n",
              "8    sanni.leppanen@example.com  1945-04-21T08:54:35.513Z   \n",
              "9     alisa.hautala@example.com  1960-02-20T04:25:39.073Z   \n",
              "\n",
              "                                            Picture  \n",
              "0  https://randomuser.me/api/portraits/women/58.jpg  \n",
              "1     https://randomuser.me/api/portraits/men/3.jpg  \n",
              "2    https://randomuser.me/api/portraits/men/85.jpg  \n",
              "3    https://randomuser.me/api/portraits/men/50.jpg  \n",
              "4  https://randomuser.me/api/portraits/women/91.jpg  \n",
              "5  https://randomuser.me/api/portraits/women/84.jpg  \n",
              "6    https://randomuser.me/api/portraits/men/10.jpg  \n",
              "7    https://randomuser.me/api/portraits/men/43.jpg  \n",
              "8   https://randomuser.me/api/portraits/women/9.jpg  \n",
              "9  https://randomuser.me/api/portraits/women/22.jpg  "
            ],
            "text/html": [
              "\n",
              "  <div id=\"df-3d86ef51-60f6-426c-9fca-117a6ca98457\">\n",
              "    <div class=\"colab-df-container\">\n",
              "      <div>\n",
              "<style scoped>\n",
              "    .dataframe tbody tr th:only-of-type {\n",
              "        vertical-align: middle;\n",
              "    }\n",
              "\n",
              "    .dataframe tbody tr th {\n",
              "        vertical-align: top;\n",
              "    }\n",
              "\n",
              "    .dataframe thead th {\n",
              "        text-align: right;\n",
              "    }\n",
              "</style>\n",
              "<table border=\"1\" class=\"dataframe\">\n",
              "  <thead>\n",
              "    <tr style=\"text-align: right;\">\n",
              "      <th></th>\n",
              "      <th>Name</th>\n",
              "      <th>Gender</th>\n",
              "      <th>City</th>\n",
              "      <th>State</th>\n",
              "      <th>Email</th>\n",
              "      <th>DOB</th>\n",
              "      <th>Picture</th>\n",
              "    </tr>\n",
              "  </thead>\n",
              "  <tbody>\n",
              "    <tr>\n",
              "      <th>0</th>\n",
              "      <td>Cäcilia Geppert</td>\n",
              "      <td>female</td>\n",
              "      <td>Schönwald</td>\n",
              "      <td>Baden-Württemberg</td>\n",
              "      <td>cacilia.geppert@example.com</td>\n",
              "      <td>1949-04-25T20:47:29.361Z</td>\n",
              "      <td>https://randomuser.me/api/portraits/women/58.jpg</td>\n",
              "    </tr>\n",
              "    <tr>\n",
              "      <th>1</th>\n",
              "      <td>Johan Bernard</td>\n",
              "      <td>male</td>\n",
              "      <td>Nantes</td>\n",
              "      <td>Charente</td>\n",
              "      <td>johan.bernard@example.com</td>\n",
              "      <td>1971-04-15T02:40:56.220Z</td>\n",
              "      <td>https://randomuser.me/api/portraits/men/3.jpg</td>\n",
              "    </tr>\n",
              "    <tr>\n",
              "      <th>2</th>\n",
              "      <td>Hussein Røyset</td>\n",
              "      <td>male</td>\n",
              "      <td>Knarrevik</td>\n",
              "      <td>Møre og Romsdal</td>\n",
              "      <td>hussein.royset@example.com</td>\n",
              "      <td>1972-12-19T12:20:04.977Z</td>\n",
              "      <td>https://randomuser.me/api/portraits/men/85.jpg</td>\n",
              "    </tr>\n",
              "    <tr>\n",
              "      <th>3</th>\n",
              "      <td>Samu Pesola</td>\n",
              "      <td>male</td>\n",
              "      <td>Luumäki</td>\n",
              "      <td>Tavastia Proper</td>\n",
              "      <td>samu.pesola@example.com</td>\n",
              "      <td>1988-05-10T12:38:26.654Z</td>\n",
              "      <td>https://randomuser.me/api/portraits/men/50.jpg</td>\n",
              "    </tr>\n",
              "    <tr>\n",
              "      <th>4</th>\n",
              "      <td>Jenny Hovind</td>\n",
              "      <td>female</td>\n",
              "      <td>Solerød</td>\n",
              "      <td>Vest-Agder</td>\n",
              "      <td>jenny.hovind@example.com</td>\n",
              "      <td>1980-12-28T01:23:52.214Z</td>\n",
              "      <td>https://randomuser.me/api/portraits/women/91.jpg</td>\n",
              "    </tr>\n",
              "    <tr>\n",
              "      <th>5</th>\n",
              "      <td>Marilou Romme</td>\n",
              "      <td>female</td>\n",
              "      <td>Ossenzijl</td>\n",
              "      <td>Utrecht</td>\n",
              "      <td>marilou.romme@example.com</td>\n",
              "      <td>1955-08-25T01:41:52.797Z</td>\n",
              "      <td>https://randomuser.me/api/portraits/women/84.jpg</td>\n",
              "    </tr>\n",
              "    <tr>\n",
              "      <th>6</th>\n",
              "      <td>Franklin Stanley</td>\n",
              "      <td>male</td>\n",
              "      <td>San Mateo</td>\n",
              "      <td>West Virginia</td>\n",
              "      <td>franklin.stanley@example.com</td>\n",
              "      <td>1967-06-30T13:45:11.106Z</td>\n",
              "      <td>https://randomuser.me/api/portraits/men/10.jpg</td>\n",
              "    </tr>\n",
              "    <tr>\n",
              "      <th>7</th>\n",
              "      <td>Patrice Vincent</td>\n",
              "      <td>male</td>\n",
              "      <td>Vich</td>\n",
              "      <td>Genève</td>\n",
              "      <td>patrice.vincent@example.com</td>\n",
              "      <td>1989-08-12T14:01:29.267Z</td>\n",
              "      <td>https://randomuser.me/api/portraits/men/43.jpg</td>\n",
              "    </tr>\n",
              "    <tr>\n",
              "      <th>8</th>\n",
              "      <td>Sanni Leppanen</td>\n",
              "      <td>female</td>\n",
              "      <td>Muurame</td>\n",
              "      <td>Northern Savonia</td>\n",
              "      <td>sanni.leppanen@example.com</td>\n",
              "      <td>1945-04-21T08:54:35.513Z</td>\n",
              "      <td>https://randomuser.me/api/portraits/women/9.jpg</td>\n",
              "    </tr>\n",
              "    <tr>\n",
              "      <th>9</th>\n",
              "      <td>Alisa Hautala</td>\n",
              "      <td>female</td>\n",
              "      <td>Kajaani</td>\n",
              "      <td>Kainuu</td>\n",
              "      <td>alisa.hautala@example.com</td>\n",
              "      <td>1960-02-20T04:25:39.073Z</td>\n",
              "      <td>https://randomuser.me/api/portraits/women/22.jpg</td>\n",
              "    </tr>\n",
              "  </tbody>\n",
              "</table>\n",
              "</div>\n",
              "      <button class=\"colab-df-convert\" onclick=\"convertToInteractive('df-3d86ef51-60f6-426c-9fca-117a6ca98457')\"\n",
              "              title=\"Convert this dataframe to an interactive table.\"\n",
              "              style=\"display:none;\">\n",
              "        \n",
              "  <svg xmlns=\"http://www.w3.org/2000/svg\" height=\"24px\"viewBox=\"0 0 24 24\"\n",
              "       width=\"24px\">\n",
              "    <path d=\"M0 0h24v24H0V0z\" fill=\"none\"/>\n",
              "    <path d=\"M18.56 5.44l.94 2.06.94-2.06 2.06-.94-2.06-.94-.94-2.06-.94 2.06-2.06.94zm-11 1L8.5 8.5l.94-2.06 2.06-.94-2.06-.94L8.5 2.5l-.94 2.06-2.06.94zm10 10l.94 2.06.94-2.06 2.06-.94-2.06-.94-.94-2.06-.94 2.06-2.06.94z\"/><path d=\"M17.41 7.96l-1.37-1.37c-.4-.4-.92-.59-1.43-.59-.52 0-1.04.2-1.43.59L10.3 9.45l-7.72 7.72c-.78.78-.78 2.05 0 2.83L4 21.41c.39.39.9.59 1.41.59.51 0 1.02-.2 1.41-.59l7.78-7.78 2.81-2.81c.8-.78.8-2.07 0-2.86zM5.41 20L4 18.59l7.72-7.72 1.47 1.35L5.41 20z\"/>\n",
              "  </svg>\n",
              "      </button>\n",
              "      \n",
              "  <style>\n",
              "    .colab-df-container {\n",
              "      display:flex;\n",
              "      flex-wrap:wrap;\n",
              "      gap: 12px;\n",
              "    }\n",
              "\n",
              "    .colab-df-convert {\n",
              "      background-color: #E8F0FE;\n",
              "      border: none;\n",
              "      border-radius: 50%;\n",
              "      cursor: pointer;\n",
              "      display: none;\n",
              "      fill: #1967D2;\n",
              "      height: 32px;\n",
              "      padding: 0 0 0 0;\n",
              "      width: 32px;\n",
              "    }\n",
              "\n",
              "    .colab-df-convert:hover {\n",
              "      background-color: #E2EBFA;\n",
              "      box-shadow: 0px 1px 2px rgba(60, 64, 67, 0.3), 0px 1px 3px 1px rgba(60, 64, 67, 0.15);\n",
              "      fill: #174EA6;\n",
              "    }\n",
              "\n",
              "    [theme=dark] .colab-df-convert {\n",
              "      background-color: #3B4455;\n",
              "      fill: #D2E3FC;\n",
              "    }\n",
              "\n",
              "    [theme=dark] .colab-df-convert:hover {\n",
              "      background-color: #434B5C;\n",
              "      box-shadow: 0px 1px 3px 1px rgba(0, 0, 0, 0.15);\n",
              "      filter: drop-shadow(0px 1px 2px rgba(0, 0, 0, 0.3));\n",
              "      fill: #FFFFFF;\n",
              "    }\n",
              "  </style>\n",
              "\n",
              "      <script>\n",
              "        const buttonEl =\n",
              "          document.querySelector('#df-3d86ef51-60f6-426c-9fca-117a6ca98457 button.colab-df-convert');\n",
              "        buttonEl.style.display =\n",
              "          google.colab.kernel.accessAllowed ? 'block' : 'none';\n",
              "\n",
              "        async function convertToInteractive(key) {\n",
              "          const element = document.querySelector('#df-3d86ef51-60f6-426c-9fca-117a6ca98457');\n",
              "          const dataTable =\n",
              "            await google.colab.kernel.invokeFunction('convertToInteractive',\n",
              "                                                     [key], {});\n",
              "          if (!dataTable) return;\n",
              "\n",
              "          const docLinkHtml = 'Like what you see? Visit the ' +\n",
              "            '<a target=\"_blank\" href=https://colab.research.google.com/notebooks/data_table.ipynb>data table notebook</a>'\n",
              "            + ' to learn more about interactive tables.';\n",
              "          element.innerHTML = '';\n",
              "          dataTable['output_type'] = 'display_data';\n",
              "          await google.colab.output.renderOutput(dataTable, element);\n",
              "          const docLink = document.createElement('div');\n",
              "          docLink.innerHTML = docLinkHtml;\n",
              "          element.appendChild(docLink);\n",
              "        }\n",
              "      </script>\n",
              "    </div>\n",
              "  </div>\n",
              "  "
            ]
          },
          "metadata": {},
          "execution_count": 50
        }
      ]
    }
  ]
}