{
  "nbformat": 4,
  "nbformat_minor": 0,
  "metadata": {
    "colab": {
      "provenance": [],
      "toc_visible": true,
      "mount_file_id": "1GNByOTGFntOtfHmtiIdQkSlkZ7GFbuAj",
      "authorship_tag": "ABX9TyPg8kTLBi7bGxQUId1JCrxk",
      "include_colab_link": true
    },
    "kernelspec": {
      "name": "python3",
      "display_name": "Python 3"
    },
    "language_info": {
      "name": "python"
    }
  },
  "cells": [
    {
      "cell_type": "markdown",
      "metadata": {
        "id": "view-in-github",
        "colab_type": "text"
      },
      "source": [
        "<a href=\"https://colab.research.google.com/github/rodrigoromanguzman/Actividades_Aprendizaje-/blob/main/language_model_rnn_from_zero.ipynb\" target=\"_parent\"><img src=\"https://colab.research.google.com/assets/colab-badge.svg\" alt=\"Open In Colab\"/></a>"
      ]
    },
    {
      "cell_type": "code",
      "execution_count": 2,
      "metadata": {
        "id": "8bHMJ7LQ3WOn"
      },
      "outputs": [],
      "source": [
        "import numpy as np\n",
        "\n",
        "# Utility libraries\n",
        "import random\n",
        "import re\n",
        "\n",
        "\n",
        "from google.colab import drive\n"
      ]
    },
    {
      "cell_type": "code",
      "source": [
        "drive.mount('/content/drive')"
      ],
      "metadata": {
        "colab": {
          "base_uri": "https://localhost:8080/"
        },
        "id": "zcruplZaz2cs",
        "outputId": "45c2f7a0-6ec6-4526-f96b-35a9983c2ba9"
      },
      "execution_count": 3,
      "outputs": [
        {
          "output_type": "stream",
          "name": "stdout",
          "text": [
            "Drive already mounted at /content/drive; to attempt to forcibly remount, call drive.mount(\"/content/drive\", force_remount=True).\n"
          ]
        }
      ]
    },
    {
      "cell_type": "code",
      "source": [
        "news_s_path = \"/content/drive/MyDrive/newsSpace\""
      ],
      "metadata": {
        "id": "5USCIixw0paW"
      },
      "execution_count": 4,
      "outputs": []
    },
    {
      "cell_type": "code",
      "source": [
        "# Utility function for detecting urls\n",
        "def is_url(s):\n",
        "    # A simple regex to check for a basic URL structure\n",
        "    return re.match(r'https?://', s) is not None\n"
      ],
      "metadata": {
        "id": "HZWg_1WuDAfh"
      },
      "execution_count": 5,
      "outputs": []
    },
    {
      "cell_type": "code",
      "source": [
        "# We will separate the batches as the elements from an individual article\n",
        "data_articles = []\n",
        "# Lets collect all the unique ocurrences of each word\n",
        "# to create the dictionary\n",
        "vocabulary = set([])\n",
        "with open(news_s_path, encoding='ISO-8859-1') as f:\n",
        "    while True:\n",
        "        line = f.readline()\n",
        "        if not line:\n",
        "            break\n",
        "        data_line = line.strip().split()\n",
        "        url_index = next((i for i, item in enumerate(data_line) if is_url(item)), None)\n",
        "        # We will get only the articles which have a url\n",
        "        if url_index is not None:\n",
        "          # We take after the url\n",
        "          article = line.strip().split()[url_index+1::]\n",
        "          [vocabulary.add(i) for i in article]\n",
        "          data_articles.append(article)\n",
        "print(data_articles[:100])\n",
        "print(list(vocabulary)[:200])\n"
      ],
      "metadata": {
        "colab": {
          "base_uri": "https://localhost:8080/"
        },
        "id": "xt4wscHo214n",
        "outputId": "084ab52b-0862-49a5-da63-75e960fc0dbc"
      },
      "execution_count": 6,
      "outputs": [
        {
          "output_type": "stream",
          "name": "stdout",
          "text": [
            "[['Wall', 'St.', 'Pullback', 'Reflects', 'Tech', 'Blowout', '(Reuters)', 'none', 'Business', 'Reuters', '-', 'Wall', \"Street's\", 'long-playing', 'drama,\\\\'], ['Wall', 'St.', 'Bears', 'Claw', 'Back', 'Into', 'the', 'Black', '(Reuters)', 'none', 'Business', 'Reuters', '-', 'Short-sellers,', 'Wall', \"Street's\", 'dwindling\\\\'], ['Carlyle', 'Looks', 'Toward', 'Commercial', 'Aerospace', '(Reuters)', 'none', 'Business', 'Reuters', '-', 'Private', 'investment', 'firm', 'Carlyle', 'Group,\\\\'], ['Oil', 'and', 'Economy', 'Cloud', \"Stocks'\", 'Outlook', '(Reuters)', 'none', 'Business', 'Reuters', '-', 'Soaring', 'crude', 'prices', 'plus', 'worries\\\\'], ['Iraq', 'Halts', 'Oil', 'Exports', 'from', 'Main', 'Southern', 'Pipeline', '(Reuters)', 'none', 'Business', 'Reuters', '-', 'Authorities', 'have', 'halted', 'oil', 'export\\\\'], ['Oil', 'prices', 'soar', 'to', 'all-time', 'record,', 'posing', 'new', 'menace', 'to', 'US', 'economy', '(AFP)', 'none', 'Business', 'AFP', '-', 'Tearaway', 'world', 'oil', 'prices,', 'toppling', 'records', 'and', 'straining', 'wallets,', 'present', 'a', 'new', 'economic', 'menace', 'barely', 'three', 'months', 'before', 'the', 'US', 'presidential', 'elections.', '5', '0000-00-00', '00:00:00', '\\\\N'], ['Stocks', 'End', 'Up,', 'But', 'Near', 'Year', 'Lows', '(Reuters)', 'none', 'Business', 'Reuters', '-', 'Stocks', 'ended', 'slightly', 'higher', 'on', 'Friday\\\\'], ['Money', 'Funds', 'Fell', 'in', 'Latest', 'Week', '(AP)', 'none', 'Business', 'AP', '-', 'Assets', 'of', 'the', \"nation's\", 'retail', 'money', 'market', 'mutual', 'funds', 'fell', 'by', '&#36;1.17', 'billion', 'in', 'the', 'latest', 'week', 'to', '&#36;849.98', 'trillion,', 'the', 'Investment', 'Company', 'Institute', 'said', 'Thursday.', '5', '0000-00-00', '00:00:00', '\\\\N'], ['Fed', 'minutes', 'show', 'dissent', 'over', 'inflation', '(USATODAY.com)', 'none', 'Business', 'USATODAY.com', '-', 'Retail', 'sales', 'bounced', 'back', 'a', 'bit', 'in', 'July,', 'and', 'new', 'claims', 'for', 'jobless', 'benefits', 'fell', 'last', 'week,', 'the', 'government', 'said', 'Thursday,', 'indicating', 'the', 'economy', 'is', 'improving', 'from', 'a', 'midsummer', 'slump.', '5', '0000-00-00', '00:00:00', '\\\\N'], ['Safety', 'Net', '(Forbes.com)', 'none', 'Business', 'Forbes.com', '-', 'After', 'earning', 'a', 'PH.D.', 'in', 'Sociology,', 'Danny', 'Bazil', 'Riley', 'started', 'to', 'work', 'as', 'the', 'general', 'manager', 'at', 'a', 'commercial', 'real', 'estate', 'firm', 'at', 'an', 'annual', 'base', 'salary', 'of', '&#36;70,000.', 'Soon', 'after,', 'a', 'financial', 'planner', 'stopped', 'by', 'his', 'desk', 'to', 'drop', 'off', 'brochures', 'about', 'insurance', 'benefits', 'available', 'through', 'his', 'employer.', 'But,', 'at', '32,', '\"buying', 'insurance', 'was', 'the', 'furthest', 'thing', 'from', 'my', 'mind,\"', 'says', 'Riley.', '5', '0000-00-00', '00:00:00', '\\\\N'], ['Uprising', 'Keeps', 'Iraq', 'Oil', 'Exports', 'Halved', 'none', 'Business', 'BAGHDAD', '(Reuters)', '-', \"Iraq's\", 'oil', 'exports', 'were', 'still', 'running', 'at', 'half', 'their', 'normal', 'rate', 'Sunday', 'as', 'instability', 'due', 'to', 'an', 'anti-U.S.', 'uprising', 'prevented', 'the', 're-opening', 'of', 'a', 'main', 'pipeline', 'feeding', 'the', \"country's\", 'terminals', 'in', 'the', 'Gulf.', '5', '0000-00-00', '00:00:00', '\\\\N'], ['Wall', 'St.', 'Pullback', 'Reflects', 'Tech', 'Blowout', 'none', 'Business', 'NEW', 'YORK', '(Reuters)', '-', 'Wall', \"Street's\", 'long-playing', 'drama,', '\"Waiting', 'for', 'Google,\"', 'is', 'about', 'to', 'reach', 'its', 'final', 'act,', 'but', 'its', 'stock', 'market', 'debut', 'is', 'ending', 'up', 'as', 'more', 'of', 'a', 'nostalgia', 'event', 'than', 'the', 'catalyst', 'for', 'a', 'new', 'era.', '5', '2004-08-18', '22:53:24', '\\\\N'], ['Wall', 'St.', 'Bears', 'Claw', 'Back', 'Into', 'the', 'Black', 'none', 'Business', 'NEW', 'YORK', '(Reuters)', '-', 'Short-sellers,', 'Wall', \"Street's\", 'dwindling', 'band', 'of', 'ultra-cynics,', 'are', 'seeing', 'green', 'again.', '5', '0000-00-00', '00:00:00', '\\\\N'], ['Carlyle', 'Looks', 'Toward', 'Commercial', 'Aerospace', 'none', 'Business', 'NEW', 'YORK', '(Reuters)', '-', 'Private', 'investment', 'firm', 'Carlyle', 'Group,', 'which', 'has', 'a', 'reputation', 'for', 'making', 'well-timed', 'and', 'occasionally', 'controversial', 'plays', 'in', 'the', 'defense', 'industry,', 'has', 'quietly', 'placed', 'its', 'bets', 'on', 'another', 'part', 'of', 'the', 'market.', '5', '2004-08-18', '22:53:27', '\\\\N'], ['Oil', 'and', 'Economy', 'Cloud', \"Stocks'\", 'Outlook', 'none', 'Business', 'NEW', 'YORK', '(Reuters)', '-', 'Soaring', 'crude', 'prices', 'plus', 'worries', 'about', 'the', 'economy', 'and', 'the', 'outlook', 'for', 'earnings', 'are', 'expected', 'to', 'hang', 'over', 'the', 'stock', 'market', 'next', 'week', 'during', 'the', 'depth', 'of', 'the', 'summer', 'doldrums.', '5', '0000-00-00', '00:00:00', '\\\\N'], ['GlaxoSmithKline:', 'CFO', 'to', 'Retire', 'in', 'March', 'none', 'Business', 'LONDON', '(Reuters)', '-', 'GlaxoSmithKline', '<GSK.L>', 'Chief', 'Financial', 'Officer', 'John', 'Coombe', 'is', 'set', 'to', 'retire', 'in', 'March', 'when', 'he', 'turns', '60,', 'the', 'company', 'said', 'on', 'Saturday.', '5', '2004-08-18', '22:53:29', '\\\\N'], ['No', 'Need', 'for', 'OPEC', 'to', 'Pump', 'More-Iran', 'Gov', 'none', 'Business', 'TEHRAN', '(Reuters)', '-', 'OPEC', 'can', 'do', 'nothing', 'to', 'douse', 'scorching', 'oil', 'prices', 'when', 'markets', 'are', 'already', 'oversupplied', 'by', '2.8', 'million', 'barrels', 'per', 'day', '(bpd)', 'of', 'crude,', \"Iran's\", 'OPEC', 'governor', 'said', 'Saturday,', 'warning', 'that', 'prices', 'could', 'fall', 'sharply.', '5', '2004-08-18', '22:53:32', '\\\\N'], ['Non-OPEC', 'Nations', 'Should', 'Up', 'Output-Purnomo', 'none', 'Business', 'JAKARTA', '(Reuters)', '-', 'Non-OPEC', 'oil', 'exporters', 'should', 'consider', 'increasing', 'output', 'to', 'cool', 'record', 'crude', 'prices,', 'OPEC', 'President', 'Purnomo', 'Yusgiantoro', 'said', 'on', 'Sunday.', '5', '2004-08-18', '22:53:34', '\\\\N'], ['Google', 'IPO', 'Auction', 'Off', 'to', 'Rocky', 'Start', 'none', 'Business', 'WASHINGTON/NEW', 'YORK', '(Reuters)', '-', 'The', 'auction', 'for', 'Google', \"Inc.'s\", 'highly', 'anticipated', 'initial', 'public', 'offering', 'got', 'off', 'to', 'a', 'rocky', 'start', 'on', 'Friday', 'after', 'the', 'Web', 'search', 'company', 'sidestepped', 'a', 'bullet', 'from', 'U.S.', 'securities', 'regulators.', '5', '0000-00-00', '00:00:00', '\\\\N'], ['Dollar', 'Falls', 'Broadly', 'on', 'Record', 'Trade', 'Gap', 'none', 'Business', 'NEW', 'YORK', '(Reuters)', '-', 'The', 'dollar', 'tumbled', 'broadly', 'on', 'Friday', 'after', 'data', 'showing', 'a', 'record', 'U.S.', 'trade', 'deficit', 'in', 'June', 'cast', 'fresh', 'doubts', 'on', 'the', \"economy's\", 'recovery', 'and', 'its', 'ability', 'to', 'draw', 'foreign', 'capital', 'to', 'fund', 'the', 'growing', 'gap.', '5', '2004-08-18', '22:53:37', '\\\\N'], ['Rescuing', 'an', 'Old', 'Saver', 'none', 'Business', 'If', 'you', 'think', 'you', 'may', 'need', 'to', 'help', 'your', 'elderly', 'relatives', 'with', 'their', 'finances,', \"don't\", 'be', 'shy', 'about', 'having', 'the', 'money', 'talk', '--', 'soon.', '5', '2004-08-18', '22:53:40', '\\\\N'], ['Kids', 'Rule', 'for', 'Back-to-School', 'none', 'Business', 'The', 'purchasing', 'power', 'of', 'kids', 'is', 'a', 'big', 'part', 'of', 'why', 'the', 'back-to-school', 'season', 'has', 'become', 'such', 'a', 'huge', 'marketing', 'phenomenon.', '5', '2004-08-18', '22:53:43', '\\\\N'], ['In', 'a', 'Down', 'Market,', 'Head', 'Toward', 'Value', 'Funds', 'none', 'Business', 'There', 'is', 'little', 'cause', 'for', 'celebration', 'in', 'the', 'stock', 'market', 'these', 'days,', 'but', 'investors', 'in', 'value-focused', 'mutual', 'funds', 'have', 'reason', 'to', 'feel', 'a', 'bit', 'smug', '--', 'if', 'only', 'because', \"they've\", 'lost', 'less', 'than', 'the', 'folks', 'who', 'stuck', 'with', 'growth.', '5', '2004-08-18', '22:53:46', '\\\\N'], ['US', 'trade', 'deficit', 'swells', 'in', 'June', 'none', 'Business', 'The', 'US', 'trade', 'deficit', 'has', 'exploded', '19%', 'to', 'a', 'record', '$55.8bn', 'as', 'oil', 'costs', 'drove', 'imports', 'higher,', 'according', 'to', 'a', 'latest', 'figures.', '5', '0000-00-00', '00:00:00', '\\\\N'], ['Crude', 'oil', 'prices', 'jump', 'to', 'new', 'high', 'none', 'Business', 'The', 'price', 'of', 'crude', 'oil', 'reaches', 'new', 'record', 'levels', 'amid', 'concerns', 'about', 'possible', 'unrest', 'in', 'Venezuela', 'and', 'the', 'threat', 'of', 'sabotage', 'in', 'Iraq.', '5', '0000-00-00', '00:00:00', '\\\\N'], ['Shell', \"'could\", 'be', 'target', 'for', \"Total'\", 'none', 'Business', 'Oil', 'giant', 'Shell', 'could', 'be', 'bracing', 'itself', 'for', 'a', 'takeover', 'attempt,', 'possibly', 'from', 'French', 'rival', 'Total,', 'a', 'press', 'report', 'claims.', '5', '0000-00-00', '00:00:00', '\\\\N'], ['Google', 'IPO', 'faces', 'Playboy', 'slip-up', 'none', 'Business', 'The', 'bidding', 'gets', 'underway', 'for', \"Google's\", 'public', 'offering,', 'despite', 'last-minute', 'worries', 'over', 'an', 'interview', 'with', 'its', 'bosses', 'in', 'Playboy', 'magazine.', '5', '0000-00-00', '00:00:00', '\\\\N'], ['Eurozone', 'economy', 'keeps', 'growing', 'none', 'Business', 'Official', 'figures', 'show', 'the', '12-nation', 'eurozone', 'economy', 'continues', 'to', 'grow,', 'but', 'there', 'are', 'warnings', 'it', 'may', 'slow', 'down', 'later', 'in', 'the', 'year.', '5', '0000-00-00', '00:00:00', '\\\\N'], ['Swatch', 'dismisses', 'tax', 'allegations', 'none', 'Business', 'Swiss', 'watchmaker', 'Swatch,', 'official', 'timekeeper', 'to', 'the', 'Athens', 'Olympics,', 'denies', 'allegations', 'of', 'tax', 'and', 'customs', 'duty', 'evasion.', '5', '0000-00-00', '00:00:00', '\\\\N'], ['Expansion', 'slows', 'in', 'Japan', 'none', 'Business', 'Economic', 'growth', 'in', 'Japan', 'slows', 'down', 'as', 'the', 'country', 'experiences', 'a', 'drop', 'in', 'domestic', 'and', 'corporate', 'spending.', '5', '0000-00-00', '00:00:00', '\\\\N'], ['Rand', 'falls', 'on', 'shock', 'SA', 'rate', 'cut', 'none', 'Business', 'Interest', 'rates', 'are', 'trimmed', 'to', '7.5%', 'by', 'the', 'South', 'African', 'central', 'bank,', 'but', 'the', 'lack', 'of', 'warning', 'hits', 'the', 'rand', 'and', 'surprises', 'markets.', '5', '0000-00-00', '00:00:00', '\\\\N'], ['Car', 'prices', 'down', 'across', 'the', 'board', 'none', 'Business', 'The', 'cost', 'of', 'buying', 'both', 'new', 'and', 'second', 'hand', 'cars', 'fell', 'sharply', 'over', 'the', 'past', 'five', 'years,', 'a', 'new', 'survey', 'has', 'found.', '5', '0000-00-00', '00:00:00', '\\\\N'], ['South', 'Korea', 'lowers', 'interest', 'rates', 'none', 'Business', 'South', \"Korea's\", 'central', 'bank', 'cuts', 'interest', 'rates', 'by', 'a', 'quarter', 'percentage', 'point', 'to', '3.5%', 'in', 'a', 'bid', 'to', 'drive', 'growth', 'in', 'the', 'economy.', '5', '2004-08-18', '22:53:48', '\\\\N'], ['Google', 'auction', 'begins', 'on', 'Friday', 'none', 'Business', 'An', 'auction', 'of', 'shares', 'in', 'Google,', 'the', 'web', 'search', 'engine', 'which', 'could', 'be', 'floated', 'for', 'as', 'much', 'as', '$36bn,', 'takes', 'place', 'on', 'Friday.', '5', '0000-00-00', '00:00:00', '\\\\N'], ['HP', 'shares', 'tumble', 'on', 'profit', 'news', 'none', 'Business', 'Hewlett-Packard', 'shares', 'fall', 'after', 'disappointing', 'third-quarter', 'profits,', 'while', 'the', 'firm', 'warns', 'the', 'final', 'quarter', 'will', 'also', 'fall', 'short', 'of', 'expectations.', '5', '0000-00-00', '00:00:00', '\\\\N'], ['Mauritian', 'textile', 'firm', 'cuts', 'jobs', 'none', 'Business', 'One', 'of', 'the', 'oldest', 'textile', 'operators', 'on', 'the', 'Indian', 'Ocean', 'island', 'of', 'Mauritius', 'last', 'week', 'shut', 'seven', 'factories', 'and', 'cut', '900', 'jobs.', '5', '0000-00-00', '00:00:00', '\\\\N'], ['Chad', 'seeks', 'refugee', 'aid', 'from', 'IMF', 'none', 'Business', 'Chad', 'asks', 'the', 'IMF', 'for', 'a', 'loan', 'to', 'pay', 'for', 'looking', 'after', 'more', 'than', '100,000', 'refugees', 'from', 'conflict-torn', 'Darfur', 'in', 'western', 'Sudan.', '5', '0000-00-00', '00:00:00', '\\\\N'], ['Wal-Mart', 'to', 'appeal', 'sex', 'bias', 'case', 'none', 'Business', 'Wal-Mart,', 'the', \"world's\", 'largest', 'retailer,', 'has', 'been', 'given', 'the', 'right', 'to', 'appeal', 'a', 'US', \"judge's\", 'order', 'giving', 'the', 'go-ahead', 'for', 'a', 'huge', 'sex', 'discrimination', 'lawsuit.', '5', '2004-08-18', '22:53:50', '\\\\N'], ['Heavy', 'competition', 'hits', 'Toys-R-Us', 'none', 'Business', 'US', 'retailer', 'Toys-R-Us', 'may', 'sell', 'its', '\\\\'], ['Japan', 'nuclear', 'firm', 'shuts', 'plants', 'none', 'Business', 'The', 'company', 'running', 'the', 'Japanese', 'nuclear', 'plant', 'hit', 'by', 'a', 'fatal', 'accident', 'is', 'to', 'close', 'its', 'reactors', 'for', 'safety', 'checks.', '5', '0000-00-00', '00:00:00', '\\\\N'], ['Merger', 'forms', \"world's\", 'biggest', 'bank', 'none', 'Business', \"Japan's\", 'Mitsubishi', 'Tokyo', 'Financial', 'Group', 'signs', 'a', 'deal', 'to', 'take', 'over', 'troubled', 'rival', 'UFJ', 'Holdings,', 'forming', 'the', \"world's\", 'largest', 'bank.', '5', '0000-00-00', '00:00:00', '\\\\N'], ['Veteran', 'inventor', 'in', 'market', 'float', 'none', 'Business', 'Trevor', 'Baylis,', 'the', 'veteran', 'inventor', 'famous', 'for', 'creating', 'the', 'Freeplay', 'clockwork', 'radio,', 'is', 'planning', 'to', 'float', 'his', 'company', 'on', 'the', 'stock', 'market.', '5', '0000-00-00', '00:00:00', '\\\\N'], ['Fears', 'for', 'T&N', 'pension', 'after', 'talks', 'none', 'Business', 'Unions', 'representing', 'workers', 'at', 'Turner', '&', 'Newall', 'say', 'they', 'are', \"'disappointed'\", 'after', 'talks', 'with', 'stricken', 'parent', 'firm', 'Federal', 'Mogul.', '5', '0000-00-00', '00:00:00', '\\\\N'], ['Saudi', 'Arabia', 'to', 'open', 'up', 'oil', 'taps', 'none', 'Business', 'Saudi', 'Arabia', 'says', 'it', 'is', 'ready', 'to', 'push', 'an', 'extra', '1.3', 'million', 'barrels', 'a', 'day', 'of', 'oil', 'into', 'the', 'market,', 'to', 'help', 'reverse', 'surging', 'prices.', '5', '0000-00-00', '00:00:00', '\\\\N'], ['Saudi', 'phone', 'sector', 'gets', '$1bn', 'lift', 'none', 'Business', 'A', 'group', 'led', 'by', 'the', \"UAE's\", 'Etisalat', 'plans', 'to', 'spend', '$1bn', '(Â£544m)', 'on', 'expansion', 'after', 'winning', 'two', 'mobile', 'phone', 'licences', 'in', 'Saudi', 'Arabia.', '5', '0000-00-00', '00:00:00', '\\\\N'], ['Indians', 'fill', 'rail', 'skills', 'shortage', 'http___newsimg.bbc.co.uk_media_images_39296000_jpg__39296313_liverr.jpg.gif', 'Business', 'Network', 'Rail', 'flies', 'in', 'specialist', 'Indian', 'engineers', 'to', 'work', 'on', 'the', 'West', 'Coast', 'Mainline', 'because', 'of', 'a', 'UK', 'skills', 'shortage.', '5', '2004-08-18', '22:50:39', '\\\\N'], ['Cairn', 'Energy', 'takes', 'drill', 'to', 'Nepal', 'none', 'Business', 'British', 'oil', 'and', 'gas', 'firm', 'Cairn', 'Energy', 'has', 'signed', 'a', 'deal', 'with', 'Nepal', 'to', 'explore', 'five', 'new', 'drilling', 'areas', 'in', 'the', 'Himalayan', 'kingdom.', '5', '0000-00-00', '00:00:00', '\\\\N'], ['Globe', '--', 'Business', 'News', 'A', 'hotel', 'icon', 'guides', 'an', 'empire,', 'and', 'chooses', 'carpets', 'http___cache.boston.com_bonzai-fba_File-Based_Image_Resource_globe_archives_logo.gif.gif', 'Business', 'When', 'J.', 'Willard', 'Marriott', 'Jr.', 'popped', 'into', 'Boston', 'recently,', 'it', 'was', 'an', 'opportunity', 'to', 'talk', 'with', 'one', 'of', 'the', 'most', 'recognizable', 'names', 'in', 'the', 'world', 'about', 'the', 'business', 'he', 'knows', 'best:', 'hotels.', 'From', 'a', 'conference', 'room', 'in', 'the', 'Marriott', 'Copley', 'Plaza,', 'the', '72-year-old', 'chairman', 'and', 'namesake', 'of', 'the', '2,700-hotel', 'Marriott', 'Hotels', 'International', 'chain', 'spoke', 'with', 'Globe', 'reporter', 'Keith', 'Reed', 'on', '...', '4', '2004-08-18', '22:50:44', '\\\\N'], ['Globe', '--', 'Business', 'News', 'Steady', 'as', 'they', 'go', 'http___cache.boston.com_bonzai-fba_File-Based_Image_Resource_globe_archives_logo.gif.gif', 'Business', 'BEDFORD', '--', 'Scientists', 'at', 'NitroMed', 'Inc.', 'hope', 'their', 'experimental', 'drugs', 'will', 'cure', 'heart', 'disease', 'someday.', 'But', 'lately', 'their', 'focus', 'has', 'been', 'on', 'more', 'mundane', 'matters.', '4', '2004-08-18', '22:50:46', '\\\\N'], ['Globe', '--', 'Business', 'News', 'Google', 'IPO:', 'Type', 'in', \"'confusing,'\", \"'secrecy'\", 'http___cache.boston.com_bonzai-fba_File-Based_Image_Resource_globe_archives_logo.gif.gif', 'Business', \"I've\", 'submitted', 'my', 'bid', 'to', 'buy', 'shares', 'of', 'Google', 'Inc.', 'in', 'the', 'computer', 'search', \"company's\", 'giant', 'auction-style', 'initial', 'public', 'offering.', 'That', 'could', 'turn', 'out', 'to', 'be', 'the', 'good', 'news', 'or', 'the', 'bad', 'news.', '4', '2004-08-18', '22:50:49', '\\\\N'], ['Globe', '--', 'Business', 'News', 'A', 'bargain', \"hunter's\", 'paradise', 'http___cache.boston.com_bonzai-fba_File-Based_Image_Resource_globe_archives_logo.gif.gif', 'Business', 'Massachusetts', 'bargain', 'hunters', 'showed', 'up', 'in', 'droves', 'and', 'shopped', 'hard', 'on', \"yesterday's\", 'sales', 'tax', 'holiday,', 'buying', 'everything', 'from', 'treadmills', 'and', 'snow', 'blowers', 'to', 'candles', 'and', 'chandeliers,', 'and', 'crediting', 'the', '5-percent', 'tax', 'break', 'with', 'bringing', 'them', 'into', 'the', 'stores.', '4', '2004-08-18', '22:50:51', '\\\\N'], ['Globe', '--', 'Business', 'News', 'Researchers', 'seek', 'to', 'untangle', 'the', 'e-mail', 'thread', 'http___cache.boston.com_bonzai-fba_File-Based_Image_Resource_globe_archives_logo.gif.gif', 'Business', 'E-mail', 'is', 'a', 'victim', 'of', 'its', 'own', 'success.', \"That's\", 'the', 'conclusion', 'of', 'IBM', 'Corp.', 'researchers', 'in', 'Cambridge,', 'who', 'have', 'spent', 'nearly', 'a', 'decade', 'conducting', 'field', 'tests', 'at', 'IBM', 'and', 'other', 'companies', 'about', 'how', 'employees', 'work', 'and', 'use', 'electronic', 'mail.', \"It's\", 'clear', 'to', 'them', 'that', 'e-mail', 'has', 'become', 'the', \"Internet's\", 'killer', 'application.', '4', '2004-08-18', '22:50:53', '\\\\N'], ['Globe', '--', 'Business', 'News', 'Microsoft', 'Corp.', '2.0:', 'a', 'kinder', 'corporate', 'culture', 'http___cache.boston.com_bonzai-fba_File-Based_Image_Resource_globe_archives_logo.gif.gif', 'Business', 'Even', 'a', 'genius', 'can', 'mess', 'up.', 'Bill', 'Gates', 'was', 'a', 'brilliant', 'technologist', 'when', 'he', 'cofounded', 'Microsoft', ',', 'but', 'as', 'he', 'guided', 'it', 'to', 'greatness', 'in', 'both', 'size', 'and', 'historical', 'consequence,', 'he', 'blundered.', 'He', 'terrorized', 'underlings', 'with', 'his', 'temper', 'and', 'parceled', 'out', 'praise', 'like', 'Scrooge', 'gave', 'to', 'charity.', 'Only', 'the', 'lash', 'inspired', 'the', 'necessary', 'aggressiveness', 'to', 'beat', 'the', 'competition,', 'he', 'thought.', '4', '2004-08-18', '22:50:55', '\\\\N'], ['Globe', '--', 'Business', 'News', 'Letters', 'http___cache.boston.com_bonzai-fba_File-Based_Image_Resource_globe_archives_logo.gif.gif', 'Business', 'Target', 'the', 'abusers', 'of', 'legal', 'weapons', 'We', 'can', 'all', 'share', 'the', 'outrage,', 'expressed', 'by', 'columnist', 'Steve', 'Bailey', \"(''Summer\", 'Sizzler,&quot;', 'Aug.', '11),', 'at', 'the', 'killings', 'in', 'the', \"city's\", 'poor', 'neighborhoods.', 'But', \"there's\", 'no', 'need', 'to', 'share', 'his', 'ignorance.', 'He', 'argues', 'for', 'renewal', 'of', 'the', 'so-called', 'assault', 'weapon', 'ban,', 'claiming', 'that', 'otherwise,', \"''UZIs\", 'and', 'AK-47s', 'could', 'again', 'be', 'flooding', 'the', 'streets.&quot;', 'His', '...', '4', '2004-08-18', '22:50:57', '\\\\N'], ['Globe', '--', 'Business', 'News', 'Retailers', 'try', 'to', 'meet', 'budget,', 'style', 'needs', 'http___cache.boston.com_bonzai-fba_File-Based_Image_Resource_globe_archives_logo.gif.gif', 'Business', 'NEW', 'YORK', '--', 'Apparel', 'retailers', 'are', 'hoping', 'their', 'back-to-school', 'fashions', 'will', 'make', 'the', 'grade', 'among', 'style-conscious', 'teens', 'and', 'young', 'adults', 'this', 'fall,', 'but', 'it', 'could', 'be', 'a', 'tough', 'sell,', 'with', 'students', 'and', 'parents', 'keeping', 'a', 'tighter', 'hold', 'on', 'their', 'wallets.', '4', '2004-08-18', '22:50:59', '\\\\N'], ['Globe', '--', 'Business', 'News', 'Bandaged', 'power', 'grid', 'still', 'vulnerable', 'http___cache.boston.com_bonzai-fba_File-Based_Image_Resource_globe_archives_logo.gif.gif', 'Business', 'In', 'the', 'year', 'since', 'the', 'largest', 'blackout', 'in', 'US', 'history,', 'utilities', 'have', 'fixed', 'many', 'of', 'the', 'problems', 'that', 'contributed', 'to', 'the', 'breakdown', 'but', 'still', \"haven't\", 'resolved', 'larger', 'issues', 'that', 'could', 'lead', 'to', 'future', 'outages,', 'according', 'to', 'industry', 'officials,', 'regulators,', 'and', 'specialists.', '4', '2004-08-18', '22:51:02', '\\\\N'], ['Globe', '--', 'Business', 'News', 'Checking', 'funds', 'too', 'often', 'is', 'wasted', 'effort', 'http___cache.boston.com_bonzai-fba_File-Based_Image_Resource_globe_archives_logo.gif.gif', 'Business', 'Larry', 'from', 'Scottsdale,', 'Ariz.,', 'was', 'trying', 'to', 'compliment', 'me', 'recently,', 'writing', 'that', \"''he\", 'reads', '[my]', 'column', 'every', 'week,', 'right', 'after', 'I', 'see', 'how', 'my', 'mutual', 'funds', 'are', 'doing.&quot;', '4', '2004-08-18', '22:51:04', '\\\\N'], ['Globe', '--', 'Business', 'News', 'A', 'post-bankruptcy', 'strategy', 'to', 'tackle', 'debts', 'http___cache.boston.com_bonzai-fba_File-Based_Image_Resource_globe_archives_logo.gif.gif', 'Business', 'How', 'should', 'I', 'stabilize', 'my', 'financial', 'future?', 'I', 'am', '44', 'years', 'old', 'and', 'my', 'wife', 'is', '38.', 'She', 'declared', 'bankruptcy', 'a', 'year', 'ago', 'under', 'her', 'own', 'name;', 'I', 'did', 'a', 'bankruptcy', 'in', '1997.', 'We', 'were', 'able', 'to', 'buy', 'a', 'house', 'in', 'May', 'with', 'an', 'adjustable-rate', 'mortgage', 'that', 'has', 'a', '7.99', 'percent', 'interest', 'rate', 'as', 'a', 'result', 'of', 'our', 'credit.', 'I', '...', '4', '2004-08-18', '22:51:06', '\\\\N'], ['Globe', '--', 'Business', 'News', 'Somewhere', 'between', 'gleam', 'and', 'gloom', 'http___cache.boston.com_bonzai-fba_File-Based_Image_Resource_globe_archives_logo.gif.gif', 'Business', 'President', 'Bush', 'has', 'been', 'saying', 'that', 'the', 'US', 'economy', 'has', \"''turned\", 'the', 'corner.&quot;', 'Democratic', 'presidential', 'candidate', 'Senator', 'John', 'F.', 'Kerry,', 'in', 'the', 'wake', 'of', 'this', \"month's\", 'poor', 'jobs', 'report,', 'quipped', 'that', 'it', 'was', 'more', 'like', 'a', 'U-turn.', '4', '2004-08-18', '22:51:08', '\\\\N'], ['Globe', '--', 'Business', 'News', 'Technology', 'company', 'sues', 'five', 'ex-employees', 'http___cache.boston.com_bonzai-fba_File-Based_Image_Resource_globe_archives_logo.gif.gif', 'Business', 'A', 'Marlborough-based', 'technology', 'company', 'is', 'suing', 'five', 'former', 'employees,', 'including', 'three', 'senior', 'managers,', 'for', 'allegedly', 'conspiring', 'against', 'their', 'employer', 'while', 'working', 'on', 'opening', 'a', 'competing', 'business.', '4', '2004-08-18', '22:51:10', '\\\\N'], ['Globe', '--', 'Business', 'News', 'Grant', 'to', 'aid', 'Lynn', 'Central', 'Square', 'http___cache.boston.com_bonzai-fba_File-Based_Image_Resource_globe_archives_logo.gif.gif', 'Business', 'Central', 'Square', 'in', 'Lynn', 'should', 'be', 'looking', 'a', 'bit', 'brighter.', 'New', 'sidewalks,', 'curbs,', 'fences,', 'lights,', 'landscaping,', 'and', 'road', 'improvements', 'are', 'planned', 'for', 'the', 'Gateway', 'Artisan', 'Block,', 'a', 'key', 'area', 'of', 'the', 'square,', 'with', '$830,000', 'in', 'state', 'grant', 'money', 'given', 'to', 'Lynn', 'last', 'week.', '4', '2004-08-18', '22:51:12', '\\\\N'], ['Globe', '--', 'Business', 'News', 'State', 'grant', 'to', 'aid', 'Lynn;', 'Bank', 'gives', 'Salem', '$10k', 'http___cache.boston.com_bonzai-fba_File-Based_Image_Resource_globe_archives_logo.gif.gif', 'Business', 'Central', 'Square', 'in', 'Lynn', 'should', 'be', 'looking', 'a', 'bit', 'brighter.', 'New', 'sidewalks,', 'curbs,', 'fences,', 'lights,', 'landscaping,', 'and', 'road', 'improvements', 'are', 'planned', 'for', 'the', 'Gateway', 'Artisan', 'Block,', 'a', 'key', 'area', 'of', 'the', 'square,', 'with', '$830,000', 'in', 'state', 'grant', 'money', 'given', 'to', 'Lynn', 'last', 'week.', '4', '2004-08-18', '22:51:14', '\\\\N'], ['A', 'New', 'Legal', 'Chapter', 'for', 'a', \"90's\", 'Flameout', 'none', 'Business', 'A', 'lawsuit', 'against', 'Gary', 'Winnick,', 'the', 'former', 'chief', 'of', 'Global', 'Crossing,', 'refocuses', 'attention', 'on', 'what', 'Mr.', 'Winnick', 'knew', 'about', 'his', \"company's\", 'finances', 'as', 'it', 'imploded.', '5', '0000-00-00', '00:00:00', '\\\\N'], ['Will', 'Russia,', 'the', 'Oil', 'Superpower,', 'Flex', 'Its', 'Muscles?', 'none', 'Business', 'Russia', 'is', 'again', 'emerging', 'as', 'a', 'superpower', '-', 'but', 'the', 'reason', 'has', 'less', 'to', 'do', 'with', 'nuclear', 'weapons', 'than', 'with', 'oil.', '5', '0000-00-00', '00:00:00', '\\\\N'], ['Switching', 'Titles,', 'if', 'Not', 'Gears,', 'at', 'Dell', 'none', 'Business', 'Kevin', 'B.', 'Rollins,', 'the', 'new', 'chief', 'executive', 'of', 'Dell,', 'talks', 'about', \"Dell's\", 'transitory', 'slip', 'in', 'customer', 'service,', 'and', 'why', 'he', 'sees', 'a', 'broader', 'technology', 'recovery', 'taking', 'place.', '5', '0000-00-00', '00:00:00', '\\\\N'], ['For', 'Sale:', 'The', 'Ultimate', 'Status', 'Symbol', 'none', 'Business', 'With', 'the', 'country', 'in', 'need', 'of', 'cash', 'and', 'rich', 'people', 'dying', 'to', 'show', 'off', 'their', 'wealth,', 'Mr.', 'Stein', 'proposes', 'a', 'unique', 'solution:', 'having', 'the', 'government', 'sell', 'titles', 'of', 'nobility.', '5', '0000-00-00', '00:00:00', '\\\\N'], ['How', 'Donated', 'Dollars', 'Turn', 'Into', 'Pennies', 'none', 'Business', 'Nonprofit', 'organizations', 'have', 'long', 'used', 'professional', 'fund-raisers', 'to', 'help', 'raise', 'cash,', 'often', 'losing', 'the', 'bulk', 'of', 'the', 'donations', 'to', 'the', \"fund-raiser's\", 'fee.', '5', '0000-00-00', '00:00:00', '\\\\N'], [\"Dell's\", 'Oh', 'So', 'Swell', 'none', 'Business', 'Plus,', 'IBM', 'wants', 'help,', 'and', 'is', 'Google', 'overexposed?', '5', '0000-00-00', '00:00:00', '\\\\N'], ['Isle', 'of', 'Capri', 'Antes', 'up', 'for', 'Growth', 'none', 'Business', 'The', 'casino', 'operator', 'posts', 'a', 'drop', 'in', 'earnings', 'amid', 'construction.', '5', '0000-00-00', '00:00:00', '\\\\N'], ['IBM:', 'Help', 'Wanted', 'none', 'Business', 'Amid', 'signs', 'of', 'a', 'mixed', 'recovery', 'in', 'tech,', 'Big', 'Blue', 'lays', 'out', 'a', 'plan', 'to', 'add', '18,000', 'workers.', '5', '0000-00-00', '00:00:00', '\\\\N'], ['Ignore', 'Your', 'Lender', 'none', 'Business', 'Banks', 'let', 'you', 'get', 'away', 'with', 'a', 'lot', 'more', 'than', 'you', 'should.', '5', '0000-00-00', '00:00:00', '\\\\N'], ['Quality', 'Gets', 'Swept', 'Away', 'none', 'Business', 'Quality', 'Distribution', 'is', 'hammered', 'after', 'reporting', 'a', 'large', 'loss', 'for', 'the', 'second', 'quarter.', '5', '2004-08-18', '22:53:55', '\\\\N'], ['Cashing', 'in', 'on', 'Digital', 'Video', 'http___g.fool.com_art_free_foolpromo_125x125_dbc_no.gif.gif', 'Business', 'Apple,', 'Avid,', 'and', 'Adobe', 'are', 'leading', 'actors', 'on', 'the', 'digital', 'video', 'stage.', '5', '2004-08-18', '22:51:42', '\\\\N'], ['Making', 'Your', 'Insurer', 'Pay', 'http___s0b.bluestreak.com_ix.e?ir&s=174724.gif', 'Business', 'If', 'Hurricane', 'Charley', 'blows', 'your', 'house', 'down,', 'how', 'can', 'you', 'make', 'your', 'insurance', 'company', 'pay?', '5', '2004-08-18', '22:53:59', '\\\\N'], ['BEA', 'Systems', 'Bucks', 'Up', 'http___view.atdmt.com_INV_view_thmtlfsi00100290inv_direct_01_.gif', 'Business', 'The', 'software', \"company's\", 'stock', 'rises', 'on', 'improved', 'second-quarter', 'numbers.', '5', '2004-08-18', '22:51:52', '\\\\N'], ['Foolish', 'Collective', 'none', 'Business', 'Reflections', 'on', 'a', 'first', 'Foolday.', '5', '0000-00-00', '00:00:00', '\\\\N'], ['Delightful', 'Dell', 'http___s0b.bluestreak.com_ix.e?ir&s=174724.gif', 'Business', 'The', \"company's\", 'results', 'show', 'that', \"it's\", 'not', 'grim', 'all', 'over', 'tech', 'world.', 'Just', 'all', 'of', 'it', 'that', \"isn't\", 'Dell.', '5', '2004-08-18', '22:51:59', '\\\\N'], [\"Chrysler's\", 'Bling', 'King', 'none', 'Business', 'After', 'a', 'tough', 'year,', \"Detroit's\", 'troubled', 'carmaker', 'is', 'back', '--', 'thanks', 'to', 'a', 'maverick', 'designer', 'and', 'a', 'car', 'that', 'is', 'dazzling', 'the', 'hip-hop', 'crowd', '5', '2004-08-18', '22:53:59', '\\\\N'], ['Why', 'Oil', 'Prices', \"Aren't\", 'Falling', 'none', 'Business', 'The', 'troubles', 'of', 'Yukos', 'drive', 'up', 'the', 'price', '5', '2004-08-18', '22:53:59', '\\\\N'], ['Punching', 'at', 'iTunes', 'none', 'Business', 'How', 'rivals', 'are', 'taking', 'aim', 'at', \"Apple's\", 'dominance', 'in', 'digital', 'music', '5', '2004-08-18', '22:54:00', '\\\\N'], ['Scion', 'Grows', 'Up', 'none', 'Business', \"Toyota's\", 'trendy', 'youth', 'brand', 'gets', 'a', 'sporty', 'coupe.', 'Will', 'kids', 'get', 'on', 'board?', '5', '2004-08-18', '22:54:00', '\\\\N'], [\"What's\", 'Cool', 'In', 'the', 'Pool', '...', '...', 'And', 'Hot', 'On', 'the', 'Deck', 'none', 'Business', 'Americans', 'are', 'spending', 'more', 'on', 'tricking', 'out', 'the', 'places', 'where', 'they', 'swim.', \"Here's\", 'a', 'look', 'at', 'the', 'new', 'wave', 'of', 'accessories', '5', '2004-08-18', '22:54:00', '\\\\N'], ['Che', 'Lives!', 'none', 'Business', 'The', '1960s', \"communist's\", 'famous', 'likeness', 'is', 'a', 'hot', 'item', 'for', 'modern-day', 'capitalists', '5', '2004-08-18', '22:54:00', '\\\\N'], ['Made', 'in', 'the', 'U.S.A.', 'http___i.timeinc.net_time_images_sp_healthbook.jpg.gif', 'Business', 'Where', 'does', 'that', 'hamburger', 'come', 'from?', 'Those', 'strawberries?', \"America's\", 'ranchers', 'and', 'farmers', 'think', 'you', 'have', 'the', 'right', 'to', 'know', '5', '2004-08-18', '22:52:05', '\\\\N'], ['The', 'Age', 'of', 'Doom', 'http___i.timeinc.net_time_archive_redesign_images_pre_cover.gif.gif', 'Business', 'In', '1993', 'six', 'geeks', 'had', 'a', 'digital', 'nightmare', 'that', 'changed', 'the', 'culture.', \"It's\", 'about', 'to', 'get', 'far', 'creepier', '5', '2004-08-18', '22:52:08', '\\\\N'], ['Hip', \"Hop's\", 'Online', 'Shop', 'http___i.timeinc.net_time_images_sp_healthbook.jpg.gif', 'Business', 'Celebrity', 'fashion', 'is', 'booming.', 'These', 'webpreneurs', 'are', 'bringing', 'it', 'to', 'main', 'street', '5', '2004-08-18', '22:52:10', '\\\\N'], ['Stoking', 'the', 'Steamroller', 'http___i.timeinc.net_time_images_sp_healthbook.jpg.gif', 'Business', 'No', 'other', 'recording', 'artist', 'can', 'channel', 'American', 'middle-class', 'tastes', 'quite', 'like', 'Chip', 'Davis', 'and', 'his', 'best-selling', 'band', '5', '2004-08-18', '22:52:12', '\\\\N'], ['Coming', 'to', 'The', 'Rescue', 'http___i.timeinc.net_time_images_sp_healthbook.jpg.gif', 'Business', 'Got', 'a', 'unique', 'problem?', 'Not', 'to', 'worry:', 'you', 'can', 'find', 'a', 'financial', 'planner', 'for', 'every', 'specialized', 'need', '5', '2004-08-18', '22:52:14', '\\\\N'], ['The', 'New', 'Customers', 'Are', 'In', 'Town', 'http___www.apmforum.com_images_east.jpg.gif', 'Business', \"Today's\", 'customers', 'are', 'increasingly', 'demanding,', 'in', 'Asia', 'as', 'elsewhere', 'in', 'the', 'world.', 'Henry', 'Astorga', 'describes', 'the', 'complex', 'reality', 'faced', 'by', \"today's\", 'marketers,', 'which', 'includes', 'much', 'higher', 'expectations', 'than', 'we', 'have', 'been', 'used', 'to.', \"Today's\", 'customers', 'want', 'performance,', 'and', 'they', 'want', 'it', 'now!', '5', '2004-08-18', '22:52:16', '\\\\N'], ['Bridge', 'Story', '-', 'A', 'Tale', 'of', 'Two', 'Dragon', 'Cities', 'http___www.apmforum.com_images_pisetpic.gif.gif', 'Business', 'For', 'first', 'time', 'visitors', 'to', 'China,', 'one', 'of', 'the', 'most', 'stunning', 'entry', 'points', 'is', 'Shanghai.', 'The', 'view', 'from', 'the', 'mouth', 'of', 'the', 'Yangze', 'River,', 'which', 'looks', 'out', 'over', 'Shanghai', 'and', 'other', 'cities,', 'reveals', 'an', 'incredible', 'urban', 'and', 'industrial', 'panorama,', 'clearly', 'one', 'of', 'the', 'most', 'rapidly', 'developing', 'areas', 'among', 'all', 'the', 'cities', 'of', 'the', 'world.', 'And', 'yet', '.', '.', '.', 'The', 'Chinese', 'have', 'described', 'themselves', 'as', '\"A', 'plate', 'of', 'scattered', 'sand', 'grains\"', 'that', 'would', 'never', 'join', 'or', 'unite', 'with', 'each', 'other.', 'Piset,', 'in', 'his', 'latest', 'Awakening', 'Dragon', 'column,', 'tells', 'the', 'story', 'of', 'Two', 'Bridges', 'to', 'illustrate', 'just', 'some', 'of', 'the', 'underlying', 'dynamics', 'of', \"China's\", 'explosive', 'economic', 'growth.', '5', '2004-08-18', '22:52:18', '\\\\N'], ['Barrel', 'of', 'Monkeys,', '2004', 'Edition:', 'Notes', 'on', 'Philippine', 'Elections', 'http___www.apmforum.com_images_orientseas.gif.gif', 'Business', 'Well,', \"it's\", 'election', 'time', 'in', 'the', 'Republic', 'of', 'the', 'Philippines,', 'and', 'that', 'means', 'the', 'monkeys', 'are', 'rolling', 'around', 'in', 'those', 'political', 'barrels,', 'having', 'as', 'much', 'fun', 'as', 'they', 'can', 'while', 'laughing', 'their', 'heads', 'off', 'at', 'the', 'strange', 'goings-on', 'that', 'characterize', 'a', 'democratic', 'process', 'loosely', 'based', 'on', 'the', 'American', 'model', 'but', 'that', 'de', 'facto', 'looks', 'more', 'like', 'a', 'Fellini', 'movie', 'crossed', 'with', 'a', 'Tom', 'and', 'Jerry', 'cartoon', '-', 'column', 'includes', 'a', 'useful', 'election-year', 'glossary!', '5', '2004-08-18', '22:52:19', '\\\\N'], ['Globalization', 'Circa', '2003:', 'Random', 'Reflections', 'http___www.apmforum.com_images_orientseas.gif.gif', 'Business', 'The', 'word', \"'globalization'\", 'seems', 'to', 'have', 'evolved', 'into', 'a', 'cliche', 'and', 'handy', 'dandy', 'fighting', 'word', 'for', 'ideologues.', 'The', 'alternative', '(and', 'often', 'conflicting)', 'definitions', 'and', 'interpretations', 'are', 'enough', 'to', 'make', 'you', 'dizzy.', '5', '2004-08-18', '22:52:20', '\\\\N'], ['Oldsmobile:', 'The', 'final', 'parking', 'lot', 'http___www.brandingasia.com_images_imagesmall.gif.gif', 'Business', 'Why', 'General', 'Motors', 'dropped', 'the', 'Oldsmobile.', 'The', 'four', 'brand', 'paradoxes', 'GM', 'had', 'to', 'face', '-', 'the', 'name,', 'the', 'product,', 'image', 're-positioning,', 'and', 'the', 'consumer', '-', 'all', 'added', 'up', 'to', 'a', 'brand', 'that', 'had', 'little', 'hope', 'of', 'rebranding.', '5', '2004-08-18', '22:52:22', '\\\\N'], ['Not', 'All', 'Jobs', 'Belong', 'To', 'The', 'White', 'Man:', 'Asian', 'Minorities,', 'Affirmative', 'Action,', 'And', 'The', 'Quest', 'For', 'Parity', 'At', 'Work', 'http___www.apmforum.com_images_east.jpg.gif', 'Business', 'Although', 'a', 'smattering', 'of', 'Chinese,', 'Filipinos,', 'Japanese,', 'Indians,', 'Thais,', 'and', 'others', 'may', 'crow', 'about', 'seeing', 'their', 'kind', 'sitting', 'in', 'prominent', 'positions', 'in', 'corporations', 'and', 'organizations', 'in', 'the', 'USA,', 'these', 'accomplishments', 'become', 'mere', 'cultural', 'high-fives', 'and', 'ritualistic', 'chest-thumping', 'goaded', 'and', 'impishly', 'patronized', 'by', \"'mainstream\", \"society'\", '-', 'the', 'milder', 'and', 'gentler', 'term', 'for', 'the', 'white-dominated', 'populace.', '5', '2004-08-18', '22:52:23', '\\\\N'], ['Downhome', 'Pinoy', 'Blues,', 'Intersecting', 'Life', 'Paths,', 'and', 'Heartbreak', 'Songs', 'http___www.apmforum.com_images_orientseas.gif.gif', 'Business', 'The', 'Blues', 'is', 'alive', 'and', 'well', 'in', 'the', 'Philippines,', 'as', 'evidenced', 'by', 'this', 'appreciation', 'of', 'the', 'Pinoy', 'Blues', 'band', \"'Lampano\", \"Alley',\", 'penned', 'by', 'columnist', 'Clarence', 'Henderson', 'as', 'a', 'counterpoint', 'to', 'his', 'usual', 'economics,', 'business,', 'and', 'culture', 'fare.', '5', '2004-08-18', '22:52:24', '\\\\N'], ['The', 'Best', 'Places', 'in', 'Asia', 'Survey', 'http___www.apmforum.com_images_travel.gif.gif', 'Business', 'Thailand,', 'after', 'escaping', 'the', 'worst', 'ravages', 'of', 'SARS', 'and', 'terror', 'attacks,', 'is', 'the', 'place', 'of', 'choice', 'for', 'APMF', 'readers', 'right', 'now', 'in', 'our', \"'Best\", 'Places', 'in', \"Asia'\", 'survey.', 'After', 'more', 'than', '5,000', 'votes', 'since', 'March', '2003,', 'Thailand', 'dominates', 'the', 'tourism', 'categories', '(Best', 'Business', 'Hotel,', 'Restaurant,', 'Hawker', 'Food,', 'Tourist', 'Resort,', 'Bar,', 'and', 'Guest', 'House)', 'but', 'Bali,', 'Hong', 'Kong,', 'and', 'Malaysia', 'lead', 'other', 'sections', 'such', 'as', 'Best', 'Airline,', 'Airport,', 'City,', 'and', 'Tourism', 'Destination.', '5', '2004-08-18', '22:52:25', '\\\\N'], ['Best', 'Cities', 'in', 'Asia', 'for', 'Living', 'http___www.apmforum.com_images_travel.gif.gif', 'Business', 'Chiang', 'Mai', 'is', 'the', 'surprise', 'leader', 'in', 'the', 'newest', 'category', 'of', 'the', 'APMF', 'Asian', 'Business', 'Travel', 'Survey,', 'nudging', 'out', 'Singapore,', 'Kuala', 'Lumpur,', 'Bangkok', 'and', 'Hong', 'Kong', 'as', 'the', 'most', 'livable', 'city', 'in', 'Asia.', 'Add', 'your', 'vote', 'and', 'reasons', 'to', 'make', 'your', 'opinion', 'count.', 'Our', 'Best', 'Airlines', 'survey', 'has', 'also', 'surpassed', 'the', '1,000', 'respondent', 'mark,', 'with', 'Cathay', 'Pacific', 'extending', 'their', 'lead', 'over', 'Singapore', 'Airlines.', '5', '2004-08-18', '22:52:26', '\\\\N'], ['The', 'Real', 'Time', 'Modern', 'Manila', 'Blues:', 'Bill', 'Monroe', 'Meets', 'Muddy', 'Waters', 'in', 'the', 'Orient', 'http___www.apmforum.com_images_orientseas.gif.gif', 'Business', 'Globalization', 'does', 'strange', 'things', 'to', 'people.', 'A', 'day', 'in', 'the', 'life', 'of', 'a', 'Manila', 'Philippines', 'based', 'business', 'consultant', '-', 'proving', 'that', 'you', 'really', 'CAN', 'talk', 'about', 'Muddy', 'Walters,', 'bluegrass', 'and', 'work', 'all', 'on', 'the', 'same', 'page...', '5', '2004-08-18', '22:52:27', '\\\\N'], ['Best', 'Asian', 'Tourism', 'Destinations', 'http___www.apmforum.com_images_travel.gif.gif', 'Business', 'The', 'new', 'APMF', 'survey', 'of', 'the', 'best', 'Asian', 'tourism', 'destinations', 'has', 'just', 'kicked', 'off,', 'but', \"it's\", 'crowded', 'at', 'the', 'top,', 'with', 'Chiang', 'Mai', 'in', 'Thailand', 'just', 'leading', 'from', 'perennial', 'favourites', 'Hong', 'Kong,', 'Bangkok', 'and', 'Phuket', 'in', 'Thailand,', 'and', 'Bali', 'in', 'Indonesia.', 'Be', 'one', 'of', 'the', 'first', 'to', 'vote', 'and', 'let', 'us', 'know', 'your', 'reasons.', '5', '2004-08-18', '22:52:28', '\\\\N'], ['What', 'are', 'the', 'best', 'cities', 'for', 'business', 'in', 'Asia?', 'http___www.apmforum.com_images_travel.gif.gif', 'Business', 'One', 'of', 'our', 'new', 'categories', 'in', 'the', 'APMF', 'Sense', 'of', 'Place', 'survey', 'is', 'for', 'best', 'Asian', 'business', 'city.', 'After', 'a', 'couple', 'of', 'days,', 'Singapore', 'leads', 'the', 'pack,', 'followed', 'by', 'Bangkok,', 'Thailand', 'and', 'Hong', 'Kong.', 'Enter', 'your', 'vote', 'and', 'comments', 'and', 'make', 'your', 'views', 'count.', 'More', 'new', 'categories', 'include', 'best', 'city', 'for', 'livability,', 'and', 'best', 'tourism', 'destinations.', '5', '2004-08-18', '22:52:29', '\\\\N']]\n",
            "['re-elected.', 'cable.\\\\', 'minimum.</p><p', 'drug-releasing', 'http___media3.washingtonpost.com_wp-dyn_content_photo_2006_11_22_PH2006112201672.jpg.gif', 'sandlots', \"Mammal's\", 'href=\"http://ad.doubleclick.net/jump/wpni.rss/business;pos=ad9;tile=9;ad=rss;sz=479x40;ord=10935134692\"', 'giggles', 'X8350', '(810', 'collapse:', 'com)', 'Gawker', \"automatically'\", 'Disk-Storage', 'http___i.today.reuters.com_misc_genImage.aspx_uri_2008-01-13T054157Z_01_JAK303604_RTRUKOP_2_PICTURE0.jpg&resize_small.gif', 'Nitoglia.', 'HusseinÂ\\x92s', 'soldiers?', '09:33:34', 'surehanded,', 'Larimer', 'Iraqi...', '151-5,', '$340M', '(R-Va.)', 'Donadlni', 'X600', 'Forgetting', 'Cousinsâ\\x80\\x99', 'nuovo&quot;.', 'http___wwwi.reuters.com_images_china_mine_map_thumb.gif.gif', 'Object', '15:22:50', 'http___ad.doubleclick.net_ad_reuters.com.dart_news_top_article_type_HighImpact_ptile_2_sz_300x250_articleID_2007-08-25T215959Z_01_N25225856_RTRUKOC_0_US-BALLOON.xml_ord_8724_.gif', 'http___newsimg.bbc.co.uk_media_images_40048000_jpg__40048384_supersizeme203.jpg.gif', 'http___wwwi.reuters.com_images_w148_2006-09-18T220117Z_01_NOOTR_RTRIDSP_1_INTERNATIONAL-CUBA-CASTRO-DC.jpg.gif', 'http___wwwi.reuters.com_images_w148_2006-09-17T003947Z_01_NOOTR_RTRIDSP_1_BUSINESS-IMF-DC.jpg.gif', 'Safary.', 'Hardly', 'Touching', 'Cheerleader', 'DANVERS', 'Museum\\\\', 'Bushey,', 'Squad.\"', 'http___graphics8.nytimes.com_images_2007_03_02_world_02libya-2-190.jpg.gif', 'lÂ\\x92apertura', '7-10.</p></div>', \"Maathai's\", 'Jennings:', 'http___newsimg.bbc.co.uk_media_images_42052000_jpg__42052962_adi6666.jpg.gif', '04:12:05', 'SBAGLIANO', '277-6409', 'voi:', \"Coast's\", 'http___wwwi.reuters.com_images_w148_2006-09-05T201349Z_01_NOOTR_RTRIDSP_1_BUSINESS-AUTOS-FORD-DC.jpg.gif', 'WASHINGTON/SAN', '11:32:01', 'Daltonics', 'rapidi\"', 'rattlesnakes,', 'PlayTomato', 'http___blog.wired.com_photos_uncategorized_paradisologo.jpg.gif', 'repaired.\\\\', '06:42:15', \"Canzoni'\", 'lâ\\x80\\x99Europa', '04:47:44', 'ricambiarli', '\"guten', 'Zimbra', 'class=\"regularArticleU\">Sprint', 'gip:', 'Aznavour.', 'Prisonâ\\x80\\x99', 'inch)', 'NeoAccel,', '100,10', 'Phifer,', 'Ambani.', 'Come,\"', 'chubbiness', \"l'intervento\", 'Olaru,', 'spam!', \"'fraudsters'\", 'MONTH:', 'rapidissima', \"Nell'ultimo\", '11:03:46', '$2.15,', 'Brandeis,', 'scortata', 'Calamaro', 'hormone-injected', 'NOR-type', 'Benzene', '(RED)-hot', 'worship,', '02:31:22', '(S&amp;N).', 'manufacturing.</p><p', 'playpens', 'http___im.rediff.com_movies_2007_oct_30first.jpg.gif', '(13.5', 'Kawasaki', 'Missteps', 'Lennon,', 'WUPL-TV,', 'shutdown\".', 'Â\\x93Australian', 'Teknologi', '03:17:44', 'MEPs,', 'began', '109-84', 'apologizes:He', 'Tribute,', 'Gattuso-Stankovic,', 'correspondents.', 'watt', 'Queen&#39;s', '6-0;', '(12).', 'href=\"http://rss.csmonitor.com/~a/feeds/world?a=7BfmBO\"><img', 'src=\"http://ad.doubleclick.net/ad/wpni.rss/health;pos=ad9;tile=9;ad=rss;sz=479x40;ord=371192541508\"', \"Middleton's\", 'Carnera', 'Approved.', 'firm&#39;', 'monkeys&#39;', 'Dema', 'href=\"http://www.topix.net/forum/link/thread?forum=world/europe&artsig=21b82e9bed\">Comment</a>', 'http___view.atdmt.com_MRT_view_cntnkinf0250006355mrt_direct_01_2007.07.12.17.12.11.gif', '01:48:58', 'jobbed', 'miraculin,', \"'Better'\", 'http___ad.doubleclick.net_ad_reuters.com.dart_news_top_article_type_HighImpact_ptile_2_sz_300x250_articleID_2007-02-17T224005Z_01_N17326263_RTRUKOC_0_US-IRAQ-USA.xml_ord_5914_.gif', '1,2732', '<h4>Factor', 'fool.</em>', 'http___us.news1.yimg.com_us.yimg.com_p_ap_20041216_thumb.mad80212161855.spain_expo_2008_worlds_fair_mad802.jpg.gif', 'http___us.news1.yimg.com_us.yimg.com_p_afp_20050131_thumb.sge.ggj65.310105082002.photo00.photo.default-384x267.jpg.gif', 'WilmingtonÃ\\x82Â', 'Seelye', 'http___i.today.reuters.co.uk_misc_genImage.aspx_uri_2007-06-30T180401Z_01_NOOTR_RTRIDSP_2_TECH-IPHONE-ATT-DC.jpg&resize_w160.gif', '14:53:08', '00:58:43', 'Kovalenko,', 'Fernan...', 'pwr', 'http___us.news1.yimg.com_us.yimg.com_p_ap_20041204_thumb.xkiv11612042151.ukraine_elections_xkiv116.jpg.gif', '-0,67%', '&#39;Failure', 'non-exposed', '23:04:41', '02:31:36', 'pygmy', 'Surveyor', 'distances:', 'ARAFATâ\\x80\\x99S', 'governor&#39;s', \"knackers'\", 'amministrative,aperti', 'http___ad.doubleclick.net_ad_reuters.com.dart_news_usnews_article_type_HighImpact_ptile_2_sz_300x250_articleID_2007-09-01T234018Z_01_L31005031_RTRUKOC_0_US-TENNIS-OPEN.xml_ord_9954_.gif', 'Golubev', 'http___media.washingtonpost.com_wp-dyn_images_I14929-2005Jan17.gif', 'Rakht),', 'fruit-selling', '106.', 'http___newsimg.bbc.co.uk_media_images_40836000_jpg__40836229_aical203.jpg.gif', 'Plants', \"''Mi\", \"'gialla'\", '4th.', 'http___ad.doubleclick.net_ad_reuters.com.dart_news_usnews_article_type_HighImpact_ptile_2_sz_300x250_articleID_2007-07-24T161920Z_01_N24210104_RTRUKOC_0_US-USA-ARMS-SMUGGLING.xml_ord_4251_.gif', '10:53:45', 'Â«liberaÂ»', \"nell'impatto\", '01:12:06', 'http___i.i.com.com_cnwk.1d_i_bto_20080117_FlipStart.gif.gif', 'BRAMBILLA', 'expropriate', 'foisted', '05:27:34', 'Brook', '<I>Infamously', 'page=\"1\">\"There', 'Christian-right', 'http___newsimg.bbc.co.uk_media_images_44099000_jpg__44099920_pava6666.jpg.gif', 'spangly', 'avventori', 'lucrare', '00:52:10', 'heavily-favored', 'Marcella']\n"
          ]
        }
      ]
    },
    {
      "cell_type": "code",
      "source": [
        "# Splitting data into training and test\n",
        "test_percentage = 0.2\n",
        "random.shuffle(data_articles)\n",
        "split_point = int(len(data_articles)*test_percentage)\n",
        "training_set = data_articles[split_point::]\n",
        "test_set = data_articles[:split_point:]"
      ],
      "metadata": {
        "id": "tSQMCFvbDjJM"
      },
      "execution_count": 7,
      "outputs": []
    },
    {
      "cell_type": "code",
      "source": [
        "# Word embedding initialization with random values\n",
        "mean = 0\n",
        "std_dev = 0.01\n",
        "vocab_size = len(vocabulary)\n",
        "embedding_dim = 100 #Hardcoded value for the size of the vectors\n",
        "word_embeddings = np.random.normal(mean, std_dev, size=(vocab_size, embedding_dim))\n",
        "\n",
        "# Create a dictionary to map words to their embedding vectors\n",
        "word_to_embedding = {}\n",
        "for i, word in enumerate(vocabulary):\n",
        "    word_to_embedding[word] = word_embeddings[i]"
      ],
      "metadata": {
        "id": "enODZ5lLI3qC"
      },
      "execution_count": 8,
      "outputs": []
    },
    {
      "cell_type": "code",
      "source": [
        "# Function for one hot econding vocabulary\n",
        "def one_hot_encode_vocab(vocabulary,word_to_index):\n",
        "    # Create a zero matrix with shape (vocabulary_size, vocabulary_size)\n",
        "    encoding_matrix = np.zeros((len(vocabulary), len(vocabulary)), dtype=np.int32)\n",
        "    # Fill in the appropriate elements with 1s\n",
        "    for index, word in enumerate(vocabulary):\n",
        "        encoding_matrix[index, word_to_index[word]] = 1\n",
        "    return encoding_matrix"
      ],
      "metadata": {
        "id": "40ncTkkUWgX9"
      },
      "execution_count": 9,
      "outputs": []
    },
    {
      "cell_type": "code",
      "source": [
        "# One hot encoded vocabulary\n",
        "vocabulary_list = list(vocabulary)\n",
        "\n",
        "vocabulary_list.sort()  # Sorting to ensure consistent indexing\n",
        "\n",
        "# Create a dictionary that maps words to indices based on the sorted order\n",
        "word_to_index = {word: i for i, word in enumerate(vocabulary)}\n",
        "\n",
        "one_hot_encoded_vocab = one_hot_encode_vocab(vocabulary_list,word_to_index)\n",
        "# print(one_hot_encoded_vocab)"
      ],
      "metadata": {
        "id": "6A0YL2tBVh3h"
      },
      "execution_count": null,
      "outputs": []
    },
    {
      "cell_type": "code",
      "source": [
        "def softmax(x):\n",
        "  return np.exp(x)/sum(np.exp(x))"
      ],
      "metadata": {
        "id": "4L30yXQBIAkb"
      },
      "execution_count": null,
      "outputs": []
    },
    {
      "cell_type": "code",
      "source": [
        "def tahnh(x):\n",
        "  return np.tanh(x)"
      ],
      "metadata": {
        "id": "U0UwotcsMbGB"
      },
      "execution_count": null,
      "outputs": []
    },
    {
      "cell_type": "code",
      "source": [
        "# Input the probabilies and the true value\n",
        "def cross_entropy(y_probs,y_true):\n",
        "  return -np.sum(y_true * np.log(y_probs))"
      ],
      "metadata": {
        "id": "NKUkOR4mM-Lx"
      },
      "execution_count": null,
      "outputs": []
    },
    {
      "cell_type": "code",
      "source": [
        "#Forward pass -> returns a list of H_{t}\n",
        "def forward(article):\n",
        "  We =\n",
        "  Wh =\n",
        "  Ht =\n",
        "  for word in article:\n",
        "\n",
        "\n",
        "\n",
        "\n",
        "\n"
      ],
      "metadata": {
        "id": "7KgFU-K4HSrq"
      },
      "execution_count": null,
      "outputs": []
    },
    {
      "cell_type": "code",
      "source": [
        "#training:\n",
        "for article in training_set:\n",
        ""
      ],
      "metadata": {
        "id": "h_c6LcuMQEEJ"
      },
      "execution_count": null,
      "outputs": []
    },
    {
      "cell_type": "code",
      "source": [
        "embedding_size = 100\n"
      ],
      "metadata": {
        "id": "OXxWrosQALZX"
      },
      "execution_count": null,
      "outputs": []
    }
  ]
}