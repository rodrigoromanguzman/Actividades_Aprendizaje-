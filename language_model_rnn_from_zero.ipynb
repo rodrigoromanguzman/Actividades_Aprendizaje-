{
  "nbformat": 4,
  "nbformat_minor": 0,
  "metadata": {
    "colab": {
      "provenance": [],
      "mount_file_id": "1GNByOTGFntOtfHmtiIdQkSlkZ7GFbuAj",
      "authorship_tag": "ABX9TyPCJwjDFNI7N4NgTtrtl3AF",
      "include_colab_link": true
    },
    "kernelspec": {
      "name": "python3",
      "display_name": "Python 3"
    },
    "language_info": {
      "name": "python"
    }
  },
  "cells": [
    {
      "cell_type": "markdown",
      "metadata": {
        "id": "view-in-github",
        "colab_type": "text"
      },
      "source": [
        "<a href=\"https://colab.research.google.com/github/rodrigoromanguzman/Actividades_Aprendizaje-/blob/main/language_model_rnn_from_zero.ipynb\" target=\"_parent\"><img src=\"https://colab.research.google.com/assets/colab-badge.svg\" alt=\"Open In Colab\"/></a>"
      ]
    },
    {
      "cell_type": "code",
      "execution_count": 1,
      "metadata": {
        "id": "8bHMJ7LQ3WOn"
      },
      "outputs": [],
      "source": [
        "import numpy as np\n",
        "\n",
        "# Utility libraries\n",
        "import random\n",
        "import re\n",
        "\n",
        "\n",
        "from google.colab import drive\n"
      ]
    },
    {
      "cell_type": "code",
      "source": [
        "drive.mount('/content/drive')"
      ],
      "metadata": {
        "colab": {
          "base_uri": "https://localhost:8080/"
        },
        "id": "zcruplZaz2cs",
        "outputId": "90678a51-c39a-45fb-e1a2-80b0c2c1ba3e"
      },
      "execution_count": 2,
      "outputs": [
        {
          "output_type": "stream",
          "name": "stdout",
          "text": [
            "Mounted at /content/drive\n"
          ]
        }
      ]
    },
    {
      "cell_type": "code",
      "source": [
        "news_s_path = \"/content/drive/MyDrive/newsSpace\""
      ],
      "metadata": {
        "id": "5USCIixw0paW"
      },
      "execution_count": 3,
      "outputs": []
    },
    {
      "cell_type": "code",
      "source": [
        "# Utility function for detecting urls\n",
        "def is_url(s):\n",
        "    # A simple regex to check for a basic URL structure\n",
        "    return re.match(r'https?://', s) is not None\n"
      ],
      "metadata": {
        "id": "HZWg_1WuDAfh"
      },
      "execution_count": 4,
      "outputs": []
    },
    {
      "cell_type": "code",
      "source": [
        "# We will separate the batches as the elements from an individual article\n",
        "data_articles = []\n",
        "# Lets collect all the unique ocurrences of each word\n",
        "# to create the dictionary\n",
        "vocabulary = set([])\n",
        "with open(news_s_path, encoding='ISO-8859-1') as f:\n",
        "    while True:\n",
        "        line = f.readline()\n",
        "        if not line:\n",
        "            break\n",
        "        data_line = line.strip().split()\n",
        "        url_index = next((i for i, item in enumerate(data_line) if is_url(item)), None)\n",
        "        # We will get only the articles which have a url\n",
        "        if url_index is not None:\n",
        "          # We take after the url\n",
        "          article = line.strip().split()[url_index+1::]\n",
        "          [vocabulary.add(i) for i in article]\n",
        "          data_articles.append(article)\n",
        "print(data_articles[:100])\n",
        "print(list(vocabulary)[:200])\n"
      ],
      "metadata": {
        "colab": {
          "base_uri": "https://localhost:8080/"
        },
        "id": "xt4wscHo214n",
        "outputId": "67c37eab-0388-4a90-e6e6-bdb7a42a2bee"
      },
      "execution_count": 5,
      "outputs": [
        {
          "output_type": "stream",
          "name": "stdout",
          "text": [
            "[['Wall', 'St.', 'Pullback', 'Reflects', 'Tech', 'Blowout', '(Reuters)', 'none', 'Business', 'Reuters', '-', 'Wall', \"Street's\", 'long-playing', 'drama,\\\\'], ['Wall', 'St.', 'Bears', 'Claw', 'Back', 'Into', 'the', 'Black', '(Reuters)', 'none', 'Business', 'Reuters', '-', 'Short-sellers,', 'Wall', \"Street's\", 'dwindling\\\\'], ['Carlyle', 'Looks', 'Toward', 'Commercial', 'Aerospace', '(Reuters)', 'none', 'Business', 'Reuters', '-', 'Private', 'investment', 'firm', 'Carlyle', 'Group,\\\\'], ['Oil', 'and', 'Economy', 'Cloud', \"Stocks'\", 'Outlook', '(Reuters)', 'none', 'Business', 'Reuters', '-', 'Soaring', 'crude', 'prices', 'plus', 'worries\\\\'], ['Iraq', 'Halts', 'Oil', 'Exports', 'from', 'Main', 'Southern', 'Pipeline', '(Reuters)', 'none', 'Business', 'Reuters', '-', 'Authorities', 'have', 'halted', 'oil', 'export\\\\'], ['Oil', 'prices', 'soar', 'to', 'all-time', 'record,', 'posing', 'new', 'menace', 'to', 'US', 'economy', '(AFP)', 'none', 'Business', 'AFP', '-', 'Tearaway', 'world', 'oil', 'prices,', 'toppling', 'records', 'and', 'straining', 'wallets,', 'present', 'a', 'new', 'economic', 'menace', 'barely', 'three', 'months', 'before', 'the', 'US', 'presidential', 'elections.', '5', '0000-00-00', '00:00:00', '\\\\N'], ['Stocks', 'End', 'Up,', 'But', 'Near', 'Year', 'Lows', '(Reuters)', 'none', 'Business', 'Reuters', '-', 'Stocks', 'ended', 'slightly', 'higher', 'on', 'Friday\\\\'], ['Money', 'Funds', 'Fell', 'in', 'Latest', 'Week', '(AP)', 'none', 'Business', 'AP', '-', 'Assets', 'of', 'the', \"nation's\", 'retail', 'money', 'market', 'mutual', 'funds', 'fell', 'by', '&#36;1.17', 'billion', 'in', 'the', 'latest', 'week', 'to', '&#36;849.98', 'trillion,', 'the', 'Investment', 'Company', 'Institute', 'said', 'Thursday.', '5', '0000-00-00', '00:00:00', '\\\\N'], ['Fed', 'minutes', 'show', 'dissent', 'over', 'inflation', '(USATODAY.com)', 'none', 'Business', 'USATODAY.com', '-', 'Retail', 'sales', 'bounced', 'back', 'a', 'bit', 'in', 'July,', 'and', 'new', 'claims', 'for', 'jobless', 'benefits', 'fell', 'last', 'week,', 'the', 'government', 'said', 'Thursday,', 'indicating', 'the', 'economy', 'is', 'improving', 'from', 'a', 'midsummer', 'slump.', '5', '0000-00-00', '00:00:00', '\\\\N'], ['Safety', 'Net', '(Forbes.com)', 'none', 'Business', 'Forbes.com', '-', 'After', 'earning', 'a', 'PH.D.', 'in', 'Sociology,', 'Danny', 'Bazil', 'Riley', 'started', 'to', 'work', 'as', 'the', 'general', 'manager', 'at', 'a', 'commercial', 'real', 'estate', 'firm', 'at', 'an', 'annual', 'base', 'salary', 'of', '&#36;70,000.', 'Soon', 'after,', 'a', 'financial', 'planner', 'stopped', 'by', 'his', 'desk', 'to', 'drop', 'off', 'brochures', 'about', 'insurance', 'benefits', 'available', 'through', 'his', 'employer.', 'But,', 'at', '32,', '\"buying', 'insurance', 'was', 'the', 'furthest', 'thing', 'from', 'my', 'mind,\"', 'says', 'Riley.', '5', '0000-00-00', '00:00:00', '\\\\N'], ['Uprising', 'Keeps', 'Iraq', 'Oil', 'Exports', 'Halved', 'none', 'Business', 'BAGHDAD', '(Reuters)', '-', \"Iraq's\", 'oil', 'exports', 'were', 'still', 'running', 'at', 'half', 'their', 'normal', 'rate', 'Sunday', 'as', 'instability', 'due', 'to', 'an', 'anti-U.S.', 'uprising', 'prevented', 'the', 're-opening', 'of', 'a', 'main', 'pipeline', 'feeding', 'the', \"country's\", 'terminals', 'in', 'the', 'Gulf.', '5', '0000-00-00', '00:00:00', '\\\\N'], ['Wall', 'St.', 'Pullback', 'Reflects', 'Tech', 'Blowout', 'none', 'Business', 'NEW', 'YORK', '(Reuters)', '-', 'Wall', \"Street's\", 'long-playing', 'drama,', '\"Waiting', 'for', 'Google,\"', 'is', 'about', 'to', 'reach', 'its', 'final', 'act,', 'but', 'its', 'stock', 'market', 'debut', 'is', 'ending', 'up', 'as', 'more', 'of', 'a', 'nostalgia', 'event', 'than', 'the', 'catalyst', 'for', 'a', 'new', 'era.', '5', '2004-08-18', '22:53:24', '\\\\N'], ['Wall', 'St.', 'Bears', 'Claw', 'Back', 'Into', 'the', 'Black', 'none', 'Business', 'NEW', 'YORK', '(Reuters)', '-', 'Short-sellers,', 'Wall', \"Street's\", 'dwindling', 'band', 'of', 'ultra-cynics,', 'are', 'seeing', 'green', 'again.', '5', '0000-00-00', '00:00:00', '\\\\N'], ['Carlyle', 'Looks', 'Toward', 'Commercial', 'Aerospace', 'none', 'Business', 'NEW', 'YORK', '(Reuters)', '-', 'Private', 'investment', 'firm', 'Carlyle', 'Group,', 'which', 'has', 'a', 'reputation', 'for', 'making', 'well-timed', 'and', 'occasionally', 'controversial', 'plays', 'in', 'the', 'defense', 'industry,', 'has', 'quietly', 'placed', 'its', 'bets', 'on', 'another', 'part', 'of', 'the', 'market.', '5', '2004-08-18', '22:53:27', '\\\\N'], ['Oil', 'and', 'Economy', 'Cloud', \"Stocks'\", 'Outlook', 'none', 'Business', 'NEW', 'YORK', '(Reuters)', '-', 'Soaring', 'crude', 'prices', 'plus', 'worries', 'about', 'the', 'economy', 'and', 'the', 'outlook', 'for', 'earnings', 'are', 'expected', 'to', 'hang', 'over', 'the', 'stock', 'market', 'next', 'week', 'during', 'the', 'depth', 'of', 'the', 'summer', 'doldrums.', '5', '0000-00-00', '00:00:00', '\\\\N'], ['GlaxoSmithKline:', 'CFO', 'to', 'Retire', 'in', 'March', 'none', 'Business', 'LONDON', '(Reuters)', '-', 'GlaxoSmithKline', '<GSK.L>', 'Chief', 'Financial', 'Officer', 'John', 'Coombe', 'is', 'set', 'to', 'retire', 'in', 'March', 'when', 'he', 'turns', '60,', 'the', 'company', 'said', 'on', 'Saturday.', '5', '2004-08-18', '22:53:29', '\\\\N'], ['No', 'Need', 'for', 'OPEC', 'to', 'Pump', 'More-Iran', 'Gov', 'none', 'Business', 'TEHRAN', '(Reuters)', '-', 'OPEC', 'can', 'do', 'nothing', 'to', 'douse', 'scorching', 'oil', 'prices', 'when', 'markets', 'are', 'already', 'oversupplied', 'by', '2.8', 'million', 'barrels', 'per', 'day', '(bpd)', 'of', 'crude,', \"Iran's\", 'OPEC', 'governor', 'said', 'Saturday,', 'warning', 'that', 'prices', 'could', 'fall', 'sharply.', '5', '2004-08-18', '22:53:32', '\\\\N'], ['Non-OPEC', 'Nations', 'Should', 'Up', 'Output-Purnomo', 'none', 'Business', 'JAKARTA', '(Reuters)', '-', 'Non-OPEC', 'oil', 'exporters', 'should', 'consider', 'increasing', 'output', 'to', 'cool', 'record', 'crude', 'prices,', 'OPEC', 'President', 'Purnomo', 'Yusgiantoro', 'said', 'on', 'Sunday.', '5', '2004-08-18', '22:53:34', '\\\\N'], ['Google', 'IPO', 'Auction', 'Off', 'to', 'Rocky', 'Start', 'none', 'Business', 'WASHINGTON/NEW', 'YORK', '(Reuters)', '-', 'The', 'auction', 'for', 'Google', \"Inc.'s\", 'highly', 'anticipated', 'initial', 'public', 'offering', 'got', 'off', 'to', 'a', 'rocky', 'start', 'on', 'Friday', 'after', 'the', 'Web', 'search', 'company', 'sidestepped', 'a', 'bullet', 'from', 'U.S.', 'securities', 'regulators.', '5', '0000-00-00', '00:00:00', '\\\\N'], ['Dollar', 'Falls', 'Broadly', 'on', 'Record', 'Trade', 'Gap', 'none', 'Business', 'NEW', 'YORK', '(Reuters)', '-', 'The', 'dollar', 'tumbled', 'broadly', 'on', 'Friday', 'after', 'data', 'showing', 'a', 'record', 'U.S.', 'trade', 'deficit', 'in', 'June', 'cast', 'fresh', 'doubts', 'on', 'the', \"economy's\", 'recovery', 'and', 'its', 'ability', 'to', 'draw', 'foreign', 'capital', 'to', 'fund', 'the', 'growing', 'gap.', '5', '2004-08-18', '22:53:37', '\\\\N'], ['Rescuing', 'an', 'Old', 'Saver', 'none', 'Business', 'If', 'you', 'think', 'you', 'may', 'need', 'to', 'help', 'your', 'elderly', 'relatives', 'with', 'their', 'finances,', \"don't\", 'be', 'shy', 'about', 'having', 'the', 'money', 'talk', '--', 'soon.', '5', '2004-08-18', '22:53:40', '\\\\N'], ['Kids', 'Rule', 'for', 'Back-to-School', 'none', 'Business', 'The', 'purchasing', 'power', 'of', 'kids', 'is', 'a', 'big', 'part', 'of', 'why', 'the', 'back-to-school', 'season', 'has', 'become', 'such', 'a', 'huge', 'marketing', 'phenomenon.', '5', '2004-08-18', '22:53:43', '\\\\N'], ['In', 'a', 'Down', 'Market,', 'Head', 'Toward', 'Value', 'Funds', 'none', 'Business', 'There', 'is', 'little', 'cause', 'for', 'celebration', 'in', 'the', 'stock', 'market', 'these', 'days,', 'but', 'investors', 'in', 'value-focused', 'mutual', 'funds', 'have', 'reason', 'to', 'feel', 'a', 'bit', 'smug', '--', 'if', 'only', 'because', \"they've\", 'lost', 'less', 'than', 'the', 'folks', 'who', 'stuck', 'with', 'growth.', '5', '2004-08-18', '22:53:46', '\\\\N'], ['US', 'trade', 'deficit', 'swells', 'in', 'June', 'none', 'Business', 'The', 'US', 'trade', 'deficit', 'has', 'exploded', '19%', 'to', 'a', 'record', '$55.8bn', 'as', 'oil', 'costs', 'drove', 'imports', 'higher,', 'according', 'to', 'a', 'latest', 'figures.', '5', '0000-00-00', '00:00:00', '\\\\N'], ['Crude', 'oil', 'prices', 'jump', 'to', 'new', 'high', 'none', 'Business', 'The', 'price', 'of', 'crude', 'oil', 'reaches', 'new', 'record', 'levels', 'amid', 'concerns', 'about', 'possible', 'unrest', 'in', 'Venezuela', 'and', 'the', 'threat', 'of', 'sabotage', 'in', 'Iraq.', '5', '0000-00-00', '00:00:00', '\\\\N'], ['Shell', \"'could\", 'be', 'target', 'for', \"Total'\", 'none', 'Business', 'Oil', 'giant', 'Shell', 'could', 'be', 'bracing', 'itself', 'for', 'a', 'takeover', 'attempt,', 'possibly', 'from', 'French', 'rival', 'Total,', 'a', 'press', 'report', 'claims.', '5', '0000-00-00', '00:00:00', '\\\\N'], ['Google', 'IPO', 'faces', 'Playboy', 'slip-up', 'none', 'Business', 'The', 'bidding', 'gets', 'underway', 'for', \"Google's\", 'public', 'offering,', 'despite', 'last-minute', 'worries', 'over', 'an', 'interview', 'with', 'its', 'bosses', 'in', 'Playboy', 'magazine.', '5', '0000-00-00', '00:00:00', '\\\\N'], ['Eurozone', 'economy', 'keeps', 'growing', 'none', 'Business', 'Official', 'figures', 'show', 'the', '12-nation', 'eurozone', 'economy', 'continues', 'to', 'grow,', 'but', 'there', 'are', 'warnings', 'it', 'may', 'slow', 'down', 'later', 'in', 'the', 'year.', '5', '0000-00-00', '00:00:00', '\\\\N'], ['Swatch', 'dismisses', 'tax', 'allegations', 'none', 'Business', 'Swiss', 'watchmaker', 'Swatch,', 'official', 'timekeeper', 'to', 'the', 'Athens', 'Olympics,', 'denies', 'allegations', 'of', 'tax', 'and', 'customs', 'duty', 'evasion.', '5', '0000-00-00', '00:00:00', '\\\\N'], ['Expansion', 'slows', 'in', 'Japan', 'none', 'Business', 'Economic', 'growth', 'in', 'Japan', 'slows', 'down', 'as', 'the', 'country', 'experiences', 'a', 'drop', 'in', 'domestic', 'and', 'corporate', 'spending.', '5', '0000-00-00', '00:00:00', '\\\\N'], ['Rand', 'falls', 'on', 'shock', 'SA', 'rate', 'cut', 'none', 'Business', 'Interest', 'rates', 'are', 'trimmed', 'to', '7.5%', 'by', 'the', 'South', 'African', 'central', 'bank,', 'but', 'the', 'lack', 'of', 'warning', 'hits', 'the', 'rand', 'and', 'surprises', 'markets.', '5', '0000-00-00', '00:00:00', '\\\\N'], ['Car', 'prices', 'down', 'across', 'the', 'board', 'none', 'Business', 'The', 'cost', 'of', 'buying', 'both', 'new', 'and', 'second', 'hand', 'cars', 'fell', 'sharply', 'over', 'the', 'past', 'five', 'years,', 'a', 'new', 'survey', 'has', 'found.', '5', '0000-00-00', '00:00:00', '\\\\N'], ['South', 'Korea', 'lowers', 'interest', 'rates', 'none', 'Business', 'South', \"Korea's\", 'central', 'bank', 'cuts', 'interest', 'rates', 'by', 'a', 'quarter', 'percentage', 'point', 'to', '3.5%', 'in', 'a', 'bid', 'to', 'drive', 'growth', 'in', 'the', 'economy.', '5', '2004-08-18', '22:53:48', '\\\\N'], ['Google', 'auction', 'begins', 'on', 'Friday', 'none', 'Business', 'An', 'auction', 'of', 'shares', 'in', 'Google,', 'the', 'web', 'search', 'engine', 'which', 'could', 'be', 'floated', 'for', 'as', 'much', 'as', '$36bn,', 'takes', 'place', 'on', 'Friday.', '5', '0000-00-00', '00:00:00', '\\\\N'], ['HP', 'shares', 'tumble', 'on', 'profit', 'news', 'none', 'Business', 'Hewlett-Packard', 'shares', 'fall', 'after', 'disappointing', 'third-quarter', 'profits,', 'while', 'the', 'firm', 'warns', 'the', 'final', 'quarter', 'will', 'also', 'fall', 'short', 'of', 'expectations.', '5', '0000-00-00', '00:00:00', '\\\\N'], ['Mauritian', 'textile', 'firm', 'cuts', 'jobs', 'none', 'Business', 'One', 'of', 'the', 'oldest', 'textile', 'operators', 'on', 'the', 'Indian', 'Ocean', 'island', 'of', 'Mauritius', 'last', 'week', 'shut', 'seven', 'factories', 'and', 'cut', '900', 'jobs.', '5', '0000-00-00', '00:00:00', '\\\\N'], ['Chad', 'seeks', 'refugee', 'aid', 'from', 'IMF', 'none', 'Business', 'Chad', 'asks', 'the', 'IMF', 'for', 'a', 'loan', 'to', 'pay', 'for', 'looking', 'after', 'more', 'than', '100,000', 'refugees', 'from', 'conflict-torn', 'Darfur', 'in', 'western', 'Sudan.', '5', '0000-00-00', '00:00:00', '\\\\N'], ['Wal-Mart', 'to', 'appeal', 'sex', 'bias', 'case', 'none', 'Business', 'Wal-Mart,', 'the', \"world's\", 'largest', 'retailer,', 'has', 'been', 'given', 'the', 'right', 'to', 'appeal', 'a', 'US', \"judge's\", 'order', 'giving', 'the', 'go-ahead', 'for', 'a', 'huge', 'sex', 'discrimination', 'lawsuit.', '5', '2004-08-18', '22:53:50', '\\\\N'], ['Heavy', 'competition', 'hits', 'Toys-R-Us', 'none', 'Business', 'US', 'retailer', 'Toys-R-Us', 'may', 'sell', 'its', '\\\\'], ['Japan', 'nuclear', 'firm', 'shuts', 'plants', 'none', 'Business', 'The', 'company', 'running', 'the', 'Japanese', 'nuclear', 'plant', 'hit', 'by', 'a', 'fatal', 'accident', 'is', 'to', 'close', 'its', 'reactors', 'for', 'safety', 'checks.', '5', '0000-00-00', '00:00:00', '\\\\N'], ['Merger', 'forms', \"world's\", 'biggest', 'bank', 'none', 'Business', \"Japan's\", 'Mitsubishi', 'Tokyo', 'Financial', 'Group', 'signs', 'a', 'deal', 'to', 'take', 'over', 'troubled', 'rival', 'UFJ', 'Holdings,', 'forming', 'the', \"world's\", 'largest', 'bank.', '5', '0000-00-00', '00:00:00', '\\\\N'], ['Veteran', 'inventor', 'in', 'market', 'float', 'none', 'Business', 'Trevor', 'Baylis,', 'the', 'veteran', 'inventor', 'famous', 'for', 'creating', 'the', 'Freeplay', 'clockwork', 'radio,', 'is', 'planning', 'to', 'float', 'his', 'company', 'on', 'the', 'stock', 'market.', '5', '0000-00-00', '00:00:00', '\\\\N'], ['Fears', 'for', 'T&N', 'pension', 'after', 'talks', 'none', 'Business', 'Unions', 'representing', 'workers', 'at', 'Turner', '&', 'Newall', 'say', 'they', 'are', \"'disappointed'\", 'after', 'talks', 'with', 'stricken', 'parent', 'firm', 'Federal', 'Mogul.', '5', '0000-00-00', '00:00:00', '\\\\N'], ['Saudi', 'Arabia', 'to', 'open', 'up', 'oil', 'taps', 'none', 'Business', 'Saudi', 'Arabia', 'says', 'it', 'is', 'ready', 'to', 'push', 'an', 'extra', '1.3', 'million', 'barrels', 'a', 'day', 'of', 'oil', 'into', 'the', 'market,', 'to', 'help', 'reverse', 'surging', 'prices.', '5', '0000-00-00', '00:00:00', '\\\\N'], ['Saudi', 'phone', 'sector', 'gets', '$1bn', 'lift', 'none', 'Business', 'A', 'group', 'led', 'by', 'the', \"UAE's\", 'Etisalat', 'plans', 'to', 'spend', '$1bn', '(Â£544m)', 'on', 'expansion', 'after', 'winning', 'two', 'mobile', 'phone', 'licences', 'in', 'Saudi', 'Arabia.', '5', '0000-00-00', '00:00:00', '\\\\N'], ['Indians', 'fill', 'rail', 'skills', 'shortage', 'http___newsimg.bbc.co.uk_media_images_39296000_jpg__39296313_liverr.jpg.gif', 'Business', 'Network', 'Rail', 'flies', 'in', 'specialist', 'Indian', 'engineers', 'to', 'work', 'on', 'the', 'West', 'Coast', 'Mainline', 'because', 'of', 'a', 'UK', 'skills', 'shortage.', '5', '2004-08-18', '22:50:39', '\\\\N'], ['Cairn', 'Energy', 'takes', 'drill', 'to', 'Nepal', 'none', 'Business', 'British', 'oil', 'and', 'gas', 'firm', 'Cairn', 'Energy', 'has', 'signed', 'a', 'deal', 'with', 'Nepal', 'to', 'explore', 'five', 'new', 'drilling', 'areas', 'in', 'the', 'Himalayan', 'kingdom.', '5', '0000-00-00', '00:00:00', '\\\\N'], ['Globe', '--', 'Business', 'News', 'A', 'hotel', 'icon', 'guides', 'an', 'empire,', 'and', 'chooses', 'carpets', 'http___cache.boston.com_bonzai-fba_File-Based_Image_Resource_globe_archives_logo.gif.gif', 'Business', 'When', 'J.', 'Willard', 'Marriott', 'Jr.', 'popped', 'into', 'Boston', 'recently,', 'it', 'was', 'an', 'opportunity', 'to', 'talk', 'with', 'one', 'of', 'the', 'most', 'recognizable', 'names', 'in', 'the', 'world', 'about', 'the', 'business', 'he', 'knows', 'best:', 'hotels.', 'From', 'a', 'conference', 'room', 'in', 'the', 'Marriott', 'Copley', 'Plaza,', 'the', '72-year-old', 'chairman', 'and', 'namesake', 'of', 'the', '2,700-hotel', 'Marriott', 'Hotels', 'International', 'chain', 'spoke', 'with', 'Globe', 'reporter', 'Keith', 'Reed', 'on', '...', '4', '2004-08-18', '22:50:44', '\\\\N'], ['Globe', '--', 'Business', 'News', 'Steady', 'as', 'they', 'go', 'http___cache.boston.com_bonzai-fba_File-Based_Image_Resource_globe_archives_logo.gif.gif', 'Business', 'BEDFORD', '--', 'Scientists', 'at', 'NitroMed', 'Inc.', 'hope', 'their', 'experimental', 'drugs', 'will', 'cure', 'heart', 'disease', 'someday.', 'But', 'lately', 'their', 'focus', 'has', 'been', 'on', 'more', 'mundane', 'matters.', '4', '2004-08-18', '22:50:46', '\\\\N'], ['Globe', '--', 'Business', 'News', 'Google', 'IPO:', 'Type', 'in', \"'confusing,'\", \"'secrecy'\", 'http___cache.boston.com_bonzai-fba_File-Based_Image_Resource_globe_archives_logo.gif.gif', 'Business', \"I've\", 'submitted', 'my', 'bid', 'to', 'buy', 'shares', 'of', 'Google', 'Inc.', 'in', 'the', 'computer', 'search', \"company's\", 'giant', 'auction-style', 'initial', 'public', 'offering.', 'That', 'could', 'turn', 'out', 'to', 'be', 'the', 'good', 'news', 'or', 'the', 'bad', 'news.', '4', '2004-08-18', '22:50:49', '\\\\N'], ['Globe', '--', 'Business', 'News', 'A', 'bargain', \"hunter's\", 'paradise', 'http___cache.boston.com_bonzai-fba_File-Based_Image_Resource_globe_archives_logo.gif.gif', 'Business', 'Massachusetts', 'bargain', 'hunters', 'showed', 'up', 'in', 'droves', 'and', 'shopped', 'hard', 'on', \"yesterday's\", 'sales', 'tax', 'holiday,', 'buying', 'everything', 'from', 'treadmills', 'and', 'snow', 'blowers', 'to', 'candles', 'and', 'chandeliers,', 'and', 'crediting', 'the', '5-percent', 'tax', 'break', 'with', 'bringing', 'them', 'into', 'the', 'stores.', '4', '2004-08-18', '22:50:51', '\\\\N'], ['Globe', '--', 'Business', 'News', 'Researchers', 'seek', 'to', 'untangle', 'the', 'e-mail', 'thread', 'http___cache.boston.com_bonzai-fba_File-Based_Image_Resource_globe_archives_logo.gif.gif', 'Business', 'E-mail', 'is', 'a', 'victim', 'of', 'its', 'own', 'success.', \"That's\", 'the', 'conclusion', 'of', 'IBM', 'Corp.', 'researchers', 'in', 'Cambridge,', 'who', 'have', 'spent', 'nearly', 'a', 'decade', 'conducting', 'field', 'tests', 'at', 'IBM', 'and', 'other', 'companies', 'about', 'how', 'employees', 'work', 'and', 'use', 'electronic', 'mail.', \"It's\", 'clear', 'to', 'them', 'that', 'e-mail', 'has', 'become', 'the', \"Internet's\", 'killer', 'application.', '4', '2004-08-18', '22:50:53', '\\\\N'], ['Globe', '--', 'Business', 'News', 'Microsoft', 'Corp.', '2.0:', 'a', 'kinder', 'corporate', 'culture', 'http___cache.boston.com_bonzai-fba_File-Based_Image_Resource_globe_archives_logo.gif.gif', 'Business', 'Even', 'a', 'genius', 'can', 'mess', 'up.', 'Bill', 'Gates', 'was', 'a', 'brilliant', 'technologist', 'when', 'he', 'cofounded', 'Microsoft', ',', 'but', 'as', 'he', 'guided', 'it', 'to', 'greatness', 'in', 'both', 'size', 'and', 'historical', 'consequence,', 'he', 'blundered.', 'He', 'terrorized', 'underlings', 'with', 'his', 'temper', 'and', 'parceled', 'out', 'praise', 'like', 'Scrooge', 'gave', 'to', 'charity.', 'Only', 'the', 'lash', 'inspired', 'the', 'necessary', 'aggressiveness', 'to', 'beat', 'the', 'competition,', 'he', 'thought.', '4', '2004-08-18', '22:50:55', '\\\\N'], ['Globe', '--', 'Business', 'News', 'Letters', 'http___cache.boston.com_bonzai-fba_File-Based_Image_Resource_globe_archives_logo.gif.gif', 'Business', 'Target', 'the', 'abusers', 'of', 'legal', 'weapons', 'We', 'can', 'all', 'share', 'the', 'outrage,', 'expressed', 'by', 'columnist', 'Steve', 'Bailey', \"(''Summer\", 'Sizzler,&quot;', 'Aug.', '11),', 'at', 'the', 'killings', 'in', 'the', \"city's\", 'poor', 'neighborhoods.', 'But', \"there's\", 'no', 'need', 'to', 'share', 'his', 'ignorance.', 'He', 'argues', 'for', 'renewal', 'of', 'the', 'so-called', 'assault', 'weapon', 'ban,', 'claiming', 'that', 'otherwise,', \"''UZIs\", 'and', 'AK-47s', 'could', 'again', 'be', 'flooding', 'the', 'streets.&quot;', 'His', '...', '4', '2004-08-18', '22:50:57', '\\\\N'], ['Globe', '--', 'Business', 'News', 'Retailers', 'try', 'to', 'meet', 'budget,', 'style', 'needs', 'http___cache.boston.com_bonzai-fba_File-Based_Image_Resource_globe_archives_logo.gif.gif', 'Business', 'NEW', 'YORK', '--', 'Apparel', 'retailers', 'are', 'hoping', 'their', 'back-to-school', 'fashions', 'will', 'make', 'the', 'grade', 'among', 'style-conscious', 'teens', 'and', 'young', 'adults', 'this', 'fall,', 'but', 'it', 'could', 'be', 'a', 'tough', 'sell,', 'with', 'students', 'and', 'parents', 'keeping', 'a', 'tighter', 'hold', 'on', 'their', 'wallets.', '4', '2004-08-18', '22:50:59', '\\\\N'], ['Globe', '--', 'Business', 'News', 'Bandaged', 'power', 'grid', 'still', 'vulnerable', 'http___cache.boston.com_bonzai-fba_File-Based_Image_Resource_globe_archives_logo.gif.gif', 'Business', 'In', 'the', 'year', 'since', 'the', 'largest', 'blackout', 'in', 'US', 'history,', 'utilities', 'have', 'fixed', 'many', 'of', 'the', 'problems', 'that', 'contributed', 'to', 'the', 'breakdown', 'but', 'still', \"haven't\", 'resolved', 'larger', 'issues', 'that', 'could', 'lead', 'to', 'future', 'outages,', 'according', 'to', 'industry', 'officials,', 'regulators,', 'and', 'specialists.', '4', '2004-08-18', '22:51:02', '\\\\N'], ['Globe', '--', 'Business', 'News', 'Checking', 'funds', 'too', 'often', 'is', 'wasted', 'effort', 'http___cache.boston.com_bonzai-fba_File-Based_Image_Resource_globe_archives_logo.gif.gif', 'Business', 'Larry', 'from', 'Scottsdale,', 'Ariz.,', 'was', 'trying', 'to', 'compliment', 'me', 'recently,', 'writing', 'that', \"''he\", 'reads', '[my]', 'column', 'every', 'week,', 'right', 'after', 'I', 'see', 'how', 'my', 'mutual', 'funds', 'are', 'doing.&quot;', '4', '2004-08-18', '22:51:04', '\\\\N'], ['Globe', '--', 'Business', 'News', 'A', 'post-bankruptcy', 'strategy', 'to', 'tackle', 'debts', 'http___cache.boston.com_bonzai-fba_File-Based_Image_Resource_globe_archives_logo.gif.gif', 'Business', 'How', 'should', 'I', 'stabilize', 'my', 'financial', 'future?', 'I', 'am', '44', 'years', 'old', 'and', 'my', 'wife', 'is', '38.', 'She', 'declared', 'bankruptcy', 'a', 'year', 'ago', 'under', 'her', 'own', 'name;', 'I', 'did', 'a', 'bankruptcy', 'in', '1997.', 'We', 'were', 'able', 'to', 'buy', 'a', 'house', 'in', 'May', 'with', 'an', 'adjustable-rate', 'mortgage', 'that', 'has', 'a', '7.99', 'percent', 'interest', 'rate', 'as', 'a', 'result', 'of', 'our', 'credit.', 'I', '...', '4', '2004-08-18', '22:51:06', '\\\\N'], ['Globe', '--', 'Business', 'News', 'Somewhere', 'between', 'gleam', 'and', 'gloom', 'http___cache.boston.com_bonzai-fba_File-Based_Image_Resource_globe_archives_logo.gif.gif', 'Business', 'President', 'Bush', 'has', 'been', 'saying', 'that', 'the', 'US', 'economy', 'has', \"''turned\", 'the', 'corner.&quot;', 'Democratic', 'presidential', 'candidate', 'Senator', 'John', 'F.', 'Kerry,', 'in', 'the', 'wake', 'of', 'this', \"month's\", 'poor', 'jobs', 'report,', 'quipped', 'that', 'it', 'was', 'more', 'like', 'a', 'U-turn.', '4', '2004-08-18', '22:51:08', '\\\\N'], ['Globe', '--', 'Business', 'News', 'Technology', 'company', 'sues', 'five', 'ex-employees', 'http___cache.boston.com_bonzai-fba_File-Based_Image_Resource_globe_archives_logo.gif.gif', 'Business', 'A', 'Marlborough-based', 'technology', 'company', 'is', 'suing', 'five', 'former', 'employees,', 'including', 'three', 'senior', 'managers,', 'for', 'allegedly', 'conspiring', 'against', 'their', 'employer', 'while', 'working', 'on', 'opening', 'a', 'competing', 'business.', '4', '2004-08-18', '22:51:10', '\\\\N'], ['Globe', '--', 'Business', 'News', 'Grant', 'to', 'aid', 'Lynn', 'Central', 'Square', 'http___cache.boston.com_bonzai-fba_File-Based_Image_Resource_globe_archives_logo.gif.gif', 'Business', 'Central', 'Square', 'in', 'Lynn', 'should', 'be', 'looking', 'a', 'bit', 'brighter.', 'New', 'sidewalks,', 'curbs,', 'fences,', 'lights,', 'landscaping,', 'and', 'road', 'improvements', 'are', 'planned', 'for', 'the', 'Gateway', 'Artisan', 'Block,', 'a', 'key', 'area', 'of', 'the', 'square,', 'with', '$830,000', 'in', 'state', 'grant', 'money', 'given', 'to', 'Lynn', 'last', 'week.', '4', '2004-08-18', '22:51:12', '\\\\N'], ['Globe', '--', 'Business', 'News', 'State', 'grant', 'to', 'aid', 'Lynn;', 'Bank', 'gives', 'Salem', '$10k', 'http___cache.boston.com_bonzai-fba_File-Based_Image_Resource_globe_archives_logo.gif.gif', 'Business', 'Central', 'Square', 'in', 'Lynn', 'should', 'be', 'looking', 'a', 'bit', 'brighter.', 'New', 'sidewalks,', 'curbs,', 'fences,', 'lights,', 'landscaping,', 'and', 'road', 'improvements', 'are', 'planned', 'for', 'the', 'Gateway', 'Artisan', 'Block,', 'a', 'key', 'area', 'of', 'the', 'square,', 'with', '$830,000', 'in', 'state', 'grant', 'money', 'given', 'to', 'Lynn', 'last', 'week.', '4', '2004-08-18', '22:51:14', '\\\\N'], ['A', 'New', 'Legal', 'Chapter', 'for', 'a', \"90's\", 'Flameout', 'none', 'Business', 'A', 'lawsuit', 'against', 'Gary', 'Winnick,', 'the', 'former', 'chief', 'of', 'Global', 'Crossing,', 'refocuses', 'attention', 'on', 'what', 'Mr.', 'Winnick', 'knew', 'about', 'his', \"company's\", 'finances', 'as', 'it', 'imploded.', '5', '0000-00-00', '00:00:00', '\\\\N'], ['Will', 'Russia,', 'the', 'Oil', 'Superpower,', 'Flex', 'Its', 'Muscles?', 'none', 'Business', 'Russia', 'is', 'again', 'emerging', 'as', 'a', 'superpower', '-', 'but', 'the', 'reason', 'has', 'less', 'to', 'do', 'with', 'nuclear', 'weapons', 'than', 'with', 'oil.', '5', '0000-00-00', '00:00:00', '\\\\N'], ['Switching', 'Titles,', 'if', 'Not', 'Gears,', 'at', 'Dell', 'none', 'Business', 'Kevin', 'B.', 'Rollins,', 'the', 'new', 'chief', 'executive', 'of', 'Dell,', 'talks', 'about', \"Dell's\", 'transitory', 'slip', 'in', 'customer', 'service,', 'and', 'why', 'he', 'sees', 'a', 'broader', 'technology', 'recovery', 'taking', 'place.', '5', '0000-00-00', '00:00:00', '\\\\N'], ['For', 'Sale:', 'The', 'Ultimate', 'Status', 'Symbol', 'none', 'Business', 'With', 'the', 'country', 'in', 'need', 'of', 'cash', 'and', 'rich', 'people', 'dying', 'to', 'show', 'off', 'their', 'wealth,', 'Mr.', 'Stein', 'proposes', 'a', 'unique', 'solution:', 'having', 'the', 'government', 'sell', 'titles', 'of', 'nobility.', '5', '0000-00-00', '00:00:00', '\\\\N'], ['How', 'Donated', 'Dollars', 'Turn', 'Into', 'Pennies', 'none', 'Business', 'Nonprofit', 'organizations', 'have', 'long', 'used', 'professional', 'fund-raisers', 'to', 'help', 'raise', 'cash,', 'often', 'losing', 'the', 'bulk', 'of', 'the', 'donations', 'to', 'the', \"fund-raiser's\", 'fee.', '5', '0000-00-00', '00:00:00', '\\\\N'], [\"Dell's\", 'Oh', 'So', 'Swell', 'none', 'Business', 'Plus,', 'IBM', 'wants', 'help,', 'and', 'is', 'Google', 'overexposed?', '5', '0000-00-00', '00:00:00', '\\\\N'], ['Isle', 'of', 'Capri', 'Antes', 'up', 'for', 'Growth', 'none', 'Business', 'The', 'casino', 'operator', 'posts', 'a', 'drop', 'in', 'earnings', 'amid', 'construction.', '5', '0000-00-00', '00:00:00', '\\\\N'], ['IBM:', 'Help', 'Wanted', 'none', 'Business', 'Amid', 'signs', 'of', 'a', 'mixed', 'recovery', 'in', 'tech,', 'Big', 'Blue', 'lays', 'out', 'a', 'plan', 'to', 'add', '18,000', 'workers.', '5', '0000-00-00', '00:00:00', '\\\\N'], ['Ignore', 'Your', 'Lender', 'none', 'Business', 'Banks', 'let', 'you', 'get', 'away', 'with', 'a', 'lot', 'more', 'than', 'you', 'should.', '5', '0000-00-00', '00:00:00', '\\\\N'], ['Quality', 'Gets', 'Swept', 'Away', 'none', 'Business', 'Quality', 'Distribution', 'is', 'hammered', 'after', 'reporting', 'a', 'large', 'loss', 'for', 'the', 'second', 'quarter.', '5', '2004-08-18', '22:53:55', '\\\\N'], ['Cashing', 'in', 'on', 'Digital', 'Video', 'http___g.fool.com_art_free_foolpromo_125x125_dbc_no.gif.gif', 'Business', 'Apple,', 'Avid,', 'and', 'Adobe', 'are', 'leading', 'actors', 'on', 'the', 'digital', 'video', 'stage.', '5', '2004-08-18', '22:51:42', '\\\\N'], ['Making', 'Your', 'Insurer', 'Pay', 'http___s0b.bluestreak.com_ix.e?ir&s=174724.gif', 'Business', 'If', 'Hurricane', 'Charley', 'blows', 'your', 'house', 'down,', 'how', 'can', 'you', 'make', 'your', 'insurance', 'company', 'pay?', '5', '2004-08-18', '22:53:59', '\\\\N'], ['BEA', 'Systems', 'Bucks', 'Up', 'http___view.atdmt.com_INV_view_thmtlfsi00100290inv_direct_01_.gif', 'Business', 'The', 'software', \"company's\", 'stock', 'rises', 'on', 'improved', 'second-quarter', 'numbers.', '5', '2004-08-18', '22:51:52', '\\\\N'], ['Foolish', 'Collective', 'none', 'Business', 'Reflections', 'on', 'a', 'first', 'Foolday.', '5', '0000-00-00', '00:00:00', '\\\\N'], ['Delightful', 'Dell', 'http___s0b.bluestreak.com_ix.e?ir&s=174724.gif', 'Business', 'The', \"company's\", 'results', 'show', 'that', \"it's\", 'not', 'grim', 'all', 'over', 'tech', 'world.', 'Just', 'all', 'of', 'it', 'that', \"isn't\", 'Dell.', '5', '2004-08-18', '22:51:59', '\\\\N'], [\"Chrysler's\", 'Bling', 'King', 'none', 'Business', 'After', 'a', 'tough', 'year,', \"Detroit's\", 'troubled', 'carmaker', 'is', 'back', '--', 'thanks', 'to', 'a', 'maverick', 'designer', 'and', 'a', 'car', 'that', 'is', 'dazzling', 'the', 'hip-hop', 'crowd', '5', '2004-08-18', '22:53:59', '\\\\N'], ['Why', 'Oil', 'Prices', \"Aren't\", 'Falling', 'none', 'Business', 'The', 'troubles', 'of', 'Yukos', 'drive', 'up', 'the', 'price', '5', '2004-08-18', '22:53:59', '\\\\N'], ['Punching', 'at', 'iTunes', 'none', 'Business', 'How', 'rivals', 'are', 'taking', 'aim', 'at', \"Apple's\", 'dominance', 'in', 'digital', 'music', '5', '2004-08-18', '22:54:00', '\\\\N'], ['Scion', 'Grows', 'Up', 'none', 'Business', \"Toyota's\", 'trendy', 'youth', 'brand', 'gets', 'a', 'sporty', 'coupe.', 'Will', 'kids', 'get', 'on', 'board?', '5', '2004-08-18', '22:54:00', '\\\\N'], [\"What's\", 'Cool', 'In', 'the', 'Pool', '...', '...', 'And', 'Hot', 'On', 'the', 'Deck', 'none', 'Business', 'Americans', 'are', 'spending', 'more', 'on', 'tricking', 'out', 'the', 'places', 'where', 'they', 'swim.', \"Here's\", 'a', 'look', 'at', 'the', 'new', 'wave', 'of', 'accessories', '5', '2004-08-18', '22:54:00', '\\\\N'], ['Che', 'Lives!', 'none', 'Business', 'The', '1960s', \"communist's\", 'famous', 'likeness', 'is', 'a', 'hot', 'item', 'for', 'modern-day', 'capitalists', '5', '2004-08-18', '22:54:00', '\\\\N'], ['Made', 'in', 'the', 'U.S.A.', 'http___i.timeinc.net_time_images_sp_healthbook.jpg.gif', 'Business', 'Where', 'does', 'that', 'hamburger', 'come', 'from?', 'Those', 'strawberries?', \"America's\", 'ranchers', 'and', 'farmers', 'think', 'you', 'have', 'the', 'right', 'to', 'know', '5', '2004-08-18', '22:52:05', '\\\\N'], ['The', 'Age', 'of', 'Doom', 'http___i.timeinc.net_time_archive_redesign_images_pre_cover.gif.gif', 'Business', 'In', '1993', 'six', 'geeks', 'had', 'a', 'digital', 'nightmare', 'that', 'changed', 'the', 'culture.', \"It's\", 'about', 'to', 'get', 'far', 'creepier', '5', '2004-08-18', '22:52:08', '\\\\N'], ['Hip', \"Hop's\", 'Online', 'Shop', 'http___i.timeinc.net_time_images_sp_healthbook.jpg.gif', 'Business', 'Celebrity', 'fashion', 'is', 'booming.', 'These', 'webpreneurs', 'are', 'bringing', 'it', 'to', 'main', 'street', '5', '2004-08-18', '22:52:10', '\\\\N'], ['Stoking', 'the', 'Steamroller', 'http___i.timeinc.net_time_images_sp_healthbook.jpg.gif', 'Business', 'No', 'other', 'recording', 'artist', 'can', 'channel', 'American', 'middle-class', 'tastes', 'quite', 'like', 'Chip', 'Davis', 'and', 'his', 'best-selling', 'band', '5', '2004-08-18', '22:52:12', '\\\\N'], ['Coming', 'to', 'The', 'Rescue', 'http___i.timeinc.net_time_images_sp_healthbook.jpg.gif', 'Business', 'Got', 'a', 'unique', 'problem?', 'Not', 'to', 'worry:', 'you', 'can', 'find', 'a', 'financial', 'planner', 'for', 'every', 'specialized', 'need', '5', '2004-08-18', '22:52:14', '\\\\N'], ['The', 'New', 'Customers', 'Are', 'In', 'Town', 'http___www.apmforum.com_images_east.jpg.gif', 'Business', \"Today's\", 'customers', 'are', 'increasingly', 'demanding,', 'in', 'Asia', 'as', 'elsewhere', 'in', 'the', 'world.', 'Henry', 'Astorga', 'describes', 'the', 'complex', 'reality', 'faced', 'by', \"today's\", 'marketers,', 'which', 'includes', 'much', 'higher', 'expectations', 'than', 'we', 'have', 'been', 'used', 'to.', \"Today's\", 'customers', 'want', 'performance,', 'and', 'they', 'want', 'it', 'now!', '5', '2004-08-18', '22:52:16', '\\\\N'], ['Bridge', 'Story', '-', 'A', 'Tale', 'of', 'Two', 'Dragon', 'Cities', 'http___www.apmforum.com_images_pisetpic.gif.gif', 'Business', 'For', 'first', 'time', 'visitors', 'to', 'China,', 'one', 'of', 'the', 'most', 'stunning', 'entry', 'points', 'is', 'Shanghai.', 'The', 'view', 'from', 'the', 'mouth', 'of', 'the', 'Yangze', 'River,', 'which', 'looks', 'out', 'over', 'Shanghai', 'and', 'other', 'cities,', 'reveals', 'an', 'incredible', 'urban', 'and', 'industrial', 'panorama,', 'clearly', 'one', 'of', 'the', 'most', 'rapidly', 'developing', 'areas', 'among', 'all', 'the', 'cities', 'of', 'the', 'world.', 'And', 'yet', '.', '.', '.', 'The', 'Chinese', 'have', 'described', 'themselves', 'as', '\"A', 'plate', 'of', 'scattered', 'sand', 'grains\"', 'that', 'would', 'never', 'join', 'or', 'unite', 'with', 'each', 'other.', 'Piset,', 'in', 'his', 'latest', 'Awakening', 'Dragon', 'column,', 'tells', 'the', 'story', 'of', 'Two', 'Bridges', 'to', 'illustrate', 'just', 'some', 'of', 'the', 'underlying', 'dynamics', 'of', \"China's\", 'explosive', 'economic', 'growth.', '5', '2004-08-18', '22:52:18', '\\\\N'], ['Barrel', 'of', 'Monkeys,', '2004', 'Edition:', 'Notes', 'on', 'Philippine', 'Elections', 'http___www.apmforum.com_images_orientseas.gif.gif', 'Business', 'Well,', \"it's\", 'election', 'time', 'in', 'the', 'Republic', 'of', 'the', 'Philippines,', 'and', 'that', 'means', 'the', 'monkeys', 'are', 'rolling', 'around', 'in', 'those', 'political', 'barrels,', 'having', 'as', 'much', 'fun', 'as', 'they', 'can', 'while', 'laughing', 'their', 'heads', 'off', 'at', 'the', 'strange', 'goings-on', 'that', 'characterize', 'a', 'democratic', 'process', 'loosely', 'based', 'on', 'the', 'American', 'model', 'but', 'that', 'de', 'facto', 'looks', 'more', 'like', 'a', 'Fellini', 'movie', 'crossed', 'with', 'a', 'Tom', 'and', 'Jerry', 'cartoon', '-', 'column', 'includes', 'a', 'useful', 'election-year', 'glossary!', '5', '2004-08-18', '22:52:19', '\\\\N'], ['Globalization', 'Circa', '2003:', 'Random', 'Reflections', 'http___www.apmforum.com_images_orientseas.gif.gif', 'Business', 'The', 'word', \"'globalization'\", 'seems', 'to', 'have', 'evolved', 'into', 'a', 'cliche', 'and', 'handy', 'dandy', 'fighting', 'word', 'for', 'ideologues.', 'The', 'alternative', '(and', 'often', 'conflicting)', 'definitions', 'and', 'interpretations', 'are', 'enough', 'to', 'make', 'you', 'dizzy.', '5', '2004-08-18', '22:52:20', '\\\\N'], ['Oldsmobile:', 'The', 'final', 'parking', 'lot', 'http___www.brandingasia.com_images_imagesmall.gif.gif', 'Business', 'Why', 'General', 'Motors', 'dropped', 'the', 'Oldsmobile.', 'The', 'four', 'brand', 'paradoxes', 'GM', 'had', 'to', 'face', '-', 'the', 'name,', 'the', 'product,', 'image', 're-positioning,', 'and', 'the', 'consumer', '-', 'all', 'added', 'up', 'to', 'a', 'brand', 'that', 'had', 'little', 'hope', 'of', 'rebranding.', '5', '2004-08-18', '22:52:22', '\\\\N'], ['Not', 'All', 'Jobs', 'Belong', 'To', 'The', 'White', 'Man:', 'Asian', 'Minorities,', 'Affirmative', 'Action,', 'And', 'The', 'Quest', 'For', 'Parity', 'At', 'Work', 'http___www.apmforum.com_images_east.jpg.gif', 'Business', 'Although', 'a', 'smattering', 'of', 'Chinese,', 'Filipinos,', 'Japanese,', 'Indians,', 'Thais,', 'and', 'others', 'may', 'crow', 'about', 'seeing', 'their', 'kind', 'sitting', 'in', 'prominent', 'positions', 'in', 'corporations', 'and', 'organizations', 'in', 'the', 'USA,', 'these', 'accomplishments', 'become', 'mere', 'cultural', 'high-fives', 'and', 'ritualistic', 'chest-thumping', 'goaded', 'and', 'impishly', 'patronized', 'by', \"'mainstream\", \"society'\", '-', 'the', 'milder', 'and', 'gentler', 'term', 'for', 'the', 'white-dominated', 'populace.', '5', '2004-08-18', '22:52:23', '\\\\N'], ['Downhome', 'Pinoy', 'Blues,', 'Intersecting', 'Life', 'Paths,', 'and', 'Heartbreak', 'Songs', 'http___www.apmforum.com_images_orientseas.gif.gif', 'Business', 'The', 'Blues', 'is', 'alive', 'and', 'well', 'in', 'the', 'Philippines,', 'as', 'evidenced', 'by', 'this', 'appreciation', 'of', 'the', 'Pinoy', 'Blues', 'band', \"'Lampano\", \"Alley',\", 'penned', 'by', 'columnist', 'Clarence', 'Henderson', 'as', 'a', 'counterpoint', 'to', 'his', 'usual', 'economics,', 'business,', 'and', 'culture', 'fare.', '5', '2004-08-18', '22:52:24', '\\\\N'], ['The', 'Best', 'Places', 'in', 'Asia', 'Survey', 'http___www.apmforum.com_images_travel.gif.gif', 'Business', 'Thailand,', 'after', 'escaping', 'the', 'worst', 'ravages', 'of', 'SARS', 'and', 'terror', 'attacks,', 'is', 'the', 'place', 'of', 'choice', 'for', 'APMF', 'readers', 'right', 'now', 'in', 'our', \"'Best\", 'Places', 'in', \"Asia'\", 'survey.', 'After', 'more', 'than', '5,000', 'votes', 'since', 'March', '2003,', 'Thailand', 'dominates', 'the', 'tourism', 'categories', '(Best', 'Business', 'Hotel,', 'Restaurant,', 'Hawker', 'Food,', 'Tourist', 'Resort,', 'Bar,', 'and', 'Guest', 'House)', 'but', 'Bali,', 'Hong', 'Kong,', 'and', 'Malaysia', 'lead', 'other', 'sections', 'such', 'as', 'Best', 'Airline,', 'Airport,', 'City,', 'and', 'Tourism', 'Destination.', '5', '2004-08-18', '22:52:25', '\\\\N'], ['Best', 'Cities', 'in', 'Asia', 'for', 'Living', 'http___www.apmforum.com_images_travel.gif.gif', 'Business', 'Chiang', 'Mai', 'is', 'the', 'surprise', 'leader', 'in', 'the', 'newest', 'category', 'of', 'the', 'APMF', 'Asian', 'Business', 'Travel', 'Survey,', 'nudging', 'out', 'Singapore,', 'Kuala', 'Lumpur,', 'Bangkok', 'and', 'Hong', 'Kong', 'as', 'the', 'most', 'livable', 'city', 'in', 'Asia.', 'Add', 'your', 'vote', 'and', 'reasons', 'to', 'make', 'your', 'opinion', 'count.', 'Our', 'Best', 'Airlines', 'survey', 'has', 'also', 'surpassed', 'the', '1,000', 'respondent', 'mark,', 'with', 'Cathay', 'Pacific', 'extending', 'their', 'lead', 'over', 'Singapore', 'Airlines.', '5', '2004-08-18', '22:52:26', '\\\\N'], ['The', 'Real', 'Time', 'Modern', 'Manila', 'Blues:', 'Bill', 'Monroe', 'Meets', 'Muddy', 'Waters', 'in', 'the', 'Orient', 'http___www.apmforum.com_images_orientseas.gif.gif', 'Business', 'Globalization', 'does', 'strange', 'things', 'to', 'people.', 'A', 'day', 'in', 'the', 'life', 'of', 'a', 'Manila', 'Philippines', 'based', 'business', 'consultant', '-', 'proving', 'that', 'you', 'really', 'CAN', 'talk', 'about', 'Muddy', 'Walters,', 'bluegrass', 'and', 'work', 'all', 'on', 'the', 'same', 'page...', '5', '2004-08-18', '22:52:27', '\\\\N'], ['Best', 'Asian', 'Tourism', 'Destinations', 'http___www.apmforum.com_images_travel.gif.gif', 'Business', 'The', 'new', 'APMF', 'survey', 'of', 'the', 'best', 'Asian', 'tourism', 'destinations', 'has', 'just', 'kicked', 'off,', 'but', \"it's\", 'crowded', 'at', 'the', 'top,', 'with', 'Chiang', 'Mai', 'in', 'Thailand', 'just', 'leading', 'from', 'perennial', 'favourites', 'Hong', 'Kong,', 'Bangkok', 'and', 'Phuket', 'in', 'Thailand,', 'and', 'Bali', 'in', 'Indonesia.', 'Be', 'one', 'of', 'the', 'first', 'to', 'vote', 'and', 'let', 'us', 'know', 'your', 'reasons.', '5', '2004-08-18', '22:52:28', '\\\\N'], ['What', 'are', 'the', 'best', 'cities', 'for', 'business', 'in', 'Asia?', 'http___www.apmforum.com_images_travel.gif.gif', 'Business', 'One', 'of', 'our', 'new', 'categories', 'in', 'the', 'APMF', 'Sense', 'of', 'Place', 'survey', 'is', 'for', 'best', 'Asian', 'business', 'city.', 'After', 'a', 'couple', 'of', 'days,', 'Singapore', 'leads', 'the', 'pack,', 'followed', 'by', 'Bangkok,', 'Thailand', 'and', 'Hong', 'Kong.', 'Enter', 'your', 'vote', 'and', 'comments', 'and', 'make', 'your', 'views', 'count.', 'More', 'new', 'categories', 'include', 'best', 'city', 'for', 'livability,', 'and', 'best', 'tourism', 'destinations.', '5', '2004-08-18', '22:52:29', '\\\\N']]\n",
            "['requests:', 'galactico', 'Transgender', 'tips?\\\\', '&quot;Mahatma&quot;', 'Fagernes.', 'Governments', 'src=\"http://feeds.feedburner.com/~r/time/topstories/~4/221838897\"', '04:32:40', \"'kidnap'\", 'http___wwwi.reuters.com_images_w148_amdf809543.jpg.gif', 'Argylls', 'one-on-one,', \"medicine'\", 'oxcarbazepine', 'assets', 'waives', 'five-man', 'http___www.repubblica.it_2006_09_sezioni_scuola_e_universita_servizi_test-universit-_interrogazione-universit-_sian_11113064_29500.jpg.gif', 'http___newsimg.bbc.co.uk_media_images_42395000_jpg__42395427_impersonator_ap6666.jpg.gif', 'http___im.rediff.com_movies_2006_sep_29krishna1.jpg.gif', \"'Dexter'\", 'Willia...', 'waterlogged', '&quot;cock', 'Married...She', '64G', '&#39;Package', 'Writting', '22:58:09', '16:30:42', 'Propeller', 'Brabeck-Letmathe', 'cabbage', 'Geneva.\\\\', 'Donna</i>', 'href=\"http://eu.mywayfinder.com/index.us.php\">MyWayfinder.com</a>,', 'src=\"http://www.comics.com/creators/liberty/archive/images/liberty2610850061211.gif\"', 'eways.', 'PARDON', 'CC.', '[stats', '(14),', 'writers:', 'groups\"', 'Gedstad,', 'Dissent', 'evoluzioni', '\"FermerÃ²', 'chivalrous', 'http___newsimg.bbc.co.uk_media_images_44189000_jpg__44189084_ashton2_pa_203.jpg.gif', 'login.<br', 'Vana', 'Diamond,Â\\x94', '00:44:53', 'E-300', '70-80)', 'DISTORSIONE', '$2bn', 'http___www.ansa.it_main_notizie_awnplus_topnews_med_6855c2505f9d093d415af629ad1247cd.jpg.gif', 'Noth', 'Doble.â\\x80\\x9d', 'brasiliano:...', 'class=\"ArticleBody\">Yasu', '$4.09', \"appeals'\", '01:02:00', \"'Conversion'\", 'Flooding&amp;catOID=45C9C78A-88AD-11D4-A57200A0CC5EE46C&amp;categoryname=Americas', 'setback&quot;.', 'Qualcomm-Broadcom', 'ACC&#39;s', 'http___newsimg.bbc.co.uk_media_images_42148000_jpg__42148362_reina203apcredit.jpg.gif', 'Who!', 'Clarksville.<br', 'MOVES', 'http___ad.doubleclick.net_ad_usmf.cont.aheadofthecurve_aheadofthecurve_pos_leftnav_2_seg_v_src__sz_125x125_ptile_12_ord_74296206_.gif', '``outrageous', 'vesti', 'unquenched', 'insane.', 'Detane', \"Martinez's\", '8149-Great', 'swings.<br', 'src=\"http://www.comics.com/creators/liberty/archive/images/liberty2040738070904.gif\"', '13:08:39', '03:50:37', 'bottleshops', \"'War'\", 'BEHAVIOR', 'Genocide', 'SPINELLE', 'http___www.repubblica.it_2006_12_sezioni_esteri_omicidi-prostitute-londra_cinque-sospetti_ansa_9420428_46020.jpg.gif', 'Regent:', 'all-rerun', 'Pascal\\\\', 'REPUBLIC:', 'src=\"http://ad.doubleclick.net/ad/idg.us.info.rss/news;pos=imu;tile=6;sz=336x280;skey=operating_systems;pkey=platforms;skey=mac;ord=123456789?\"', 'Flowers?', 'fake&#39;', 'p.m.-midnight)', 'href=\"http://ad.doubleclick.net/jump/wpni.rss/world;pos=ad9;tile=9;ad=rss;sz=479x40;ord=71521512508\"', 'Satya', 'meteorite,', 'Joyner-Kersee,', '\"rabbit', 'mikes', 'meta-analysis', 'RESOLVE', '\"<b>Tyle...', \"'cooperation'\", '05:36:25', 'waxen.', \"lord's'\", 'two-door', '22:05:51', \"'before\", '08:16:33', 'Marburg', 'sidewheel', '03:50:54', '19:06,', 'unambiguous.\"', 'WCF', 'additivi,', 'http___www.redorbit.com_modules_imglib_resize.php_Url__modules_news_upload_fae7df098ba143fe167a69caa2e0e13e.jpg&resize_type_fixed&width_250&height_180.gif', 'HREF=\"http://www.investor.reuters.com/FullQuote.aspx?ticker=CZR.N&target=/stocks/quickinfo/fullquote\">CZR.N</A>,', 'storm-devastated', 'doctor.</p><p', 'partnership,', 'permanently.', 'src=\"http://ad.doubleclick.net/ad/wpni.rss/sports;pos=ad9;tile=9;ad=rss;sz=479x40;ord=392512357999\"', 'EXPO:', 'co-favorite', \"l'Ascoli:\", 'Giants...', 'href=\"http://www.topix.net/forum/link/thread?forum=world/europe&artsig=c892aa7f8f\">Comment</a>', 'WPP&#39;s', 'sights;', \"'improvise'\", 'penalises', '22:36:19', \"all'Equipe,\", 'java.', 'riaffidata', 'uncoated', '10:05)', 'Mil.', 'Splintering,', \"'Dog\", 'neozelandesi', 'Contreras.', '11/01/05', \"'upsets\", 'Rinvio', 'field.', '13:37:08', '14,00,', 'Jealous', \"'care'\", 'reprioritize', 'JEFFERSON', 'Brewery', 'http___newsimg.bbc.co.uk_media_images_42402000_jpg__42402672_borg66.jpg.gif', '00:38:58', '1989,', 'enlistees.', '02:54:37', 'http___ad.doubleclick.net_ad_N815.news_B2418947_abr_!ie4_abr_!ie5_sz_300x250_ord_2007.09.26.05.28.37_.gif', 'http___ad.doubleclick.net_ad_reuters.co.uk_news_technology_article_type_HighImpact_ptile_2_sz_300x250_articleID_2007-12-19T210946Z_01_N19619136_RTRIDST_0_TECH-WEB-VIDEOS-DC.XML_ord_6730_.gif', '+5,7%', '(d)', \"'Langston\", 'topic--and', 'http___ad.doubleclick.net_ad_reuters.com.dart_news_business_article_type_HighImpact_ptile_2_sz_300x250_articleID_2007-08-31T153446Z_01_N31219507_RTRUKOC_0_US-AMAZON-MUSIC.xml_ord_9133_.gif', 'name)', 'class=\"ArticleBody\">Google', 'Fidel\"', '(DCX.ETR),', \"'Trinidad'\", 'EMATICHE', 'Iwamura,', 'Megamix', \"'male\", 'http___ad.doubleclick.net_ad_usmf.news.investing_hybridstockadvisor_pos_right_1_seg_v_src__sz_336x280_ptile_9_ord_70653933_.gif', '\"walking', 'blizzard.', 'Findability', 'http___view.atdmt.com_IWC_view_cntnkqbk0010000055iwc_direct_01_2008.01.07.15.00.19.gif', 'http___cache.boston.com_resize_bonzai-fba_Globe_Photo_2008_01_21_1200977281_2714_300h.jpg.gif', 'Leschi', 'Wasilla', \"act'\", 'href=\"http://ad.doubleclick.net/jump/wpni.rss/world;pos=ad9;tile=9;ad=rss;sz=479x40;ord=48302312669\"', 'assignments', '21...', 'Jones)--Key', 'terribili', '17:38:15']\n"
          ]
        }
      ]
    },
    {
      "cell_type": "code",
      "source": [],
      "metadata": {
        "id": "D6lsEiAJf1RF"
      },
      "execution_count": null,
      "outputs": []
    },
    {
      "cell_type": "code",
      "source": [
        "# Splitting data into training and test\n",
        "test_percentage = 0.2\n",
        "random.shuffle(data_articles)\n",
        "split_point = int(len(data_articles)*test_percentage)\n",
        "training_set = data_articles[split_point::]\n",
        "test_set = data_articles[:split_point:]"
      ],
      "metadata": {
        "id": "tSQMCFvbDjJM"
      },
      "execution_count": 6,
      "outputs": []
    },
    {
      "cell_type": "code",
      "source": [
        "# Word embedding initialization with random values\n",
        "mean = 0\n",
        "std_dev = 0.01\n",
        "vocab_size = len(vocabulary)\n",
        "embedding_size = 150 #Hardcoded value for the size of the vectors\n",
        "word_embeddings = np.random.normal(mean, std_dev, size=(vocab_size, embedding_size))\n",
        "hidden_size = 500  # Size of the hidden state vectors\n",
        "\n",
        "# Create a dictionary to map words to their embedding vectors\n",
        "word_to_embedding = {}\n",
        "for i, word in enumerate(vocabulary):\n",
        "    word_to_embedding[word] = word_embeddings[i]"
      ],
      "metadata": {
        "id": "enODZ5lLI3qC"
      },
      "execution_count": 7,
      "outputs": []
    },
    {
      "cell_type": "code",
      "source": [
        "# Initialize weights randomly\n",
        "W_e = np.random.normal(mean, std_dev, size=(vocab_size, embedding_size))\n",
        "W_h = np.random.normal(mean, std_dev, size=(hidden_size,hidden_size))\n",
        "W_y = np.random.normal(mean, std_dev, size=(hidden_size,hidden_size))# Hidden to output\n",
        "bh = np.zeros((hidden_size, 1))  # Hidden bias\n",
        "by = np.zeros((vocab_size, 1))  # Output bias\n"
      ],
      "metadata": {
        "id": "l0yWqAXzbNHq"
      },
      "execution_count": null,
      "outputs": []
    },
    {
      "cell_type": "code",
      "source": [],
      "metadata": {
        "id": "40ncTkkUWgX9"
      },
      "execution_count": 8,
      "outputs": []
    },
    {
      "cell_type": "code",
      "source": [
        "# One hot encoded vocabulary\n",
        "vocabulary_list = list(vocabulary)\n",
        "\n",
        "vocabulary_list.sort()  # Sorting to ensure consistent indexing\n",
        "\n",
        "# Create a dictionary that maps words to indices based on the sorted order\n",
        "word_to_index = {word: i for i, word in enumerate(vocabulary)}"
      ],
      "metadata": {
        "id": "6A0YL2tBVh3h"
      },
      "execution_count": null,
      "outputs": []
    },
    {
      "cell_type": "code",
      "source": [
        "def sentence_to_indices(sentence, word_to_index):\n",
        "    return [word_to_index.get(word, word_to_index['<UNK>']) for word in sentence.split()]"
      ],
      "metadata": {
        "id": "X5sf0WJdmKdG"
      },
      "execution_count": null,
      "outputs": []
    },
    {
      "cell_type": "code",
      "source": [
        "def softmax(x):\n",
        "  return np.exp(x)/sum(np.exp(x))"
      ],
      "metadata": {
        "id": "4L30yXQBIAkb"
      },
      "execution_count": null,
      "outputs": []
    },
    {
      "cell_type": "code",
      "source": [
        "def tahnh(x):\n",
        "  return np.tanh(x)"
      ],
      "metadata": {
        "id": "U0UwotcsMbGB"
      },
      "execution_count": null,
      "outputs": []
    },
    {
      "cell_type": "code",
      "source": [
        "# Input the probabilies and the true value\n",
        "def cross_entropy(y_probs,y_true):\n",
        "  return -np.sum(y_true * np.log(y_probs))"
      ],
      "metadata": {
        "id": "NKUkOR4mM-Lx"
      },
      "execution_count": null,
      "outputs": []
    },
    {
      "cell_type": "code",
      "source": [
        "# Input the sentnece as thie index representation\n",
        "# parameters: dictionary with keys -> W_e, W_h, W_y, bh, by\n",
        "def forward_pass(indices, word_embeddings,parameters):\n",
        "    h_prev = np.zeros((hidden_size, 1))  # Initial hidden state\n",
        "\n",
        "    states = {'es': {},'hs': {},'ys': {},'ps': {}}\n",
        "    states['hs'][-1] = np.copy(h_prev)\n",
        "\n",
        "    # Forward pass\n",
        "    for t in range(len(indices)):\n",
        "        states['es'][t] = word_embeddings[indices[t]]  # Embedding vector for current input word\n",
        "        h_rec = np.dot(parameters['W_h'], h_prev)+ np.dot(parameters['W_e'], states['es'][t]) + parameters['bh']\n",
        "        states['hs'][t] = tahnh(h_rec)  # Hidden state\n",
        "        states['ys'][t] = np.dot(parameters['W_y'], states['hs'][t]) + parameters['by']  # Unnormalized log probabilities for next words\n",
        "        states['ps'][t] = softmax(states['ys'][t])  # Probabilities for next words\n",
        "        h_prev = states['hs'][t]  # Pass the current hidden state to the next time step\n",
        "    return states"
      ],
      "metadata": {
        "id": "7KgFU-K4HSrq"
      },
      "execution_count": null,
      "outputs": []
    },
    {
      "cell_type": "code",
      "source": [
        "# Backpropagation\n",
        "# outputs -> dictionary of dictionaries: es, hs, ys, ps\n",
        "# parameters -> dictionary with: W_h, W_y, bh, by\n",
        "\n",
        "def backward_pass(inputs,outputs, parameters):\n",
        "    gradients = {\n",
        "        'dW_e': np.zeros_like(W_e),\n",
        "        'dW_h': np.zeros_like(parameters['W_h']),\n",
        "        'dW_y': np.zeros_like(parameters['W_y']),\n",
        "        'dbh': np.zeros_like(parameters['bh']),\n",
        "        'dby': np.zeros_like(parameters['by'])\n",
        "    }\n",
        "    dh_next = np.zeros_like(parameters['hs'][0])\n",
        "    updated_parameters =\n",
        "    for t in reversed(range(len(inputs))):\n",
        "        dy = np.copy(outputs['ps'][t])\n",
        "        dy[outputs['ys'][t]] -= 1  # Backprop into y\n",
        "        gradients['dW_y'] += np.dot(dy, outputs['hs'][t].T)\n",
        "        gradients['dby'] += dy\n",
        "        dh = np.dot(parameters['W_y'].T, dy) + dh_next  # Backprop into h\n",
        "        dh_rec = (1 - outputs['hs'][t] * outputs['hs'][t]) * dh  # Backprop through tanh nonlinearity\n",
        "        gradients['dbh'] += dh_rec\n",
        "        gradients['dW_h'] += np.dot(dh_rec, outputs['hs'][t-1].T)\n",
        "        gradients['dW_e'] += np.dot(dh_rec, outputs['es'][t].T)\n",
        "        dh_next = np.dot(parameters['W_h'].T, dh_rec)\n",
        "\n",
        "    for gradientKey in gradients:\n",
        "        np.clip(gradients[gradientKey], -5, 5, out=gradients[gradientKey])  # Clip to mitigate exploding gradients\n",
        "    return gradients\n"
      ],
      "metadata": {
        "id": "h_c6LcuMQEEJ"
      },
      "execution_count": null,
      "outputs": []
    },
    {
      "cell_type": "code",
      "source": [
        "# Update weights\n",
        "def update_parameters(parameters, gradients, learning_rate):\n",
        "    # parameters and gradients are dictionaries with the same keys: 'W_e', 'W_h', 'W_y', 'bh', 'by'\n",
        "    for key in parameters.keys():\n",
        "        parameters[key] -= learning_rate * gradients['d' + key]"
      ],
      "metadata": {
        "id": "OXxWrosQALZX"
      },
      "execution_count": null,
      "outputs": []
    },
    {
      "cell_type": "code",
      "source": [
        "gradients = {\n",
        "    'dW_e': dW_e,\n",
        "    'dW_h': dW_h,\n",
        "    'dW_y': dW_y,\n",
        "    'dbh': dbh,\n",
        "    'dby': dby\n",
        "}\n",
        "\n",
        "# And we have our parameters 'W_e', 'W_h', 'W_y', 'bh', 'by'\n",
        "parameters = {\n",
        "    'W_e': W_e,\n",
        "    'W_h': W_h,\n",
        "    'W_y': W_y,\n",
        "    'bh': bh,\n",
        "    'by': by\n",
        "}\n"
      ],
      "metadata": {
        "id": "WiiTahqQ68kJ"
      },
      "execution_count": null,
      "outputs": []
    },
    {
      "cell_type": "code",
      "source": [
        "# Training\n",
        "def training(mini_batches,gradients,parameters,vocabulary,learning_rate):\n",
        "  for batch in mini_batches:\n",
        "\n",
        "    indices = word_to_index(batch)\n",
        "    # forward_pass(indices, word_embeddings,parameters)\n",
        "    outputs = forward_pass(indices,word_embeddings,parameters)\n",
        "    # backward_pass(inputs,outputs, parameters)\n",
        "    gradients = backward_pass(indices,outputs,parameters)\n",
        "    update_parameters(parameters,gradients,learning_rate)\n",
        "\n",
        "    # Computing Loss\n",
        "\n"
      ],
      "metadata": {
        "id": "ZK7zuSUz9Glx"
      },
      "execution_count": null,
      "outputs": []
    }
  ]
}