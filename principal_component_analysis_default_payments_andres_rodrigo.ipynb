{
  "nbformat": 4,
  "nbformat_minor": 0,
  "metadata": {
    "colab": {
      "provenance": [],
      "collapsed_sections": [],
      "include_colab_link": true
    },
    "kernelspec": {
      "name": "python3",
      "display_name": "Python 3"
    }
  },
  "cells": [
    {
      "cell_type": "markdown",
      "metadata": {
        "id": "view-in-github",
        "colab_type": "text"
      },
      "source": [
        "<a href=\"https://colab.research.google.com/github/rodrigoromanguzman/Actividades_Aprendizaje-/blob/main/principal_component_analysis_default_payments_andres_rodrigo.ipynb\" target=\"_parent\"><img src=\"https://colab.research.google.com/assets/colab-badge.svg\" alt=\"Open In Colab\"/></a>"
      ]
    },
    {
      "cell_type": "markdown",
      "metadata": {
        "id": "VQ3syspj_rKn"
      },
      "source": [
        "<h1><b>Andes Julian Lopez</b>- A01793899</h1>\n",
        "<h1><b>Rodrigo Ildefonso Roman Guzman</b>-A01794225</h1>\n",
        "<h1>Principal Component Analysis (PCA)|Actividad Semanal -- 4| Jobish Vallikavungal Devassia</h1>"
      ]
    },
    {
      "cell_type": "markdown",
      "source": [],
      "metadata": {
        "id": "UMP8DyZONK6V"
      }
    },
    {
      "cell_type": "markdown",
      "metadata": {
        "id": "xJGl9TcT_skx"
      },
      "source": [
        "## Importing the libraries"
      ]
    },
    {
      "cell_type": "code",
      "metadata": {
        "id": "BNEgrGwd_29D"
      },
      "source": [
        "import numpy as np\n",
        "import matplotlib.pyplot as plt\n",
        "import pandas as pd"
      ],
      "execution_count": null,
      "outputs": []
    },
    {
      "cell_type": "markdown",
      "metadata": {
        "id": "Hyp1gza1_6qX"
      },
      "source": [
        "## Importing the dataset"
      ]
    },
    {
      "cell_type": "code",
      "metadata": {
        "id": "lPLTDBVI__ZQ"
      },
      "source": [
        "path = 'https://raw.githubusercontent.com/PosgradoMNA/Actividades_Aprendizaje-/main/default%20of%20credit%20card%20clients.csv'\n",
        "dataset = pd.read_csv(path)\n"
      ],
      "execution_count": null,
      "outputs": []
    },
    {
      "cell_type": "markdown",
      "source": [
        "<h3>Cleaning the data</h3>"
      ],
      "metadata": {
        "id": "qqG8CsviUH4S"
      }
    },
    {
      "cell_type": "code",
      "source": [
        "from scipy import stats\n",
        "\n",
        "#Separamos las variables categoricas y dejamos afuera la variable y (obejtivo)\n",
        "nonCategorical = [dataset.iloc[:,1:2].copy(),dataset.iloc[:,12:-1].copy()]\n",
        "\n",
        "filledDataset = pd.concat(nonCategorical,axis =1, sort=False)\n",
        "\n",
        "#Como tenemos suficientes datos podemos deshacernos de las filas que tienen elementos vacios\n",
        "filledDataset.dropna(axis = 0,inplace = True)\n",
        "\n",
        "\n",
        "print(filledDataset)"
      ],
      "metadata": {
        "id": "ypghJYe6UO1B",
        "outputId": "183f99fb-87d4-4e12-905c-3e8cd0f31a24",
        "colab": {
          "base_uri": "https://localhost:8080/"
        }
      },
      "execution_count": null,
      "outputs": [
        {
          "output_type": "stream",
          "name": "stdout",
          "text": [
            "           X1       X12       X13       X14      X15      X16      X17  \\\n",
            "0       20000    3913.0    3102.0     689.0      0.0      0.0      0.0   \n",
            "1      120000    2682.0    1725.0    2682.0   3272.0   3455.0   3261.0   \n",
            "2       90000   29239.0   14027.0   13559.0  14331.0  14948.0  15549.0   \n",
            "3       50000   46990.0   48233.0   49291.0  28314.0  28959.0  29547.0   \n",
            "4       50000    8617.0    5670.0   35835.0  20940.0  19146.0  19131.0   \n",
            "...       ...       ...       ...       ...      ...      ...      ...   \n",
            "29995  220000  188948.0  192815.0  208365.0  88004.0  31237.0  15980.0   \n",
            "29996  150000    1683.0    1828.0    3502.0   8979.0   5190.0      0.0   \n",
            "29997   30000    3565.0    3356.0    2758.0  20878.0  20582.0  19357.0   \n",
            "29998   80000   -1645.0   78379.0   76304.0  52774.0  11855.0  48944.0   \n",
            "29999   50000   47929.0   48905.0   49764.0  36535.0  32428.0  15313.0   \n",
            "\n",
            "           X18      X19      X20     X21      X22     X23  \n",
            "0          0.0    689.0      0.0     0.0      0.0     0.0  \n",
            "1          0.0   1000.0   1000.0  1000.0      0.0  2000.0  \n",
            "2       1518.0   1500.0   1000.0  1000.0   1000.0  5000.0  \n",
            "3       2000.0   2019.0   1200.0  1100.0   1069.0  1000.0  \n",
            "4       2000.0  36681.0  10000.0  9000.0    689.0   679.0  \n",
            "...        ...      ...      ...     ...      ...     ...  \n",
            "29995   8500.0  20000.0   5003.0  3047.0   5000.0  1000.0  \n",
            "29996   1837.0   3526.0   8998.0   129.0      0.0     0.0  \n",
            "29997      0.0      0.0  22000.0  4200.0   2000.0  3100.0  \n",
            "29998  85900.0   3409.0   1178.0  1926.0  52964.0  1804.0  \n",
            "29999   2078.0   1800.0   1430.0  1000.0   1000.0  1000.0  \n",
            "\n",
            "[29974 rows x 13 columns]\n"
          ]
        }
      ]
    },
    {
      "cell_type": "markdown",
      "metadata": {
        "id": "1wrHODfJAEiI"
      },
      "source": [
        "<h2>Estandarizamos los datos con StandardScaler</h2>"
      ]
    },
    {
      "cell_type": "code",
      "metadata": {
        "id": "W-UCD7ezAJG2",
        "outputId": "78026ebc-7c2f-4ad3-af15-d7030023c472",
        "colab": {
          "base_uri": "https://localhost:8080/"
        }
      },
      "source": [
        "from sklearn.preprocessing import StandardScaler\n",
        "from sklearn.decomposition import PCA\n",
        "\n",
        "#Escalar los datos con standarizacion\n",
        "sc = StandardScaler()\n",
        "scaledData = sc.fit_transform(filledDataset)\n"
      ],
      "execution_count": null,
      "outputs": [
        {
          "output_type": "stream",
          "name": "stdout",
          "text": [
            "72.8125806593967\n"
          ]
        }
      ]
    },
    {
      "cell_type": "markdown",
      "source": [
        "<h2>Paso 1</h2>\n",
        "<h3>Extraccion de componentes principales</h3>"
      ],
      "metadata": {
        "id": "GZdjKVeZuHAU"
      }
    },
    {
      "cell_type": "code",
      "source": [
        "#Realizamos la extraccion de componentes principales\n",
        "pca = PCA()\n",
        "pca.fit(scaledData)\n",
        "pcaData = pca.transform(scaledData)\n",
        "\n",
        "#Creamos un diccionario con los valores promedio de varianza y la varianza acumulada de los componentes principales\n",
        "dictionaryVariance = {\n",
        "    'Porcentaje de varianza':np.round(pca.explained_variance_ratio_,3)*100,\n",
        "    'Porcentaje acumulado de varianza':np.cumsum(pca.explained_variance_ratio_)*100\n",
        "    }\n",
        "\n",
        "#Creamos las etiquetas para los componentes principales\n",
        "labels = [f'PC{i+1}'for i in range(len(filledDataset.columns))]\n",
        "frameVariance = pd.DataFrame(dictionaryVariance)\n",
        "frameVariance.index = labels\n",
        "print(frameVariance)\n",
        "print('\\n')\n",
        "print('--------Cantidad de varianza por componente-------------')\n",
        "varPCA = pd.DataFrame(pca.explained_variance_)\n",
        "varPCA.index = labels\n",
        "print(varPCA)"
      ],
      "metadata": {
        "id": "uc9wX4_hucRC",
        "outputId": "a4dfb2de-9c33-4048-f0e6-7120ca05f5b1",
        "colab": {
          "base_uri": "https://localhost:8080/"
        }
      },
      "execution_count": null,
      "outputs": [
        {
          "output_type": "stream",
          "name": "stdout",
          "text": [
            "      Porcentaje de varianza  Porcentaje acumulado de varianza\n",
            "PC1                     45.5                         45.490116\n",
            "PC2                     13.2                         58.663141\n",
            "PC3                      7.2                         65.909112\n",
            "PC4                      6.8                         72.708324\n",
            "PC5                      6.7                         79.427722\n",
            "PC6                      6.0                         85.445173\n",
            "PC7                      5.7                         91.142604\n",
            "PC8                      5.6                         96.729579\n",
            "PC9                      2.0                         98.764139\n",
            "PC10                     0.5                         99.310418\n",
            "PC11                     0.3                         99.626285\n",
            "PC12                     0.2                         99.821212\n",
            "PC13                     0.2                        100.000000\n",
            "\n",
            "\n",
            "--------Cantidad de varianza por componente-------------\n",
            "0    12.575265\n",
            "dtype: float64\n",
            "             0\n",
            "PC1   5.913912\n",
            "PC2   1.712550\n",
            "PC3   0.942008\n",
            "PC4   0.883927\n",
            "PC5   0.873551\n",
            "PC6   0.782295\n",
            "PC7   0.740691\n",
            "PC8   0.726331\n",
            "PC9   0.264502\n",
            "PC10  0.071019\n",
            "PC11  0.041064\n",
            "PC12  0.025341\n",
            "PC13  0.023243\n"
          ]
        }
      ]
    },
    {
      "cell_type": "markdown",
      "metadata": {
        "id": "S3i3lRiwASAX"
      },
      "source": [
        "<h2>Calular el porcentaje de variacion que aporta cada componente principal</h2>"
      ]
    },
    {
      "cell_type": "code",
      "metadata": {
        "id": "TAi_sSw9AVzI",
        "outputId": "04e59f2d-4e58-4d00-ed76-bdd56b425b57",
        "colab": {
          "base_uri": "https://localhost:8080/",
          "height": 388
        }
      },
      "source": [
        "pcaVariations = np.round(pca.explained_variance_ratio_ *100,decimals = 2)\n",
        "#Generamos etiquetas para realizar una visualizacion de nuestros componentes principales\n",
        "labels = ['PC'+str(x) for x in range(1,len(pcaVariations)+1)]\n",
        "plt.figure(figsize=(15, 6))\n",
        "\n",
        "\n",
        "plt.bar(x=range(1,len(pcaVariations)+1),height = pcaVariations,tick_label = labels)\n",
        "plt.ylabel('Porcentaje de Varianza')\n",
        "plt.xlabel('Componentes Principales')\n",
        "plt.show()\n",
        "\n"
      ],
      "execution_count": null,
      "outputs": [
        {
          "output_type": "display_data",
          "data": {
            "text/plain": [
              "<Figure size 1080x432 with 1 Axes>"
            ],
            "image/png": "[encoded data removed]"
          },
          "metadata": {
            "needs_background": "light"
          }
        }
      ]
    },
    {
      "cell_type": "markdown",
      "source": [
        "<p>Notamos que los primeros dos componentes aportan mas del 50% de la informacion a la base de datos</p>"
      ],
      "metadata": {
        "id": "0rXrKH0_v_Hu"
      }
    },
    {
      "cell_type": "markdown",
      "metadata": {
        "id": "UBx16JVLAuel"
      },
      "source": [
        "<h2>Paso 2</h2>\n",
        "<p>Examinamos la magnitud y la direccion de los coeficientes de las variables originales</p>"
      ]
    },
    {
      "cell_type": "code",
      "metadata": {
        "id": "XDQahsqTAy44",
        "outputId": "b34778d6-4cc8-4ff5-88b0-daecb645b653",
        "colab": {
          "base_uri": "https://localhost:8080/"
        }
      },
      "source": [
        "scaledDataDf = pd.DataFrame(scaledData.transpose(),index = filledDataset.columns)\n",
        "\n",
        "#Calculamos el total de varianza de las variables originales\n",
        "totalVariableVariance = scaledDataDf.transpose().var().sum()\n",
        "\n",
        "#Obtenemos el diccionario de porcentajes de varianza que resulta ser igual para cada variable\n",
        "dictionaryVariableVariance = {\n",
        "    'Porcentaje de varianza':(scaledDataDf.transpose().var()/totalVariableVariance)*100,\n",
        "    'Porcentaje acumulado de varianza':(scaledDataDf.transpose().var().cumsum()/totalVariableVariance)*100\n",
        "    }\n",
        "\n",
        "print(pd.DataFrame(dictionaryVariableVariance))\n",
        "print('Varianza total por variables originales:', totalVariableVariance)\n",
        "print('Notamos que es la misma que la varianza de PCA')\n",
        "print('Varianza total por componentes:',pca.explained_variance_.sum())\n",
        "\n",
        "\n",
        "\n"
      ],
      "execution_count": null,
      "outputs": [
        {
          "output_type": "stream",
          "name": "stdout",
          "text": [
            "     Porcentaje de varianza  Porcentaje acumulado de varianza\n",
            "X1                 7.692308                          7.692308\n",
            "X12                7.692308                         15.384615\n",
            "X13                7.692308                         23.076923\n",
            "X14                7.692308                         30.769231\n",
            "X15                7.692308                         38.461538\n",
            "X16                7.692308                         46.153846\n",
            "X17                7.692308                         53.846154\n",
            "X18                7.692308                         61.538462\n",
            "X19                7.692308                         69.230769\n",
            "X20                7.692308                         76.923077\n",
            "X21                7.692308                         84.615385\n",
            "X22                7.692308                         92.307692\n",
            "X23                7.692308                        100.000000\n",
            "Varianza total por variables originales: 13.00043372368465\n",
            "Notamos que es la misma que la varianza de PCA\n",
            "Varianza total por componentes: 13.00043372368465\n"
          ]
        }
      ]
    },
    {
      "cell_type": "markdown",
      "source": [
        "<h2>Para conocer la relacion que existe entre cada componente y cada variable, realizamos una matriz de covarianza</h2>"
      ],
      "metadata": {
        "id": "ClBpFBXU2qCg"
      }
    },
    {
      "cell_type": "code",
      "source": [
        "componentsDf = pd.DataFrame(\n",
        "    pca.components_.round(3),\n",
        "    #las columnas sean los PCs\n",
        "    columns = labels,\n",
        "    #para las filas utilizamos los nombres de las variables originales\n",
        "    index = scaledDataDf.transpose().columns\n",
        ")\n",
        "print(componentsDf.abs())"
      ],
      "metadata": {
        "id": "HWTbqLua3az9",
        "outputId": "019a4980-257e-4d48-c6c0-65b1efaf358c",
        "colab": {
          "base_uri": "https://localhost:8080/"
        }
      },
      "execution_count": null,
      "outputs": [
        {
          "output_type": "stream",
          "name": "stdout",
          "text": [
            "       PC1    PC2    PC3    PC4    PC5    PC6    PC7    PC8    PC9   PC10  \\\n",
            "X1   0.165  0.373  0.384  0.389  0.392  0.389  0.381  0.135  0.117  0.128   \n",
            "X12  0.294  0.191  0.174  0.126  0.119  0.105  0.093  0.386  0.411  0.395   \n",
            "X13  0.393  0.074  0.004  0.072  0.081  0.051  0.045  0.394  0.411  0.266   \n",
            "X14  0.050  0.041  0.084  0.111  0.031  0.102  0.172  0.236  0.145  0.224   \n",
            "X15  0.104  0.039  0.025  0.102  0.011  0.103  0.070  0.033  0.398  0.134   \n",
            "X16  0.256  0.003  0.033  0.116  0.122  0.014  0.005  0.179  0.252  0.752   \n",
            "X17  0.800  0.018  0.013  0.025  0.045  0.035  0.065  0.170  0.072  0.285   \n",
            "X18  0.109  0.007  0.136  0.097  0.033  0.044  0.012  0.735  0.595  0.029   \n",
            "X19  0.031  0.567  0.387  0.123  0.205  0.420  0.489  0.057  0.051  0.145   \n",
            "X20  0.006  0.416  0.038  0.485  0.523  0.068  0.513  0.048  0.147  0.000   \n",
            "X21  0.016  0.433  0.345  0.496  0.489  0.250  0.339  0.069  0.069  0.125   \n",
            "X22  0.000  0.184  0.330  0.086  0.362  0.718  0.428  0.045  0.039  0.025   \n",
            "X23  0.004  0.317  0.645  0.528  0.346  0.227  0.072  0.085  0.125  0.063   \n",
            "\n",
            "      PC11   PC12   PC13  \n",
            "X1   0.117  0.114  0.106  \n",
            "X12  0.352  0.306  0.325  \n",
            "X13  0.052  0.534  0.376  \n",
            "X14  0.568  0.247  0.651  \n",
            "X15  0.505  0.639  0.347  \n",
            "X16  0.487  0.043  0.067  \n",
            "X17  0.058  0.254  0.410  \n",
            "X18  0.061  0.213  0.111  \n",
            "X19  0.124  0.060  0.099  \n",
            "X20  0.116  0.099  0.035  \n",
            "X21  0.001  0.069  0.028  \n",
            "X22  0.081  0.095  0.017  \n",
            "X23  0.042  0.009  0.008  \n"
          ]
        }
      ]
    },
    {
      "cell_type": "markdown",
      "source": [
        "<p>A continuacion presentamos las variables originales que se relacionan mejor con los componentes principales</p>"
      ],
      "metadata": {
        "id": "nG5w8FhU51_i"
      }
    },
    {
      "cell_type": "code",
      "source": [
        "componentsDf.abs().idxmax()"
      ],
      "metadata": {
        "id": "9c6hYdTo50Vx",
        "outputId": "714653c8-6bf0-4aef-cc2f-f17077ea0ca9",
        "colab": {
          "base_uri": "https://localhost:8080/"
        }
      },
      "execution_count": null,
      "outputs": [
        {
          "output_type": "execute_result",
          "data": {
            "text/plain": [
              "PC1     X17\n",
              "PC2     X19\n",
              "PC3     X23\n",
              "PC4     X23\n",
              "PC5     X20\n",
              "PC6     X22\n",
              "PC7     X20\n",
              "PC8     X18\n",
              "PC9     X18\n",
              "PC10    X16\n",
              "PC11    X14\n",
              "PC12    X15\n",
              "PC13    X14\n",
              "dtype: object"
            ]
          },
          "metadata": {},
          "execution_count": 29
        }
      ]
    },
    {
      "cell_type": "markdown",
      "source": [
        "<h2>Paso 3</h2>\n",
        "<p>Grafica de valores atipicos</p>"
      ],
      "metadata": {
        "id": "umfiTD4269nX"
      }
    },
    {
      "cell_type": "code",
      "source": [
        "import matplotlib.pyplot as plt\n",
        "from sklearn.preprocessing import MinMaxScaler\n",
        "plt.figure(figsize =(10, 8))\n",
        "\n",
        "#primero cambiamos la escala para que sea mas facil la visualizacion \n",
        "#a un rango de -1 a 1\n",
        "minMax = MinMaxScaler()\n",
        "minMaxScaled = minMax.fit_transform(scaledData)\n",
        "\n",
        "plt.boxplot(minMaxScaled,labels =scaledDataDf.transpose().columns)\n",
        "plt.show()\n"
      ],
      "metadata": {
        "id": "LlM1Ouv97O_m",
        "outputId": "1010a9b3-0859-434c-9645-22a7fca3ce01",
        "colab": {
          "base_uri": "https://localhost:8080/",
          "height": 500
        }
      },
      "execution_count": null,
      "outputs": [
        {
          "output_type": "stream",
          "name": "stdout",
          "text": [
            "72.8125806593967\n"
          ]
        },
        {
          "output_type": "display_data",
          "data": {
            "text/plain": [
              "<Figure size 720x576 with 1 Axes>"
            ],
            "image/png": "[encoded data removed]"
          },
          "metadata": {
            "needs_background": "light"
          }
        }
      ]
    },
    {
      "cell_type": "markdown",
      "source": [
        "<h2>Parte 2<h2>"
      ],
      "metadata": {
        "id": "4eBCMP06HN94"
      }
    },
    {
      "cell_type": "markdown",
      "source": [
        "<ol>\n",
        "  <li><b>Cual es el numero de componentes mínimos y por que?: </b>\n",
        "   <p>La cantidad de componentes minimos podria ser 2 ya que con esta cantidad superamos el 50% de la informacion. Sin embargo con 7 componentes obtenemos mas del 85% de la informacin</p>\n",
        "  </li>\n",
        "  <li><b>Cual es la variacion de los datos que representan esos componentes?: </b>\n",
        "   <p>La variacion acumulada de los primeros dos componentes es 7.6264 y de los siete componentes es de 12.575. Tomando en cuenta que la viariacion total es de 13.0004337236</p>\n",
        "  </li>\n",
        "  <li><b>Cual es la perdida de informacion despues de realizar PCA: </b>\n",
        "   <p>No hay perdida de informacion despues de realizar PCA. La informacion simplemente se distribuye entre los componentes principales de tal manera que ninguno de los componentes principales comparta informacion. Arriba podemos notar que la variacion total de las variables originales es de 13.0004337236 e igualmente la variacion total de PCA es 13.0004337236</p>\n",
        "  </li>\n",
        "  <li><b>De las variables originales, Cual tiene mayor y cual tienen menor importancia en los componentes principales? </b>\n",
        "   <p>La variable original X17 es la que se relaciona mas con PC1 que es asu vez el componente principal que tiene mayor relevancia. Por lo tanto concluimos que X17 es a su vez la variable de mayor importancia.</p>\n",
        "   <p>Por otro lado X14 se relaciona con P13 que es el componente principal menos importante. Por lo tanto X14 es la variable que menos informacion proporciona a la base de datos</p>\n",
        "  </li>\n",
        "  <li><b>Cuando se recomienda relizar PCA y que beneficios ofrece para Machine Learning </b>\n",
        "   <p>Es recomendable utilizar PCA cuando tenemos una fuerte correlacion entre las variables originales. Ademas, si nuestra base de datos es muy extensa, PCA nos ayuda a procesar los datos con mayor agilidad. Otra ventaja que tiene PCA es que; si por ejemplo tenemos una base de datos con multiples dimensiones, podemos obtener sus dos componentes principales para realizar una visualizacion de los datos y asi darnos una idea de como estan distribuidos.</p>\n",
        "</ol>"
      ],
      "metadata": {
        "id": "fPNOkl9cHzdN"
      }
    }
  ]
}