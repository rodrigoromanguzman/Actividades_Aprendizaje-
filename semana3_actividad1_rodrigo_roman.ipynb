{
  "nbformat": 4,
  "nbformat_minor": 0,
  "metadata": {
    "colab": {
      "name": "assignment01.ipynb",
      "provenance": [],
      "include_colab_link": true
    },
    "kernelspec": {
      "name": "python3",
      "display_name": "Python 3"
    },
    "language_info": {
      "name": "python"
    }
  },
  "cells": [
    {
      "cell_type": "markdown",
      "metadata": {
        "id": "view-in-github",
        "colab_type": "text"
      },
      "source": [
        "<a href=\"https://colab.research.google.com/github/rodrigoromanguzman/Actividades_Aprendizaje-/blob/main/semana3_actividad1_rodrigo_roman.ipynb\" target=\"_parent\"><img src=\"https://colab.research.google.com/assets/colab-badge.svg\" alt=\"Open In Colab\"/></a>"
      ]
    },
    {
      "cell_type": "markdown",
      "source": [
        "##Semana 3 Acitividad 1 | Rodrigo Ildefonso Roman Guzman |A01794225|Data Science | Jobish | 28/Sep/2022\n"
      ],
      "metadata": {
        "id": "5q5oebJjCd4z"
      }
    },
    {
      "cell_type": "markdown",
      "source": [
        "\n",
        "\n",
        "---\n",
        "\n"
      ],
      "metadata": {
        "id": "fdQrjJKNDMuR"
      }
    },
    {
      "cell_type": "markdown",
      "source": [
        "<h2>Parte 1: Fundamentos de bases de datos</h2>\n",
        "\n"
      ],
      "metadata": {
        "id": "YLGczXnAC1v5"
      }
    },
    {
      "cell_type": "markdown",
      "source": [
        "<h3>1) Fundamentos de bases de datos y para ciencia de datos</h3>"
      ],
      "metadata": {
        "id": "zrSxPdNaDCwf"
      }
    },
    {
      "cell_type": "markdown",
      "source": [
        "<p>Existen diferentes tipos de fuentes de datos con las que trabaja un analista de datos o un scientifico de datos. Entre estos encontramos APIs, documentos de Excel o bases de datos formales de tipo relacional o no relacional. </p>\n",
        "<p>\n",
        "Las bases de datos relacionales son las mas communmente utilizadas debido a su optimizacion del registro de sus entradas. Dado que se proporciona un <i>Primary key</i> que funciona como referencia unica a una entidad especifica. Este tipo de base de datos permite la relacion entre tablas del tipo <i>one to many</i> o <i>many to many</i>. En las bases de datos encontramos dos componentes principales que son las <i>filas</i>: que son instancias de una entidad y <i>columnas</i> son las caracteristicas de la entidad.\n",
        "</p>"
      ],
      "metadata": {
        "id": "6VFqaPHvDZnm"
      }
    },
    {
      "cell_type": "markdown",
      "source": [
        "<h3>2) Fundamentos de almacenes de datos (Data Warehouse) para ciencia de datos </h3>"
      ],
      "metadata": {
        "id": "Wq3Ka2TNGhH1"
      }
    },
    {
      "cell_type": "markdown",
      "source": [
        "<h3><b>Que es Data Warehouse?</b></h3> \n",
        "<p>\n",
        "Basicamente es una base de datos enorme que contiene informacion de diferentes fuentes que vincula para ser utilizadas en conjunto. Data Warehouse tiene el reto de unir las fuentes, transformarlas en un esquema comun que permita hacer consultas eficientemente de todas las fuentes a la vez.\n",
        "</p>\n",
        "<h5><b>Que desafios se presentan en Data Warehouse?</b></h5> \n",
        "<ul>\n",
        "  <li>Como lidiar con escalas iguales para los datos?</li>\n",
        "  <li>Como lidiar con datos faltantes?</li>\n",
        "  <li>Como lidiar con datos corruptos como los provenientes de bots?</li>\n",
        "</ul>\n",
        "<hr>\n",
        "<h3><b>ETL vs ELT</b></h3> \n",
        "\n",
        "<b>ELT (Extract,Transform,Load):</b> \n",
        "<p>Consiste en extraer la informacion, transformarla y posteriormente cargarla. Es el metodo convencional de usar warehouse y actualmente es considerado anticuado\n",
        "</p>\n",
        "\n",
        "<b>ETL (Extract, Load, Transform):</b> \n",
        "<p> Se cuenta con una base de datos distribuida sobre un Hadoop cluster que permite usar las capacidades que ofrecen HIVE, Spark o MapReduce.\n",
        "</p>\n",
        "<p>\n",
        "La principal diferencia es que ETL en vez de hacer procesos de transformacion de datos sin internet carga los datos en archivos de textop y pasa por cada linea por medio de Hadoop para entonces transformarlos en un formato mas estructurado que pueda ser consultado mas facilmente.\n",
        "</p>\n",
        "\n"
      ],
      "metadata": {
        "id": "-bXy7MXGIGQ3"
      }
    },
    {
      "cell_type": "markdown",
      "source": [
        "<h2>Parte 2: Selección y limpieza de los Datos en Python</h2>"
      ],
      "metadata": {
        "id": "xjttJhZkGChj"
      }
    },
    {
      "cell_type": "markdown",
      "source": [
        "Importamos las librerias que vamos a utilizar"
      ],
      "metadata": {
        "id": "WZreL1ThGJXd"
      }
    },
    {
      "cell_type": "code",
      "source": [
        "import pandas as pd\n",
        "import numpy as np"
      ],
      "metadata": {
        "id": "a558I040GPEb"
      },
      "execution_count": 43,
      "outputs": []
    },
    {
      "cell_type": "markdown",
      "source": [
        "<p>Hacemos lectura de nuestra base de datos con ayuda de Pandas</p>"
      ],
      "metadata": {
        "id": "ooRt64mWGhgA"
      }
    },
    {
      "cell_type": "code",
      "source": [
        "prob_default_df = pd.read_csv('https://raw.githubusercontent.com/PosgradoMNA/Actividades_Aprendizaje-/main/default%20of%20credit%20card%20clients.csv')\n",
        "print(prob_default_df.head())"
      ],
      "metadata": {
        "id": "4GViHAShGtMl",
        "outputId": "61e3a85b-fe5c-4f61-da89-cc17d5877754",
        "colab": {
          "base_uri": "https://localhost:8080/"
        }
      },
      "execution_count": 51,
      "outputs": [
        {
          "output_type": "stream",
          "name": "stdout",
          "text": [
            "   ID      X1   X2   X3   X4    X5   X6   X7   X8   X9  ...      X15      X16  \\\n",
            "0   1   20000  2.0  2.0  1.0  24.0  2.0  2.0 -1.0 -1.0  ...      0.0      0.0   \n",
            "1   2  120000  2.0  2.0  2.0  26.0 -1.0  2.0  0.0  0.0  ...   3272.0   3455.0   \n",
            "2   3   90000  2.0  2.0  2.0  34.0  0.0  0.0  0.0  0.0  ...  14331.0  14948.0   \n",
            "3   4   50000  2.0  2.0  1.0  37.0  0.0  0.0  0.0  0.0  ...  28314.0  28959.0   \n",
            "4   5   50000  1.0  2.0  1.0  57.0 -1.0  0.0 -1.0  0.0  ...  20940.0  19146.0   \n",
            "\n",
            "       X17     X18      X19      X20     X21     X22     X23    Y  \n",
            "0      0.0     0.0    689.0      0.0     0.0     0.0     0.0  1.0  \n",
            "1   3261.0     0.0   1000.0   1000.0  1000.0     0.0  2000.0  1.0  \n",
            "2  15549.0  1518.0   1500.0   1000.0  1000.0  1000.0  5000.0  0.0  \n",
            "3  29547.0  2000.0   2019.0   1200.0  1100.0  1069.0  1000.0  0.0  \n",
            "4  19131.0  2000.0  36681.0  10000.0  9000.0   689.0   679.0  0.0  \n",
            "\n",
            "[5 rows x 25 columns]\n"
          ]
        }
      ]
    },
    {
      "cell_type": "markdown",
      "source": [
        "<p>Revisamos si efectivamente existen datos nulos</p>"
      ],
      "metadata": {
        "id": "zkIx03xXKL0U"
      }
    },
    {
      "cell_type": "code",
      "source": [
        "print('Hay valores nulos?','Si'if prob_default_df.isnull().values.any() == True else'No') #Primero revisamos si existe algun valor nulo\n",
        "df.isna().sum().sum()\n",
        "print('---------------------------')\n",
        "print('Valores Nulos por Columna: \\n',prob_default_df.isnull().any()) #Primero revisamos si existe algun valor nulo"
      ],
      "metadata": {
        "id": "WRj-Bxa6KRqz",
        "outputId": "3e941e50-fcf2-4b00-c61c-a846fa3a1326",
        "colab": {
          "base_uri": "https://localhost:8080/"
        }
      },
      "execution_count": 14,
      "outputs": [
        {
          "output_type": "stream",
          "name": "stdout",
          "text": [
            "Hay valores nulos? Si\n",
            "---------------------------\n",
            "Valores Nulos por Columna: \n",
            " ID     False\n",
            "X1     False\n",
            "X2      True\n",
            "X3      True\n",
            "X4      True\n",
            "X5      True\n",
            "X6      True\n",
            "X7      True\n",
            "X8      True\n",
            "X9      True\n",
            "X10     True\n",
            "X11     True\n",
            "X12     True\n",
            "X13     True\n",
            "X14     True\n",
            "X15     True\n",
            "X16     True\n",
            "X17     True\n",
            "X18     True\n",
            "X19     True\n",
            "X20     True\n",
            "X21     True\n",
            "X22     True\n",
            "X23     True\n",
            "Y       True\n",
            "dtype: bool\n"
          ]
        }
      ]
    },
    {
      "cell_type": "markdown",
      "source": [
        "<h3>Solucion 1 </h3>\n",
        "<p>Descartar las filas que contengan valores nulos</p>\n",
        "\n",
        "\n"
      ],
      "metadata": {
        "id": "CvZoxOHCMlVx"
      }
    },
    {
      "cell_type": "code",
      "source": [
        "drop_all_prob_default_df = prob_default_df.copy(deep = True) #Hacemos copia de la base de datos original para conservarla intacta\n",
        "drop_all_prob_default_df.dropna(inplace=True) #Nos deshacemos de todas las hileras que contengan algun valor nulo\n",
        "#Revisamos que no haya hileras con valores nulos\n",
        "print('Hay valores nulos?','Si'if drop_all_prob_default_df.isnull().values.any() == True else'No') \n",
        "print('Total de valores nulos en la base de datos:',prob_default_df.isna().sum().sum())\n",
        "print('\\n')\n",
        "print('Valores Nulos por columna: \\n',prob_default_df.isna().sum())\n"
      ],
      "metadata": {
        "id": "YuYsnR3RNveY",
        "outputId": "4785f02f-66da-4883-e0ef-94b80b4a19ac",
        "colab": {
          "base_uri": "https://localhost:8080/"
        }
      },
      "execution_count": 66,
      "outputs": [
        {
          "output_type": "stream",
          "name": "stdout",
          "text": [
            "Hay valores nulos? No\n",
            "Total de valores nulos en la base de datos: 196\n",
            "\n",
            "\n",
            "Valores Nulos por columna: \n",
            " ID      0\n",
            "X1      0\n",
            "X2      1\n",
            "X3      2\n",
            "X4      2\n",
            "X5      5\n",
            "X6      3\n",
            "X7      5\n",
            "X8      7\n",
            "X9      9\n",
            "X10    16\n",
            "X11    14\n",
            "X12    11\n",
            "X13    11\n",
            "X14    13\n",
            "X15    15\n",
            "X16    17\n",
            "X17    10\n",
            "X18     8\n",
            "X19     9\n",
            "X20     8\n",
            "X21    11\n",
            "X22    11\n",
            "X23     5\n",
            "Y       3\n",
            "dtype: int64\n"
          ]
        }
      ]
    },
    {
      "cell_type": "markdown",
      "source": [
        "<p>Revisamos el estado de la base de datos resultante</p>"
      ],
      "metadata": {
        "id": "fdlMcTOzPGuK"
      }
    },
    {
      "cell_type": "code",
      "source": [
        "print('Forma de la base de datos modificada:',drop_all_prob_default_df.shape)\n",
        "print('--------------------VS---------------------')\n",
        "print('Forma de la base de datos original:',prob_default_df.shape)"
      ],
      "metadata": {
        "id": "dP4_iHxRPMfu",
        "outputId": "d472586c-18f4-4e37-bd60-9c7ddce0903a",
        "colab": {
          "base_uri": "https://localhost:8080/"
        }
      },
      "execution_count": 61,
      "outputs": [
        {
          "output_type": "stream",
          "name": "stdout",
          "text": [
            "Forma de la base de datos modificada: (29958, 25)\n",
            "-----------VS------------\n",
            "Forma de la base de datos original: (30000, 25)\n"
          ]
        }
      ]
    },
    {
      "cell_type": "markdown",
      "source": [
        "<p>Notamos que de hecho son muy pocos los valores nulos que existen en la base de datos</p>"
      ],
      "metadata": {
        "id": "A8tSH_tfSkQj"
      }
    },
    {
      "cell_type": "markdown",
      "source": [
        "<p>Podemos revisar si hay filas donde todos los valored sean nulos</p>"
      ],
      "metadata": {
        "id": "aZ-AOdeyUc2K"
      }
    },
    {
      "cell_type": "code",
      "source": [
        "drop_all_prob_default_df = prob_default_df.copy(deep = True) #Hacemos copia de la base de datos original para conservarla intacta\n",
        "drop_all_prob_default_df.dropna(how = 'all', inplace = True)\n",
        "print('Forma de la base de datos modificada:',drop_all_prob_default_df.shape)\n",
        "print('--------------------VS---------------------')\n",
        "print('Forma de la base de datos original:',prob_default_df.shape)"
      ],
      "metadata": {
        "id": "m-aRDQe2U3Vr",
        "outputId": "4044dedf-9b52-40f6-8bcf-1f15fd3804dd",
        "colab": {
          "base_uri": "https://localhost:8080/"
        }
      },
      "execution_count": 62,
      "outputs": [
        {
          "output_type": "stream",
          "name": "stdout",
          "text": [
            "Forma de la base de datos modificada: (30000, 25)\n",
            "--------------------VS---------------------\n",
            "Forma de la base de datos original: (30000, 25)\n"
          ]
        }
      ]
    },
    {
      "cell_type": "markdown",
      "source": [
        "<p>No hay ninguna fila con todos sus valores nulas</p>\n",
        "<p>Podriamos intentar fijando un limite \"Threshold\" pero por la cantidad tan limitada de datos nulos podemos proceder con las siguientes tecnicas para ser aun mas especificos y tratar los datos de otra manera</p>"
      ],
      "metadata": {
        "id": "kakmRCwpVz_A"
      }
    },
    {
      "cell_type": "markdown",
      "source": [
        "<h3>Solucion 2:</h3>"
      ],
      "metadata": {
        "id": "XTReTyNwWVWg"
      }
    }
  ]
}