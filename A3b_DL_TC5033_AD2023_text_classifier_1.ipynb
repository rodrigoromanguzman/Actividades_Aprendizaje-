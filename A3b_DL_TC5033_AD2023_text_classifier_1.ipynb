{
  "cells": [
    {
      "cell_type": "markdown",
      "metadata": {
        "id": "view-in-github",
        "colab_type": "text"
      },
      "source": [
        "<a href=\"https://colab.research.google.com/github/rodrigoromanguzman/Actividades_Aprendizaje-/blob/main/A3b_DL_TC5033_AD2023_text_classifier_1.ipynb\" target=\"_parent\"><img src=\"https://colab.research.google.com/assets/colab-badge.svg\" alt=\"Open In Colab\"/></a>"
      ]
    },
    {
      "cell_type": "markdown",
      "metadata": {
        "id": "940c6dbc"
      },
      "source": [
        "## TC 5033\n",
        "### Word Embeddings\n",
        "\n",
        "<br>\n",
        "\n",
        "#### Activity 3b: Text Classification using RNNs and AG_NEWS dataset in PyTorch\n",
        "<br>\n",
        "\n",
        "- Objective:\n",
        "    - Understand the basics of Recurrent Neural Networks (RNNs) and their application in text classification.\n",
        "    - Learn how to handle a real-world text dataset, AG_NEWS, in PyTorch.\n",
        "    - Gain hands-on experience in defining, training, and evaluating a text classification model in PyTorch.\n",
        "    \n",
        "<br>\n",
        "\n",
        "- Instructions:\n",
        "    - Data Preparation: Starter code will be provided that loads the AG_NEWS dataset and prepares it for training. Do not modify this part. However, you should be sure to understand it, and comment it, the use of markdown cells is suggested.\n",
        "\n",
        "    - Model Setup: A skeleton code for the RNN model class will be provided. Complete this class and use it to instantiate your model.\n",
        "\n",
        "    - Implementing Accuracy Function: Write a function that takes model predictions and ground truth labels as input and returns the model's accuracy.\n",
        "\n",
        "    - Training Function: Implement a function that performs training on the given model using the AG_NEWS dataset. Your model should achieve an accuracy of at least 80% to get full marks for this part.\n",
        "\n",
        "    - Text Sampling: Write a function that takes a sample text as input and classifies it using your trained model.\n",
        "\n",
        "    - Confusion Matrix: Implement a function to display the confusion matrix for your model on the test data.\n",
        "\n",
        "    - Submission: Submit your completed Jupyter Notebook. Make sure to include a markdown cell at the beginning of the notebook that lists the names of all team members. Teams should consist of 3 to 4 members.\n",
        "    \n",
        "<br>\n",
        "\n",
        "- Evaluation Criteria:\n",
        "\n",
        "    - Correct setup of all the required libraries and modules (10%)\n",
        "    - Code Quality (30%): Your code should be well-organized, clearly commented, and easy to follow. Use also markdown cells for clarity. Comments should be given for all the provided code, this will help you understand its functionality.\n",
        "    \n",
        "   - Functionality (60%):\n",
        "        - All the functions should execute without errors and provide the expected outputs.\n",
        "        - RNN model class (20%)\n",
        "        - Accuracy fucntion (10%)\n",
        "        - Training function (10%)\n",
        "        - Sampling function (10%)\n",
        "        - Confucion matrix (10%)\n",
        "\n",
        "        - The model should achieve at least an 80% accuracy on the AG_NEWS test set for full marks in this criterion.\n"
      ],
      "id": "940c6dbc"
    },
    {
      "cell_type": "markdown",
      "metadata": {
        "id": "4de318da"
      },
      "source": [
        "Dataset\n",
        "\n",
        "https://pytorch.org/text/stable/datasets.html#text-classification\n",
        "\n",
        "https://paperswithcode.com/dataset/ag-news\n"
      ],
      "id": "4de318da"
    },
    {
      "cell_type": "markdown",
      "metadata": {
        "id": "4a9801f9"
      },
      "source": [
        "### Import libraries"
      ],
      "id": "4a9801f9"
    },
    {
      "cell_type": "code",
      "execution_count": 103,
      "metadata": {
        "id": "54394f53"
      },
      "outputs": [],
      "source": [
        "# conda install -c pytorch torchtext\n",
        "# conda install -c pytorch torchdata\n",
        "# conda install pytorch torchvision torchaudio cudatoolkit=10.2 -c pytorch"
      ],
      "id": "54394f53"
    },
    {
      "cell_type": "code",
      "execution_count": 104,
      "metadata": {
        "id": "RvVM2nEKMv4Y",
        "colab": {
          "base_uri": "https://localhost:8080/"
        },
        "outputId": "fdf95cf5-553b-42e4-ad5a-8435bf84797f"
      },
      "outputs": [
        {
          "output_type": "stream",
          "name": "stdout",
          "text": [
            "Requirement already satisfied: portalocker in /usr/local/lib/python3.10/dist-packages (2.8.2)\n"
          ]
        }
      ],
      "source": [
        "pip install portalocker"
      ],
      "id": "RvVM2nEKMv4Y"
    },
    {
      "cell_type": "code",
      "execution_count": 105,
      "metadata": {
        "colab": {
          "base_uri": "https://localhost:8080/"
        },
        "id": "M9iqEh-QGRx6",
        "outputId": "21513543-17db-46d9-bca2-de9757b78fea"
      },
      "outputs": [
        {
          "output_type": "stream",
          "name": "stdout",
          "text": [
            "Requirement already satisfied: scikit-plot in /usr/local/lib/python3.10/dist-packages (0.3.7)\n",
            "Requirement already satisfied: matplotlib>=1.4.0 in /usr/local/lib/python3.10/dist-packages (from scikit-plot) (3.7.1)\n",
            "Requirement already satisfied: scikit-learn>=0.18 in /usr/local/lib/python3.10/dist-packages (from scikit-plot) (1.2.2)\n",
            "Requirement already satisfied: scipy>=0.9 in /usr/local/lib/python3.10/dist-packages (from scikit-plot) (1.11.3)\n",
            "Requirement already satisfied: joblib>=0.10 in /usr/local/lib/python3.10/dist-packages (from scikit-plot) (1.3.2)\n",
            "Requirement already satisfied: contourpy>=1.0.1 in /usr/local/lib/python3.10/dist-packages (from matplotlib>=1.4.0->scikit-plot) (1.1.1)\n",
            "Requirement already satisfied: cycler>=0.10 in /usr/local/lib/python3.10/dist-packages (from matplotlib>=1.4.0->scikit-plot) (0.12.1)\n",
            "Requirement already satisfied: fonttools>=4.22.0 in /usr/local/lib/python3.10/dist-packages (from matplotlib>=1.4.0->scikit-plot) (4.43.1)\n",
            "Requirement already satisfied: kiwisolver>=1.0.1 in /usr/local/lib/python3.10/dist-packages (from matplotlib>=1.4.0->scikit-plot) (1.4.5)\n",
            "Requirement already satisfied: numpy>=1.20 in /usr/local/lib/python3.10/dist-packages (from matplotlib>=1.4.0->scikit-plot) (1.23.5)\n",
            "Requirement already satisfied: packaging>=20.0 in /usr/local/lib/python3.10/dist-packages (from matplotlib>=1.4.0->scikit-plot) (23.2)\n",
            "Requirement already satisfied: pillow>=6.2.0 in /usr/local/lib/python3.10/dist-packages (from matplotlib>=1.4.0->scikit-plot) (9.4.0)\n",
            "Requirement already satisfied: pyparsing>=2.3.1 in /usr/local/lib/python3.10/dist-packages (from matplotlib>=1.4.0->scikit-plot) (3.1.1)\n",
            "Requirement already satisfied: python-dateutil>=2.7 in /usr/local/lib/python3.10/dist-packages (from matplotlib>=1.4.0->scikit-plot) (2.8.2)\n",
            "Requirement already satisfied: threadpoolctl>=2.0.0 in /usr/local/lib/python3.10/dist-packages (from scikit-learn>=0.18->scikit-plot) (3.2.0)\n",
            "Requirement already satisfied: six>=1.5 in /usr/local/lib/python3.10/dist-packages (from python-dateutil>=2.7->matplotlib>=1.4.0->scikit-plot) (1.16.0)\n"
          ]
        }
      ],
      "source": [
        "pip install scikit-plot"
      ],
      "id": "M9iqEh-QGRx6"
    },
    {
      "cell_type": "code",
      "execution_count": 106,
      "metadata": {
        "colab": {
          "base_uri": "https://localhost:8080/"
        },
        "id": "J3d0KqfLGzLV",
        "outputId": "67c7389d-9261-43bc-c1d3-bfa5b3df8e33"
      },
      "outputs": [
        {
          "output_type": "stream",
          "name": "stdout",
          "text": [
            "Requirement already satisfied: torchtext in /usr/local/lib/python3.10/dist-packages (0.16.0)\n",
            "Requirement already satisfied: tqdm in /usr/local/lib/python3.10/dist-packages (from torchtext) (4.66.1)\n",
            "Requirement already satisfied: requests in /usr/local/lib/python3.10/dist-packages (from torchtext) (2.31.0)\n",
            "Requirement already satisfied: torch==2.1.0 in /usr/local/lib/python3.10/dist-packages (from torchtext) (2.1.0+cu118)\n",
            "Requirement already satisfied: numpy in /usr/local/lib/python3.10/dist-packages (from torchtext) (1.23.5)\n",
            "Requirement already satisfied: torchdata==0.7.0 in /usr/local/lib/python3.10/dist-packages (from torchtext) (0.7.0)\n",
            "Requirement already satisfied: filelock in /usr/local/lib/python3.10/dist-packages (from torch==2.1.0->torchtext) (3.12.4)\n",
            "Requirement already satisfied: typing-extensions in /usr/local/lib/python3.10/dist-packages (from torch==2.1.0->torchtext) (4.5.0)\n",
            "Requirement already satisfied: sympy in /usr/local/lib/python3.10/dist-packages (from torch==2.1.0->torchtext) (1.12)\n",
            "Requirement already satisfied: networkx in /usr/local/lib/python3.10/dist-packages (from torch==2.1.0->torchtext) (3.2)\n",
            "Requirement already satisfied: jinja2 in /usr/local/lib/python3.10/dist-packages (from torch==2.1.0->torchtext) (3.1.2)\n",
            "Requirement already satisfied: fsspec in /usr/local/lib/python3.10/dist-packages (from torch==2.1.0->torchtext) (2023.6.0)\n",
            "Requirement already satisfied: triton==2.1.0 in /usr/local/lib/python3.10/dist-packages (from torch==2.1.0->torchtext) (2.1.0)\n",
            "Requirement already satisfied: urllib3>=1.25 in /usr/local/lib/python3.10/dist-packages (from torchdata==0.7.0->torchtext) (2.0.7)\n",
            "Requirement already satisfied: charset-normalizer<4,>=2 in /usr/local/lib/python3.10/dist-packages (from requests->torchtext) (3.3.1)\n",
            "Requirement already satisfied: idna<4,>=2.5 in /usr/local/lib/python3.10/dist-packages (from requests->torchtext) (3.4)\n",
            "Requirement already satisfied: certifi>=2017.4.17 in /usr/local/lib/python3.10/dist-packages (from requests->torchtext) (2023.7.22)\n",
            "Requirement already satisfied: MarkupSafe>=2.0 in /usr/local/lib/python3.10/dist-packages (from jinja2->torch==2.1.0->torchtext) (2.1.3)\n",
            "Requirement already satisfied: mpmath>=0.19 in /usr/local/lib/python3.10/dist-packages (from sympy->torch==2.1.0->torchtext) (1.3.0)\n"
          ]
        }
      ],
      "source": [
        "!pip install torchtext"
      ],
      "id": "J3d0KqfLGzLV"
    },
    {
      "cell_type": "code",
      "execution_count": 107,
      "metadata": {
        "colab": {
          "base_uri": "https://localhost:8080/"
        },
        "id": "GK9hERFsHOkL",
        "outputId": "3dde671c-f60e-4c87-f892-5b6d6afbe98c"
      },
      "outputs": [
        {
          "output_type": "stream",
          "name": "stdout",
          "text": [
            "Requirement already satisfied: torchdata in /usr/local/lib/python3.10/dist-packages (0.7.0)\n",
            "Requirement already satisfied: urllib3>=1.25 in /usr/local/lib/python3.10/dist-packages (from torchdata) (2.0.7)\n",
            "Requirement already satisfied: requests in /usr/local/lib/python3.10/dist-packages (from torchdata) (2.31.0)\n",
            "Requirement already satisfied: torch==2.1.0 in /usr/local/lib/python3.10/dist-packages (from torchdata) (2.1.0+cu118)\n",
            "Requirement already satisfied: filelock in /usr/local/lib/python3.10/dist-packages (from torch==2.1.0->torchdata) (3.12.4)\n",
            "Requirement already satisfied: typing-extensions in /usr/local/lib/python3.10/dist-packages (from torch==2.1.0->torchdata) (4.5.0)\n",
            "Requirement already satisfied: sympy in /usr/local/lib/python3.10/dist-packages (from torch==2.1.0->torchdata) (1.12)\n",
            "Requirement already satisfied: networkx in /usr/local/lib/python3.10/dist-packages (from torch==2.1.0->torchdata) (3.2)\n",
            "Requirement already satisfied: jinja2 in /usr/local/lib/python3.10/dist-packages (from torch==2.1.0->torchdata) (3.1.2)\n",
            "Requirement already satisfied: fsspec in /usr/local/lib/python3.10/dist-packages (from torch==2.1.0->torchdata) (2023.6.0)\n",
            "Requirement already satisfied: triton==2.1.0 in /usr/local/lib/python3.10/dist-packages (from torch==2.1.0->torchdata) (2.1.0)\n",
            "Requirement already satisfied: charset-normalizer<4,>=2 in /usr/local/lib/python3.10/dist-packages (from requests->torchdata) (3.3.1)\n",
            "Requirement already satisfied: idna<4,>=2.5 in /usr/local/lib/python3.10/dist-packages (from requests->torchdata) (3.4)\n",
            "Requirement already satisfied: certifi>=2017.4.17 in /usr/local/lib/python3.10/dist-packages (from requests->torchdata) (2023.7.22)\n",
            "Requirement already satisfied: MarkupSafe>=2.0 in /usr/local/lib/python3.10/dist-packages (from jinja2->torch==2.1.0->torchdata) (2.1.3)\n",
            "Requirement already satisfied: mpmath>=0.19 in /usr/local/lib/python3.10/dist-packages (from sympy->torch==2.1.0->torchdata) (1.3.0)\n"
          ]
        }
      ],
      "source": [
        "\n",
        "!pip install torchdata\n"
      ],
      "id": "GK9hERFsHOkL"
    },
    {
      "cell_type": "code",
      "execution_count": 108,
      "metadata": {
        "colab": {
          "base_uri": "https://localhost:8080/"
        },
        "id": "WfCsef_zKIfE",
        "outputId": "fc8c33fd-64d6-4a1f-d101-f94c4aa33d8d"
      },
      "outputs": [
        {
          "output_type": "stream",
          "name": "stdout",
          "text": [
            "Looking in links: https://download.pytorch.org/whl/torch_stable.html\n",
            "\u001b[31mERROR: Could not find a version that satisfies the requirement torch==1.9.1+cu102 (from versions: 1.11.0, 1.11.0+cpu, 1.11.0+cu102, 1.11.0+cu113, 1.11.0+cu115, 1.11.0+rocm4.3.1, 1.11.0+rocm4.5.2, 1.12.0, 1.12.0+cpu, 1.12.0+cu102, 1.12.0+cu113, 1.12.0+cu116, 1.12.0+rocm5.0, 1.12.0+rocm5.1.1, 1.12.1, 1.12.1+cpu, 1.12.1+cu102, 1.12.1+cu113, 1.12.1+cu116, 1.12.1+rocm5.0, 1.12.1+rocm5.1.1, 1.13.0, 1.13.0+cpu, 1.13.0+cu116, 1.13.0+cu117, 1.13.0+cu117.with.pypi.cudnn, 1.13.0+rocm5.1.1, 1.13.0+rocm5.2, 1.13.1, 1.13.1+cpu, 1.13.1+cu116, 1.13.1+cu117, 1.13.1+cu117.with.pypi.cudnn, 1.13.1+rocm5.1.1, 1.13.1+rocm5.2, 2.0.0, 2.0.0+cpu, 2.0.0+cpu.cxx11.abi, 2.0.0+cu117, 2.0.0+cu117.with.pypi.cudnn, 2.0.0+cu118, 2.0.0+rocm5.3, 2.0.0+rocm5.4.2, 2.0.1, 2.0.1+cpu, 2.0.1+cpu.cxx11.abi, 2.0.1+cu117, 2.0.1+cu117.with.pypi.cudnn, 2.0.1+cu118, 2.0.1+rocm5.3, 2.0.1+rocm5.4.2, 2.1.0, 2.1.0+cpu, 2.1.0+cpu.cxx11.abi, 2.1.0+cu118, 2.1.0+cu121, 2.1.0+cu121.with.pypi.cudnn, 2.1.0+rocm5.5, 2.1.0+rocm5.6)\u001b[0m\u001b[31m\n",
            "\u001b[0m\u001b[31mERROR: No matching distribution found for torch==1.9.1+cu102\u001b[0m\u001b[31m\n",
            "\u001b[0m"
          ]
        }
      ],
      "source": [
        "pip install torch==1.9.1+cu102 torchvision==0.10.1+cu102 torchaudio==0.9.1 -f https://download.pytorch.org/whl/torch_stable.html\n"
      ],
      "id": "WfCsef_zKIfE"
    },
    {
      "cell_type": "code",
      "execution_count": 109,
      "metadata": {
        "id": "878b524f"
      },
      "outputs": [],
      "source": [
        "# The following libraries are required for running the given code\n",
        "# Please feel free to add any libraries you consider adecuate to complete the assingment.\n",
        "import numpy as np\n",
        "#PyTorch libraries\n",
        "import torch\n",
        "import torchtext\n",
        "\n",
        "from torchtext.datasets import AG_NEWS\n",
        "# Dataloader library\n",
        "from torch.utils.data import DataLoader\n",
        "from torch.utils.data.dataset import random_split\n",
        "# Libraries to prepare the data\n",
        "from torchtext.data.utils import get_tokenizer\n",
        "from torchtext.vocab import build_vocab_from_iterator\n",
        "from torchtext.data.functional import to_map_style_dataset\n",
        "# neural layers\n",
        "from torch import nn\n",
        "from torch.nn import functional as F\n",
        "\n",
        "# These libraries are suggested to plot confusion matrix\n",
        "# you may use others\n",
        "import scikitplot as skplt\n",
        "import gc"
      ],
      "id": "878b524f"
    },
    {
      "cell_type": "code",
      "execution_count": 110,
      "metadata": {
        "colab": {
          "base_uri": "https://localhost:8080/"
        },
        "id": "UCmxUAC8MM-M",
        "outputId": "bf8eb21d-c5f0-491d-e14a-70bb09b932e0"
      },
      "outputs": [
        {
          "output_type": "stream",
          "name": "stdout",
          "text": [
            "cuda\n"
          ]
        }
      ],
      "source": [
        "# Use GPU if available\n",
        "device = torch.device(\"cuda\" if torch.cuda.is_available() else \"cpu\")\n",
        "print(device)"
      ],
      "id": "UCmxUAC8MM-M"
    },
    {
      "cell_type": "markdown",
      "metadata": {
        "id": "3d38956d"
      },
      "source": [
        "### Get the train and the test datasets and dataloaders"
      ],
      "id": "3d38956d"
    },
    {
      "cell_type": "markdown",
      "metadata": {
        "id": "e9c6b784"
      },
      "source": [
        "Classes:\n",
        "\n",
        "* 1 - World\n",
        "\n",
        "* 2 - Sports\n",
        "\n",
        "* 3 - Business\n",
        "\n",
        "* 4 - Sci/Tech\n",
        "\n",
        "We will convert them to:\n",
        "\n",
        "* 0 - World\n",
        "\n",
        "* 1 - Sports\n",
        "\n",
        "* 2 - Business\n",
        "\n",
        "* 3 - Sci/Tech"
      ],
      "id": "e9c6b784"
    },
    {
      "cell_type": "markdown",
      "source": [
        "<h3>Prepare the AG_NEWS dataset, converting it into a map-style PyTorch dataset format for both the training (train_dataset) and testing (test_dataset) datasets.</h3>\n",
        "<p>AG_NEWS dataset consists of news articles collected from the AG's news corpus and is categorized into four classes: World, Sports, Business, and Sci/Tech. Each article is a short piece of text, and the dataset is often used for tasks like text classification, topic modeling, and sentiment analysis</p>"
      ],
      "metadata": {
        "id": "xy90Wo__DkAk"
      },
      "id": "xy90Wo__DkAk"
    },
    {
      "cell_type": "code",
      "execution_count": 111,
      "metadata": {
        "id": "49fbed19"
      },
      "outputs": [],
      "source": [
        "train_dataset, test_dataset = AG_NEWS()\n",
        "train_dataset, test_dataset = to_map_style_dataset(train_dataset), to_map_style_dataset(test_dataset)"
      ],
      "id": "49fbed19"
    },
    {
      "cell_type": "markdown",
      "source": [
        "<p>Create a tokenizer using the 'basic_english' tokenizer provided by a library torchtext.data.utils</p>\n",
        "<p>yield_tokens is a function that iterates over the dataset, extracting each text sample, and tokenizes it using the tokeniser </p>"
      ],
      "metadata": {
        "id": "zNgJdq-5EFVi"
      },
      "id": "zNgJdq-5EFVi"
    },
    {
      "cell_type": "code",
      "execution_count": 112,
      "metadata": {
        "id": "9c372eb9"
      },
      "outputs": [],
      "source": [
        "# Get the tokeniser\n",
        "# tokeniser object\n",
        "tokeniser = get_tokenizer('basic_english')\n",
        "\n",
        "def yield_tokens(data):\n",
        "    for _, text in data:\n",
        "        yield tokeniser(text)"
      ],
      "id": "9c372eb9"
    },
    {
      "cell_type": "markdown",
      "source": [
        "<p>Construct a vocabulary (vocab) from the tokens generated by the yield_tokens</p>\n",
        "<p>If we try to access a token that is not present in the vocabulary, it will return the index of 'unk'</p>"
      ],
      "metadata": {
        "id": "A76kzsBZEo4m"
      },
      "id": "A76kzsBZEo4m"
    },
    {
      "cell_type": "code",
      "execution_count": 113,
      "metadata": {
        "id": "794d0375"
      },
      "outputs": [],
      "source": [
        "# Build the vocabulary\n",
        "vocab = build_vocab_from_iterator(yield_tokens(train_dataset), specials=[\"<unk>\"])\n",
        "#set unknown token at position 0\n",
        "vocab.set_default_index(vocab[\"<unk>\"])"
      ],
      "id": "794d0375"
    },
    {
      "cell_type": "code",
      "execution_count": 114,
      "metadata": {
        "colab": {
          "base_uri": "https://localhost:8080/"
        },
        "id": "b48268d4",
        "outputId": "11dcbe45-9284-413c-e87e-dfdee8e94df2"
      },
      "outputs": [
        {
          "output_type": "stream",
          "name": "stdout",
          "text": [
            "['welcome', 'to', 'te3007'] [3314, 4, 0]\n"
          ]
        }
      ],
      "source": [
        "#test tokens\n",
        "tokens = tokeniser('Welcome to TE3007')\n",
        "print(tokens, vocab(tokens))"
      ],
      "id": "b48268d4"
    },
    {
      "cell_type": "markdown",
      "source": [
        "<p>Define the validation size and the training size</p>"
      ],
      "metadata": {
        "id": "cu-N2Bo8FF1y"
      },
      "id": "cu-N2Bo8FF1y"
    },
    {
      "cell_type": "code",
      "execution_count": 115,
      "metadata": {
        "id": "c8c8f6a6"
      },
      "outputs": [],
      "source": [
        "NUM_TRAIN = int(len(train_dataset)*0.9)\n",
        "NUM_VAL = len(train_dataset) - NUM_TRAIN"
      ],
      "id": "c8c8f6a6"
    },
    {
      "cell_type": "code",
      "execution_count": 116,
      "metadata": {
        "id": "8290895e"
      },
      "outputs": [],
      "source": [
        "train_dataset, val_dataset = random_split(train_dataset, [NUM_TRAIN, NUM_VAL])"
      ],
      "id": "8290895e"
    },
    {
      "cell_type": "code",
      "execution_count": 117,
      "metadata": {
        "colab": {
          "base_uri": "https://localhost:8080/"
        },
        "id": "cbc75b54",
        "outputId": "a66052fe-1d50-4a6b-8ee5-d339eae61617"
      },
      "outputs": [
        {
          "output_type": "stream",
          "name": "stdout",
          "text": [
            "108000 12000 7600\n"
          ]
        }
      ],
      "source": [
        "print(len(train_dataset), len(val_dataset), len(test_dataset))"
      ],
      "id": "cbc75b54"
    },
    {
      "cell_type": "markdown",
      "source": [
        "<h3>Process a batch of data before it's used for training or evaluation</h3>\n",
        "<p>The function takes a batch of data, tokenizes the text, ensures uniform sequence length, and prepares the labels for use in a model, returning them as PyTorch tensors</p>"
      ],
      "metadata": {
        "id": "ipIlylggFXHd"
      },
      "id": "ipIlylggFXHd"
    },
    {
      "cell_type": "code",
      "execution_count": 118,
      "metadata": {
        "id": "ffdbf077"
      },
      "outputs": [],
      "source": [
        "# function passed to the DataLoader to process a batch of data as indicated\n",
        "def collate_batch(batch):\n",
        "    # Get label and text\n",
        "    y, x = list(zip(*batch))\n",
        "\n",
        "    # Create list with indices from tokeniser\n",
        "    x = [vocab(tokeniser(text)) for text in x]\n",
        "    x = [t + ([0]*(max_tokens - len(t))) if len(t) < max_tokens else t[:max_tokens] for t in x]\n",
        "\n",
        "    # Prepare the labels, by subtracting 1 to get them in the range 0-3\n",
        "    return torch.tensor(x, dtype=torch.int32), torch.tensor(y, dtype=torch.int32) - 1"
      ],
      "id": "ffdbf077"
    },
    {
      "cell_type": "code",
      "execution_count": 119,
      "metadata": {
        "id": "5eb459c7"
      },
      "outputs": [],
      "source": [
        "labels =  [\"World\", \"Sports\", \"Business\", \"Sci/Tech\"]\n",
        "max_tokens = 50\n",
        "BATCH_SIZE = 256"
      ],
      "id": "5eb459c7"
    },
    {
      "cell_type": "markdown",
      "source": [
        "<h3>Create data loaders for your training, validation, and test datasets</h3>"
      ],
      "metadata": {
        "id": "s6YKCqyDF21l"
      },
      "id": "s6YKCqyDF21l"
    },
    {
      "cell_type": "code",
      "execution_count": 120,
      "metadata": {
        "id": "0a55e6ee"
      },
      "outputs": [],
      "source": [
        "train_loader = DataLoader(train_dataset, batch_size=BATCH_SIZE, collate_fn=collate_batch, shuffle = True)\n",
        "val_loader = DataLoader(val_dataset, batch_size=BATCH_SIZE, collate_fn=collate_batch, shuffle = True)\n",
        "test_loader = DataLoader(test_dataset, batch_size=BATCH_SIZE, collate_fn=collate_batch, shuffle = True)"
      ],
      "id": "0a55e6ee"
    },
    {
      "cell_type": "markdown",
      "metadata": {
        "id": "47b98898"
      },
      "source": [
        "### Let us build our RNN model"
      ],
      "id": "47b98898"
    },
    {
      "cell_type": "markdown",
      "source": [
        "<p>Define the arguments we will be using in our model</p>"
      ],
      "metadata": {
        "id": "NHoYBzflGAk3"
      },
      "id": "NHoYBzflGAk3"
    },
    {
      "cell_type": "code",
      "execution_count": 121,
      "metadata": {
        "id": "50f20793"
      },
      "outputs": [],
      "source": [
        "EMBEDDING_SIZE = 200 # complete\n",
        "NEURONS = 256 # complete\n",
        "LAYERS = 3 # complete\n",
        "NUM_CLASSES = len(labels) # complete"
      ],
      "id": "50f20793"
    },
    {
      "cell_type": "markdown",
      "source": [
        "<h3> Create a simple recurrent neural network (RNN) model for text classification.\n",
        "</h3>\n",
        "<p>\n",
        "      Args:\n",
        "          embed_size (int): The size of the word embeddings.\n",
        "          hidden (int): The number of units in the hidden RNN layer.\n",
        "          layers (int): The number of RNN layers.\n",
        "          num_classes (int): The number of output classes for classification.</p>\n",
        "<p>\n",
        "      Attributes:\n",
        "          embedding_layer (nn.Embedding): Converts words into fixed-size vectors.\n",
        "          rnn (nn.RNN): The recurrent neural network layer.\n",
        "          fc (nn.Linear): Linear layer for classification.\n",
        "          </p>"
      ],
      "metadata": {
        "id": "85vsGzzUGtMn"
      },
      "id": "85vsGzzUGtMn"
    },
    {
      "cell_type": "code",
      "execution_count": 122,
      "metadata": {
        "id": "0f7f5621"
      },
      "outputs": [],
      "source": [
        "class RNN_Model_1(nn.Module):\n",
        "    def __init__(self, embed_size, hidden, layers, num_classes):\n",
        "        super().__init__()\n",
        "        # Provide embedding vectors for elements of a discrete set, like a vocabulary\n",
        "        # Convert words into fixed-size vectors in a high-dimensional space\n",
        "        self.embedding_layer = nn.Embedding(num_embeddings=len(vocab),\n",
        "                                            embedding_dim=embed_size)\n",
        "\n",
        "        # Define the RNN model with the arguments provided\n",
        "        self.rnn = nn.RNN(input_size=embed_size,hidden_size=hidden,num_layers = layers,batch_first=True) # complete this code/\n",
        "                        # You may use PyTorch nn.GRU(), nn.RNN(), or nn.LSTM()\n",
        "\n",
        "        # Linear layer for classification\n",
        "        # Fully connected layer that applies a linear transformation to its input\n",
        "        self.fc = nn.Linear(hidden, num_classes) # complete output classifier layer using linear layer\n",
        "\n",
        "    def forward(self, x):\n",
        "        # implement forward pass. This function will be called when executing the model\n",
        "        out = self.embedding_layer(x)  # Pass input through embedding layer\n",
        "        out, _ = self.rnn(out)  # Pass embeddings through RNN; we discard the hidden state returned by the RNN\n",
        "        out = out[:, -1, :]  # We're interested in the output of the RNN for the last time step\n",
        "        out = self.fc(out)  # Pass the RNN output through the linear layer\n",
        "        return out\n"
      ],
      "id": "0f7f5621"
    },
    {
      "cell_type": "markdown",
      "source": [
        "<h3>Compute Model Accuracy and Collect Predictions</h3>\n",
        "<p>This function is designed to evaluate the accuracy of our model, assuming the use of GPU. It operates on a dataset and returns not only the accuracy score but also collects the true labels and model predictions. These true labels and predictions are important for later analysis, such as building a confusion matrix to assess the model's performance.</p>"
      ],
      "metadata": {
        "id": "ZkVdwNYnHhLo"
      },
      "id": "ZkVdwNYnHhLo"
    },
    {
      "cell_type": "code",
      "execution_count": 123,
      "metadata": {
        "id": "2a42613f"
      },
      "outputs": [],
      "source": [
        "def accuracy(model, loader):\n",
        "    model.eval()  # Set the model to evaluation mode\n",
        "    model = model.to(device=device)\n",
        "    correct = 0\n",
        "    total = 0\n",
        "    all_true = []  # Initialize a list to store true labels\n",
        "    all_predicted = []  # Initialize a list to store predicted labels\n",
        "\n",
        "    with torch.no_grad():  # No need to compute gradients for this\n",
        "        for data in loader:\n",
        "            inputs, labels = data  # Data loader returns a tuple of inputs and labels\n",
        "\n",
        "            inputs = inputs.to(device=device, dtype=torch.long)\n",
        "            labels = labels.to(device=device, dtype=torch.long)\n",
        "\n",
        "            outputs = model(inputs)  # Get model predictions\n",
        "\n",
        "            _, predicted = torch.max(outputs, 1)  # Get the index of the max log-probability\n",
        "            total += labels.size(0)  # Increment the total count\n",
        "            correct += (predicted == labels).sum().item()  # Increment the correct count\n",
        "\n",
        "            # Append true and predicted labels to the respective lists\n",
        "            all_true.extend(labels.cpu().numpy())\n",
        "            all_predicted.extend(predicted.cpu().numpy())\n",
        "\n",
        "    accuracy = 100 * correct / total  # Compute accuracy as a percentage\n",
        "    return accuracy, all_true, all_predicted  # Return accuracy and the lists"
      ],
      "id": "2a42613f"
    },
    {
      "cell_type": "markdown",
      "source": [
        "<h3>Training Function with PyTorch</h3>\n",
        "<p>This function serves as a standard training approach for PyTorch-based models. Firstly, it ensures that both the model and the data are available on the specified device, facilitating GPU acceleration if available. Secondly, it calculates both the loss with Cross-Entropy and accuracy at regular intervals, specifically after processing every 200 mini-batches.</p>"
      ],
      "metadata": {
        "id": "AGQgPD6jIPfd"
      },
      "id": "AGQgPD6jIPfd"
    },
    {
      "cell_type": "code",
      "execution_count": 124,
      "metadata": {
        "id": "5e843e1f"
      },
      "outputs": [],
      "source": [
        "def train(model, optimizer, loader, epochs=100):\n",
        "\n",
        "    # Set the model to training mode\n",
        "    model.train()\n",
        "    model = model.to(device=device)\n",
        "\n",
        "    # Define the loss function\n",
        "    criterion = nn.CrossEntropyLoss()\n",
        "\n",
        "    # Training loop\n",
        "    for epoch in range(epochs):\n",
        "        running_loss = 0.0\n",
        "        total=0\n",
        "        correct = 0\n",
        "        for i, data in enumerate(loader, 0):\n",
        "            # Separate inputs and labels\n",
        "            inputs, labels = data\n",
        "\n",
        "            # Clear old gradients\n",
        "            optimizer.zero_grad()\n",
        "\n",
        "            # Convert labels to torch.long data type\n",
        "            inputs = inputs.to(device = device,dtype=torch.long)\n",
        "            labels = labels.to(device = device,dtype=torch.long)\n",
        "\n",
        "            # Forward pass\n",
        "            outputs = model(inputs)\n",
        "\n",
        "            # Compute loss\n",
        "            loss = criterion(outputs, labels)\n",
        "\n",
        "            # Backward pass and optimization\n",
        "            loss.backward()\n",
        "            optimizer.step()\n",
        "\n",
        "            # Update accuracy calculations\n",
        "            _, predicted = torch.max(outputs.data, 1)\n",
        "            total += labels.size(0)\n",
        "            correct += (predicted == labels).sum().item()\n",
        "\n",
        "            # Print statistics (optional)\n",
        "            running_loss += loss.item()\n",
        "            if i % 200 == 199:  # Print every 200 mini-batches\n",
        "                accuracy = 100 * correct / total  # <-- Calculate accuracy\n",
        "                print(f\"[{epoch + 1}, {i + 1}] loss: {running_loss / 200:.3f}, accuracy: {accuracy:.2f}%\")\n",
        "\n",
        "                running_loss = 0.0\n",
        "\n",
        "    print(\"Finished Training\")"
      ],
      "id": "5e843e1f"
    },
    {
      "cell_type": "code",
      "execution_count": 125,
      "metadata": {
        "id": "87775b29"
      },
      "outputs": [],
      "source": [
        "epochs = 35# Specify epochs\n",
        "lr = 0.0001# learning rate\n",
        "rnn_model = RNN_Model_1(EMBEDDING_SIZE, NEURONS, LAYERS, NUM_CLASSES) # Declare the model\n",
        "optimizer = torch.optim.Adam(rnn_model.parameters(), lr=lr) # Declare the type of optimizer"
      ],
      "id": "87775b29"
    },
    {
      "cell_type": "markdown",
      "source": [
        "<h3>Apply training to our RNN model</h3>"
      ],
      "metadata": {
        "id": "i1FbxAqyKH_8"
      },
      "id": "i1FbxAqyKH_8"
    },
    {
      "cell_type": "code",
      "execution_count": 126,
      "metadata": {
        "id": "aec12a1b",
        "scrolled": true,
        "colab": {
          "base_uri": "https://localhost:8080/"
        },
        "outputId": "6d6b004f-127b-47a7-c3cd-19a5664e8b0c"
      },
      "outputs": [
        {
          "output_type": "stream",
          "name": "stdout",
          "text": [
            "[1, 200] loss: 1.383, accuracy: 27.46%\n",
            "[1, 400] loss: 1.227, accuracy: 34.95%\n",
            "[2, 200] loss: 0.947, accuracy: 60.07%\n",
            "[2, 400] loss: 0.819, accuracy: 64.00%\n",
            "[3, 200] loss: 0.711, accuracy: 73.43%\n",
            "[3, 400] loss: 0.640, accuracy: 75.04%\n",
            "[4, 200] loss: 0.575, accuracy: 79.40%\n",
            "[4, 400] loss: 0.544, accuracy: 79.98%\n",
            "[5, 200] loss: 0.502, accuracy: 82.34%\n",
            "[5, 400] loss: 0.491, accuracy: 82.54%\n",
            "[6, 200] loss: 0.452, accuracy: 84.17%\n",
            "[6, 400] loss: 0.431, accuracy: 84.51%\n",
            "[7, 200] loss: 0.410, accuracy: 85.84%\n",
            "[7, 400] loss: 0.399, accuracy: 86.06%\n",
            "[8, 200] loss: 0.364, accuracy: 87.61%\n",
            "[8, 400] loss: 0.374, accuracy: 87.41%\n",
            "[9, 200] loss: 0.352, accuracy: 88.01%\n",
            "[9, 400] loss: 0.343, accuracy: 88.17%\n",
            "[10, 200] loss: 0.328, accuracy: 88.93%\n",
            "[10, 400] loss: 0.327, accuracy: 88.88%\n",
            "[11, 200] loss: 0.302, accuracy: 89.84%\n",
            "[11, 400] loss: 0.302, accuracy: 89.85%\n",
            "[12, 200] loss: 0.292, accuracy: 90.14%\n",
            "[12, 400] loss: 0.287, accuracy: 90.29%\n",
            "[13, 200] loss: 0.271, accuracy: 90.99%\n",
            "[13, 400] loss: 0.267, accuracy: 91.06%\n",
            "[14, 200] loss: 0.258, accuracy: 91.61%\n",
            "[14, 400] loss: 0.263, accuracy: 91.43%\n",
            "[15, 200] loss: 0.242, accuracy: 92.11%\n",
            "[15, 400] loss: 0.242, accuracy: 92.09%\n",
            "[16, 200] loss: 0.233, accuracy: 92.34%\n",
            "[16, 400] loss: 0.235, accuracy: 92.34%\n",
            "[17, 200] loss: 0.222, accuracy: 92.88%\n",
            "[17, 400] loss: 0.216, accuracy: 92.86%\n",
            "[18, 200] loss: 0.216, accuracy: 92.96%\n",
            "[18, 400] loss: 0.210, accuracy: 93.08%\n",
            "[19, 200] loss: 0.196, accuracy: 93.68%\n",
            "[19, 400] loss: 0.207, accuracy: 93.54%\n",
            "[20, 200] loss: 0.186, accuracy: 94.15%\n",
            "[20, 400] loss: 0.196, accuracy: 93.93%\n",
            "[21, 200] loss: 0.181, accuracy: 94.29%\n",
            "[21, 400] loss: 0.190, accuracy: 94.11%\n",
            "[22, 200] loss: 0.172, accuracy: 94.50%\n",
            "[22, 400] loss: 0.175, accuracy: 94.48%\n",
            "[23, 200] loss: 0.165, accuracy: 94.84%\n",
            "[23, 400] loss: 0.172, accuracy: 94.69%\n",
            "[24, 200] loss: 0.153, accuracy: 95.25%\n",
            "[24, 400] loss: 0.160, accuracy: 95.17%\n",
            "[25, 200] loss: 0.155, accuracy: 95.09%\n",
            "[25, 400] loss: 0.158, accuracy: 95.10%\n",
            "[26, 200] loss: 0.143, accuracy: 95.56%\n",
            "[26, 400] loss: 0.146, accuracy: 95.54%\n",
            "[27, 200] loss: 0.142, accuracy: 95.57%\n",
            "[27, 400] loss: 0.139, accuracy: 95.70%\n",
            "[28, 200] loss: 0.133, accuracy: 96.05%\n",
            "[28, 400] loss: 0.137, accuracy: 95.93%\n",
            "[29, 200] loss: 0.121, accuracy: 96.48%\n",
            "[29, 400] loss: 0.127, accuracy: 96.32%\n",
            "[30, 200] loss: 0.131, accuracy: 96.09%\n",
            "[30, 400] loss: 0.117, accuracy: 96.29%\n",
            "[31, 200] loss: 0.117, accuracy: 96.56%\n",
            "[31, 400] loss: 0.125, accuracy: 96.40%\n",
            "[32, 200] loss: 0.107, accuracy: 96.90%\n",
            "[32, 400] loss: 0.116, accuracy: 96.73%\n",
            "[33, 200] loss: 0.106, accuracy: 96.96%\n",
            "[33, 400] loss: 0.110, accuracy: 96.85%\n",
            "[34, 200] loss: 0.109, accuracy: 96.67%\n",
            "[34, 400] loss: 0.107, accuracy: 96.74%\n",
            "[35, 200] loss: 0.095, accuracy: 97.26%\n",
            "[35, 400] loss: 0.110, accuracy: 97.00%\n",
            "Finished Training\n"
          ]
        }
      ],
      "source": [
        "train(rnn_model, optimizer=optimizer,loader=train_loader,epochs=epochs)"
      ],
      "id": "aec12a1b"
    },
    {
      "cell_type": "markdown",
      "source": [
        "<h3>Evaluating Model Performance</h3>\n",
        "<p>Assessing the performance of our trained model reveals valuable insights. While our model achieved 95% accuracy on the training set, it's essential to note that real-world performance may differ. On the test set, the accuracy slightly drops to 89%. This reduction is expected as the model faces unseen data, but it still demonstrates robustness. Considering that some articles may fit various categories. To gain a deeper understanding of its performance and identify potential areas of improvement, we'll further analyze its predictions using a confusion matrix, which will provide a more comprehensive view of how the model handles different classes and potential areas for optimization.</p>"
      ],
      "metadata": {
        "id": "QR3ierrRKX9I"
      },
      "id": "QR3ierrRKX9I"
    },
    {
      "cell_type": "markdown",
      "source": [
        "<h3>"
      ],
      "metadata": {
        "id": "yVfN0ET9KSA8"
      },
      "id": "yVfN0ET9KSA8"
    },
    {
      "cell_type": "code",
      "execution_count": 127,
      "metadata": {
        "id": "7a3ef175",
        "colab": {
          "base_uri": "https://localhost:8080/"
        },
        "outputId": "949d8b86-35ad-42ae-f21a-3dff54e39a45"
      },
      "outputs": [
        {
          "output_type": "stream",
          "name": "stdout",
          "text": [
            "88.5395\n"
          ]
        }
      ],
      "source": [
        "print(f'{accuracy(rnn_model, test_loader)[0]:.4f}')"
      ],
      "id": "7a3ef175"
    },
    {
      "cell_type": "markdown",
      "source": [
        "<p>This function serves as a text classification model, capable of assigning one of four predefined labels to input text.</p>\n",
        "<p>Before making a prediction, the input text undergoes a preprocessing step where it is tokenized using the tokeniser function. Tokenization breaks the text into individual units, typically words or subword tokens, making it suitable for analysis by the model.</p>\n",
        "<p>After preprocessing, the model leverages its learned patterns and knowledge to classify the text into one of the available categories.</p>"
      ],
      "metadata": {
        "id": "RB1Yl_GrLRau"
      },
      "id": "RB1Yl_GrLRau"
    },
    {
      "cell_type": "code",
      "execution_count": 128,
      "metadata": {
        "id": "ed30693d"
      },
      "outputs": [],
      "source": [
        "def classify_text(model, text):\n",
        "\n",
        "    # Preprocess the text\n",
        "    processed_text = tokeniser(text)\n",
        "    processed_text = [int(token) for token in processed_text]\n",
        "\n",
        "    # Convert the processed text to a tensor\n",
        "    # (Assuming the text is now a list of integers)\n",
        "    text_tensor = torch.tensor(processed_text, dtype=torch.long).unsqueeze(0)  # Add batch dimension\n",
        "\n",
        "    # If your model is on GPU, move the tensor to GPU\n",
        "    if next(model.parameters()).is_cuda:\n",
        "        text_tensor = text_tensor.cuda()\n",
        "\n",
        "    # Set the model to evaluation mode\n",
        "    model.eval()\n",
        "\n",
        "    # Pass the tensor through the model\n",
        "    with torch.no_grad():\n",
        "        outputs = model(text_tensor)\n",
        "\n",
        "    # Get the predicted class\n",
        "    _, predicted_class = torch.max(outputs.data, 1)\n",
        "\n",
        "    print(predicted_class)\n",
        "\n",
        "    # Convert the predicted class to a Python integer and return it\n",
        "    return predicted_class.item()"
      ],
      "id": "ed30693d"
    },
    {
      "cell_type": "markdown",
      "source": [
        "<p>This function samples and classifies elements within a data loader using the previously defined `classify_text` function.</p>\n",
        "<p>It accomplishes this by first randomly selecting a batch from the given data loader and then further randomizing the selection by picking an instance from that batch.</p>\n",
        "<p>The selected instance is then transformed into a format suitable for input to the `classify_text` function, which provides a label prediction for the text.</p>\n",
        "<p>Additionally, the function retrieves the original text from the tokenized instance, facilitating interpretability and enabling further analysis of the model's predictions.</p>\n",
        "<p>Ultimately, the function returns both the original text and the predicted label, offering insights into how the model classifies random samples from the dataset.</p>"
      ],
      "metadata": {
        "id": "HSkCxH74ME6c"
      },
      "id": "HSkCxH74ME6c"
    },
    {
      "cell_type": "code",
      "source": [
        "import random\n",
        "\n",
        "def sample_text(model,load):\n",
        "    # Randomly select a batch from the loader\n",
        "    batch_idx = random.randint(0, len(load) - 1)\n",
        "    for i, batch in enumerate(load):\n",
        "        if i == batch_idx:\n",
        "            inputs, _ = batch  # Each batch is a tuple of (inputs, labels)\n",
        "            break\n",
        "\n",
        "    # Randomly select an instance from the batch\n",
        "    instance_idx = random.randint(0, len(inputs) - 1)\n",
        "    instance = inputs[instance_idx]\n",
        "\n",
        "\n",
        "    # Convert instance to a format that can be used with classify_text\n",
        "    instance_text = ' '.join([str(idx) for idx in instance.tolist()])\n",
        "\n",
        "    # Interpret the tokens as text\n",
        "    original_text = ' '.join([vocab.get_itos()[idx] for idx in instance.tolist()])\n",
        "\n",
        "    # Call classify_text on the selected instance\n",
        "    predicted_class = classify_text(model, instance_text)\n",
        "\n",
        "    return original_text, predicted_class\n"
      ],
      "metadata": {
        "id": "_6u6IYT7pTKe"
      },
      "id": "_6u6IYT7pTKe",
      "execution_count": 129,
      "outputs": []
    },
    {
      "cell_type": "code",
      "execution_count": 131,
      "metadata": {
        "id": "534f0220",
        "colab": {
          "base_uri": "https://localhost:8080/"
        },
        "outputId": "5307582a-abce-492e-d84a-c181c4a3b5fc"
      },
      "outputs": [
        {
          "output_type": "stream",
          "name": "stdout",
          "text": [
            "tensor([2], device='cuda:0')\n",
            "The input text: \n",
            " jones buys barneys in \\$400 million deal a company with a middle-brow reputation announced a deal today to buy the singularly trendy clothing chain . <unk> <unk> <unk> <unk> <unk> <unk> <unk> <unk> <unk> <unk> <unk> <unk> <unk> <unk> <unk> <unk> <unk> <unk> <unk> <unk> <unk> <unk> <unk> <unk> <unk>\n",
            "The prediction -> Business\n"
          ]
        }
      ],
      "source": [
        "# Available categories: labels =  [\"World\", \"Sports\", \"Business\", \"Sci/Tech\"]\n",
        "text,prediction = sample_text(rnn_model, test_loader)\n",
        "print(\"The input text: \\n\",text)\n",
        "print(\"The prediction ->\",labels[prediction])"
      ],
      "id": "534f0220"
    },
    {
      "cell_type": "code",
      "source": [
        "# Available categories: labels =  [\"World\", \"Sports\", \"Business\", \"Sci/Tech\"]\n",
        "text,prediction = sample_text(rnn_model, test_loader)\n",
        "print(\"The input text: \\n\",text)\n",
        "print(\"The prediction ->\",labels[prediction])"
      ],
      "metadata": {
        "colab": {
          "base_uri": "https://localhost:8080/"
        },
        "id": "7DV6CjuhNJFY",
        "outputId": "aaa7cfd2-028b-4459-9c67-8449c39009df"
      },
      "id": "7DV6CjuhNJFY",
      "execution_count": 136,
      "outputs": [
        {
          "output_type": "stream",
          "name": "stdout",
          "text": [
            "tensor([3], device='cuda:0')\n",
            "The input text: \n",
            " family of jfk attacks dallas death game a video games company from scotland is causing outrage in america with a title called jfk reloaded , which allows players to look through the crosshairs of lee harvey <unk> rifle and assassinate the late us president . <unk> <unk> <unk> <unk> <unk>\n",
            "The prediction -> Sci/Tech\n"
          ]
        }
      ]
    },
    {
      "cell_type": "code",
      "source": [
        "# Available categories: labels =  [\"World\", \"Sports\", \"Business\", \"Sci/Tech\"]\n",
        "text,prediction = sample_text(rnn_model, test_loader)\n",
        "print(\"The input text: \\n\",text)\n",
        "print(\"The prediction ->\",labels[prediction])"
      ],
      "metadata": {
        "colab": {
          "base_uri": "https://localhost:8080/"
        },
        "id": "kqyw772uNJx8",
        "outputId": "bb572e60-b6ac-41bf-f12e-e57ad0a8c5e0"
      },
      "id": "kqyw772uNJx8",
      "execution_count": 135,
      "outputs": [
        {
          "output_type": "stream",
          "name": "stdout",
          "text": [
            "tensor([3], device='cuda:0')\n",
            "The input text: \n",
            " fcc declares authority over states on voip ( siliconvalley . com ) siliconvalley . com - federal regulators tuesday declared authority over the states in governing internet phone services , a move providers called crucial to fostering growth , innovation and competitive pricing in the budding industry . <unk> <unk>\n",
            "The prediction -> Sci/Tech\n"
          ]
        }
      ]
    },
    {
      "cell_type": "markdown",
      "source": [
        "<h3>Confusion matrix</h3>"
      ],
      "metadata": {
        "id": "S4xbV4p9NeQO"
      },
      "id": "S4xbV4p9NeQO"
    },
    {
      "cell_type": "code",
      "execution_count": 132,
      "metadata": {
        "id": "bb38e093",
        "colab": {
          "base_uri": "https://localhost:8080/",
          "height": 611
        },
        "outputId": "215b8a20-b2ec-4ffe-e8b7-65bd61694033"
      },
      "outputs": [
        {
          "output_type": "display_data",
          "data": {
            "text/plain": [
              "<Figure size 800x600 with 1 Axes>"
            ],
            "image/png": "[encoded data removed]"
          },
          "metadata": {}
        }
      ],
      "source": [
        "from sklearn.metrics import confusion_matrix\n",
        "import seaborn as sns\n",
        "import matplotlib.pyplot as plt\n",
        "# create confusion matrix\n",
        "_, true_labels, predicted_labels = accuracy(rnn_model, test_loader)\n",
        "conf_matrix = confusion_matrix(true_labels, predicted_labels)\n",
        "\n",
        "# Get the text labels for display\n",
        "text_true_labels = [labels[label] for label in true_labels]\n",
        "text_predicted_labels = [labels[label] for label in predicted_labels]\n",
        "\n",
        "# Visualize the confusion matrix\n",
        "plt.figure(figsize=(8, 6))\n",
        "sns.heatmap(conf_matrix, annot=True, fmt=\"d\", cmap=\"Blues\", cbar=False)\n",
        "plt.xlabel(\"Predicted Labels\")\n",
        "plt.ylabel(\"True Labels\")\n",
        "\n",
        "# Determine the number of unique labels\n",
        "num_labels = len(set(text_true_labels + text_predicted_labels))\n",
        "\n",
        "# Set ticks and labels based on the number of unique labels\n",
        "plt.xticks(ticks=range(num_labels), labels=list(set(text_predicted_labels)), rotation=90)\n",
        "plt.yticks(ticks=range(num_labels), labels=list(set(text_true_labels)))\n",
        "\n",
        "plt.title(\"Confusion Matrix\")\n",
        "plt.show()\n",
        "\n",
        "\n",
        "\n"
      ],
      "id": "bb38e093"
    }
  ],
  "metadata": {
    "accelerator": "GPU",
    "colab": {
      "provenance": [],
      "gpuType": "T4",
      "include_colab_link": true
    },
    "kernelspec": {
      "display_name": "Python 3",
      "name": "python3"
    },
    "language_info": {
      "codemirror_mode": {
        "name": "ipython",
        "version": 3
      },
      "file_extension": ".py",
      "mimetype": "text/x-python",
      "name": "python",
      "nbconvert_exporter": "python",
      "pygments_lexer": "ipython3",
      "version": "3.9.0"
    },
    "varInspector": {
      "cols": {
        "lenName": 16,
        "lenType": 16,
        "lenVar": 40
      },
      "kernels_config": {
        "python": {
          "delete_cmd_postfix": "",
          "delete_cmd_prefix": "del ",
          "library": "var_list.py",
          "varRefreshCmd": "print(var_dic_list())"
        },
        "r": {
          "delete_cmd_postfix": ") ",
          "delete_cmd_prefix": "rm(",
          "library": "var_list.r",
          "varRefreshCmd": "cat(var_dic_list()) "
        }
      },
      "types_to_exclude": [
        "module",
        "function",
        "builtin_function_or_method",
        "instance",
        "_Feature"
      ],
      "window_display": false
    }
  },
  "nbformat": 4,
  "nbformat_minor": 5
}