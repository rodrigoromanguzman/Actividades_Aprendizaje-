{
  "nbformat": 4,
  "nbformat_minor": 0,
  "metadata": {
    "colab": {
      "name": "assignment01.ipynb",
      "provenance": [],
      "include_colab_link": true
    },
    "kernelspec": {
      "name": "python3",
      "display_name": "Python 3"
    },
    "language_info": {
      "name": "python"
    }
  },
  "cells": [
    {
      "cell_type": "markdown",
      "metadata": {
        "id": "view-in-github",
        "colab_type": "text"
      },
      "source": [
        "<a href=\"https://colab.research.google.com/github/rodrigoromanguzman/Actividades_Aprendizaje-/blob/main/semana8/module5_python_for_data_science.ipynb\" target=\"_parent\"><img src=\"https://colab.research.google.com/assets/colab-badge.svg\" alt=\"Open In Colab\"/></a>"
      ]
    },
    {
      "cell_type": "markdown",
      "source": [
        "<h1>Rodrigo Ildefonso Roman Guzman|A01794225|María de la Paz Rico Fernández|Semana 8 (Noviembre 6 2022)</h1>"
      ],
      "metadata": {
        "id": "uP1ejkoVpvvv"
      }
    },
    {
      "cell_type": "markdown",
      "source": [
        "<h2>Data Analysis with Python <b>Module 5</b><h2/>"
      ],
      "metadata": {
        "id": "Lr3KxiGaqHlO"
      }
    },
    {
      "cell_type": "markdown",
      "source": [
        "<h3>Model Evaluation and Refinement</h3>\n",
        "<p>Model evaluation tells how our model performs in the real world. The difference model evaluation has against smaple evaluation is that the former tells how well the model fits the data used in the train set and model evaluation is an indicator og how well the model does in test data.</p>"
      ],
      "metadata": {
        "id": "JCvmHS-7B158"
      }
    },
    {
      "cell_type": "markdown",
      "source": [
        "<h3>Linear Regression</h3>\n",
        "<p>Refers to one independent variable to make a prediction</p>\n",
        "$$\n",
        "Y: Response \\ Variable\\\\\\\\\\\\\\\\\\\\\n",
        "X: Predictor \\ Variables\n",
        "$$\n",
        "<h4>Linear function</h4>\n",
        "$$\n",
        "Yhat = a + b  X\n",
        "$$\n",
        "<p>Where <i>a</i> is the intercept and <i>b</i> is the coeficient or slope of the linear function</p>"
      ],
      "metadata": {
        "id": "mzaWm3wzCTQJ"
      }
    },
    {
      "cell_type": "code",
      "source": [
        "#Example of linear regression\n",
        "import pandas as pd\n",
        "import numpy as np\n",
        "import matplotlib.pyplot as plt\n",
        "import seaborn as sns\n",
        "from ipywidgets import interact, interactive, fixed, interact_manual\n",
        "\n",
        "#Download the data set\n",
        "path = 'https://cf-courses-data.s3.us.cloud-object-storage.appdomain.cloud/IBMDeveloperSkillsNetwork-DA0101EN-SkillsNetwork/labs/Data%20files/module_5_auto.csv'\n",
        "df = pd.read_csv(path)\n"
      ],
      "metadata": {
        "id": "Y-8rDOvJxvcB"
      },
      "execution_count": 2,
      "outputs": []
    },
    {
      "cell_type": "code",
      "source": [
        "def DistributionPlot(RedFunction, BlueFunction, RedName, BlueName, Title):\n",
        "    width = 12\n",
        "    height = 10\n",
        "    plt.figure(figsize=(width, height))\n",
        "\n",
        "    ax1 = sns.distplot(RedFunction, hist=False, color=\"r\", label=RedName)\n",
        "    ax2 = sns.distplot(BlueFunction, hist=False, color=\"b\", label=BlueName, ax=ax1)\n",
        "\n",
        "    plt.title(Title)\n",
        "    plt.xlabel('Price (in dollars)')\n",
        "    plt.ylabel('Proportion of Cars')\n",
        "\n",
        "    plt.show()\n",
        "    plt.close()\n",
        "\n"
      ],
      "metadata": {
        "id": "1ijRg4MhEWsP"
      },
      "execution_count": 3,
      "outputs": []
    },
    {
      "cell_type": "markdown",
      "source": [
        "<h2>Training and Testing</h2>\n",
        "\n",
        "<p>An important step in testing your model is to split your data into training and testing data. We will place the target data <b>price</b> in a separate dataframe <b>y_data</b>:</p>"
      ],
      "metadata": {
        "id": "W1LctP-Lsc5w"
      }
    },
    {
      "cell_type": "code",
      "source": [
        "y_data = df['price']\n",
        "x_data=df.drop('price',axis=1)"
      ],
      "metadata": {
        "id": "irvYtKUJI1iU"
      },
      "execution_count": 4,
      "outputs": []
    },
    {
      "cell_type": "markdown",
      "source": [
        "<p>train_test_split allows us to randomly split the data into training and testing sets</p>"
      ],
      "metadata": {
        "id": "UkBU4qAgwrN1"
      }
    },
    {
      "cell_type": "code",
      "source": [
        "from sklearn.model_selection import train_test_split\n",
        "\n",
        "\n",
        "#we choose the testing data to be 10% of the total amount of data available\n",
        "x_train, x_test, y_train, y_test = train_test_split(x_data, y_data, test_size=0.10, random_state=1)\n",
        "\n",
        "\n",
        "print(\"number of test samples :\", x_test.shape[0])\n",
        "print(\"number of training samples:\",x_train.shape[0])\n"
      ],
      "metadata": {
        "id": "UoF4e06RwxRj",
        "outputId": "7627e57e-d667-4dd1-8eaa-9eb623daf04f",
        "colab": {
          "base_uri": "https://localhost:8080/"
        }
      },
      "execution_count": 5,
      "outputs": [
        {
          "output_type": "stream",
          "name": "stdout",
          "text": [
            "number of test samples : 21\n",
            "number of training samples: 180\n"
          ]
        }
      ]
    },
    {
      "cell_type": "markdown",
      "source": [
        "<p>Lets try this out with our linear regression model</p>"
      ],
      "metadata": {
        "id": "YH--3E_DvWlX"
      }
    },
    {
      "cell_type": "code",
      "source": [
        "from sklearn.linear_model import LinearRegression\n",
        "lre=LinearRegression()\n",
        "lre.fit(x_train[['horsepower']], y_train)\n",
        "print('Score for test',lre.score(x_test[['horsepower']], y_test))\n",
        "print('Score for train',lre.score(x_train[['horsepower']], y_train))"
      ],
      "metadata": {
        "id": "riLzrBYXwbb1",
        "outputId": "bedf6b80-9eea-4ff2-87f9-0c48cf59549f",
        "colab": {
          "base_uri": "https://localhost:8080/"
        }
      },
      "execution_count": 6,
      "outputs": [
        {
          "output_type": "stream",
          "name": "stdout",
          "text": [
            "Score for test 0.36358755750788263\n",
            "Score for train 0.6619724197515104\n"
          ]
        }
      ]
    },
    {
      "cell_type": "markdown",
      "source": [
        "<p>Given that we trained our model with a larger amount of data, the error is decreased for the train model. And thus, the R^2 is larger.</p>"
      ],
      "metadata": {
        "id": "muFho3VTwq4Q"
      }
    },
    {
      "cell_type": "markdown",
      "source": [
        "<p>Using a 40% of the data for testing we get the following</p>"
      ],
      "metadata": {
        "id": "-cZdtzmYx6ID"
      }
    },
    {
      "cell_type": "code",
      "source": [
        "x_train, x_test, y_train, y_test = train_test_split(x_data, y_data, test_size=0.40, random_state=1)\n",
        "lre=LinearRegression()\n",
        "lre.fit(x_train[['horsepower']], y_train)\n",
        "\n",
        "#we get balanced values\n",
        "print('Score for test',lre.score(x_test[['horsepower']], y_test))\n",
        "print('Score for train',lre.score(x_train[['horsepower']], y_train))"
      ],
      "metadata": {
        "id": "bcGp1qolx8uL",
        "colab": {
          "base_uri": "https://localhost:8080/"
        },
        "outputId": "d9a3c61c-6309-4ce1-adfc-7c4b906c3349"
      },
      "execution_count": 7,
      "outputs": [
        {
          "output_type": "stream",
          "name": "stdout",
          "text": [
            "Score for test 0.6111827529454426\n",
            "Score for train 0.6755325771980134\n"
          ]
        }
      ]
    },
    {
      "cell_type": "markdown",
      "source": [
        "<h2>Cross Validation</h2>\n",
        "\n",
        "<p>Allows us to compare different machine learning methods and get a sense of how well they will perform in practive.</p>\n"
      ],
      "metadata": {
        "id": "Kl_lbpz7yBJz"
      }
    },
    {
      "cell_type": "code",
      "source": [
        "from sklearn.model_selection import cross_val_score\n",
        "#cv determines the number of folds (number of fraction we will split our data into)\n",
        "Rcross = cross_val_score(lre, x_data[['horsepower']], y_data, cv=4)\n",
        "print('We get a score for each fold')\n",
        "print(Rcross)\n",
        "#We can get the average of these scores\n",
        "print(\"The mean of the folds are\", Rcross.mean(), \"and the standard deviation is\" , Rcross.std())"
      ],
      "metadata": {
        "id": "8au4T6WFPgwO",
        "colab": {
          "base_uri": "https://localhost:8080/"
        },
        "outputId": "aca0dee4-19c5-4363-ac53-93dee9a4c81b"
      },
      "execution_count": 8,
      "outputs": [
        {
          "output_type": "stream",
          "name": "stdout",
          "text": [
            "We get a score for each fold\n",
            "[0.7746232  0.51716687 0.74785353 0.04839605]\n",
            "The mean of the folds are 0.522009915042119 and the standard deviation is 0.291183944475603\n"
          ]
        }
      ]
    },
    {
      "cell_type": "code",
      "source": [
        "Rcross = cross_val_score(lre, x_data[['horsepower']], y_data, cv=2)\n",
        "print('These are the results for two folds')\n",
        "print(Rcross)\n",
        "#We can get the average of these scores\n",
        "print(\"The mean of the folds are\", Rcross.mean(), \"and the standard deviation is\" , Rcross.std())"
      ],
      "metadata": {
        "id": "o7gGcJv4PxLS",
        "outputId": "a875c284-9b30-4348-eebd-7e9ea8475fb6",
        "colab": {
          "base_uri": "https://localhost:8080/"
        }
      },
      "execution_count": 9,
      "outputs": [
        {
          "output_type": "stream",
          "name": "stdout",
          "text": [
            "These are the results for two folds\n",
            "[0.59015621 0.44319613]\n",
            "The mean of the folds are 0.5166761697127429 and the standard deviation is 0.07348004195771385\n"
          ]
        }
      ]
    },
    {
      "cell_type": "markdown",
      "source": [
        "<h3>Overfitting and Underfitting</h3>\n",
        "<p>Overfitting happens when the model is too flexible and fits the noise rather than the function</p>\n",
        "<p>Underfitting happens when the model is not flexible enough and does not account for the different cases</p>"
      ],
      "metadata": {
        "id": "NIKVtjTFQBep"
      }
    },
    {
      "cell_type": "code",
      "source": [
        "lr = LinearRegression()\n",
        "lr.fit(x_train[['horsepower', 'curb-weight', 'engine-size', 'highway-mpg']], y_train)\n",
        "#prediction using train\n",
        "yhat_train = lr.predict(x_train[['horsepower', 'curb-weight', 'engine-size', 'highway-mpg']])\n",
        "yhat_train[0:5]"
      ],
      "metadata": {
        "id": "Ebg2bLWA9kPq",
        "outputId": "2448a6f1-349c-4f52-8b1f-931e1ee37307",
        "colab": {
          "base_uri": "https://localhost:8080/"
        }
      },
      "execution_count": 10,
      "outputs": [
        {
          "output_type": "execute_result",
          "data": {
            "text/plain": [
              "array([26091.37901214,  7954.34606626, 26091.37901214, 19557.5951667 ,\n",
              "        5822.61408773])"
            ]
          },
          "metadata": {},
          "execution_count": 10
        }
      ]
    },
    {
      "cell_type": "code",
      "source": [
        "#prediction using test\n",
        "yhat_test = lr.predict(x_test[['horsepower', 'curb-weight', 'engine-size', 'highway-mpg']])\n",
        "yhat_test[0:5]"
      ],
      "metadata": {
        "id": "q1Qc3lwmQTMr",
        "outputId": "86b66979-0676-48d1-a88d-33e480df2d9f",
        "colab": {
          "base_uri": "https://localhost:8080/"
        }
      },
      "execution_count": 11,
      "outputs": [
        {
          "output_type": "execute_result",
          "data": {
            "text/plain": [
              "array([11353.32523898,  5751.32764209, 11187.28797374,  6595.61698627,\n",
              "       15737.79921748])"
            ]
          },
          "metadata": {},
          "execution_count": 11
        }
      ]
    },
    {
      "cell_type": "markdown",
      "source": [
        "<h4>Display the data as a plot</h4>\n"
      ],
      "metadata": {
        "id": "e3el_2Jb-CHw"
      }
    },
    {
      "cell_type": "code",
      "source": [
        "from sklearn.preprocessing import PolynomialFeatures\n",
        "\n",
        "#Split the data into training and testing sets\n",
        "x_train, x_test, y_train, y_test = train_test_split(x_data, y_data, test_size=0.45, random_state=0)\n",
        "\n",
        "#Define the model we are going to use\n",
        "poly = LinearRegression()\n",
        "pr = PolynomialFeatures(degree=5)\n",
        "poly = LinearRegression()\n",
        "\n",
        "#train the model on training and testing sets\n",
        "x_train_pr = pr.fit_transform(x_train[['horsepower']])\n",
        "x_test_pr = pr.fit_transform(x_test[['horsepower']])\n",
        "\n",
        "#Fit the model with the polynomial features\n",
        "poly.fit(x_train_pr, y_train)\n",
        "\n",
        "\n",
        "yhat = poly.predict(x_test_pr)\n",
        "\n",
        "def PollyPlot(xtrain, xtest, y_train, y_test, lr,poly_transform):\n",
        "    width = 12\n",
        "    height = 10\n",
        "    plt.figure(figsize=(width, height))\n",
        "    \n",
        "    \n",
        "    #training data \n",
        "    #testing data \n",
        "    # lr:  linear regression object \n",
        "    #poly_transform:  polynomial transformation object \n",
        " \n",
        "    xmax=max([xtrain.values.max(), xtest.values.max()])\n",
        "\n",
        "    xmin=min([xtrain.values.min(), xtest.values.min()])\n",
        "\n",
        "    x=np.arange(xmin, xmax, 0.1)\n",
        "\n",
        "\n",
        "    plt.plot(xtrain, y_train, 'ro', label='Training Data')\n",
        "    plt.plot(xtest, y_test, 'go', label='Test Data')\n",
        "    plt.plot(x, lr.predict(poly_transform.fit_transform(x.reshape(-1, 1))), label='Predicted Function')\n",
        "    plt.ylim([-10000, 60000])\n",
        "    plt.ylabel('Price')\n",
        "    plt.legend()\n",
        "PollyPlot(x_train[['horsepower']], x_test[['horsepower']], y_train, y_test, poly,pr)"
      ],
      "metadata": {
        "id": "ZEmAUMFc-FdW",
        "colab": {
          "base_uri": "https://localhost:8080/",
          "height": 595
        },
        "outputId": "52f81804-8bad-4d9e-a6b2-28a79c6a39cb"
      },
      "execution_count": 12,
      "outputs": [
        {
          "output_type": "display_data",
          "data": {
            "text/plain": [
              "<Figure size 864x720 with 1 Axes>"
            ],
            "image/png": "[encoded data removed]"
          },
          "metadata": {
            "needs_background": "light"
          }
        }
      ]
    },
    {
      "cell_type": "markdown",
      "source": [
        "\n",
        "<h3>Compare the results for training and testing</h3>\n",
        "<p>Remember that the lower the R^2 the worse the model. A negative R^2 is a sign of overfitting.</p>"
      ],
      "metadata": {
        "id": "cUyRgMKLU2oB"
      }
    },
    {
      "cell_type": "code",
      "source": [
        "print('Results for training',poly.score(x_train_pr, y_train))\n",
        "print('Results for testing',poly.score(x_test_pr, y_test))"
      ],
      "metadata": {
        "id": "by4Zyosci9hV",
        "outputId": "a88ee48d-decf-4c06-d4c4-a3c3f4c74fdf",
        "colab": {
          "base_uri": "https://localhost:8080/"
        }
      },
      "execution_count": 13,
      "outputs": [
        {
          "output_type": "stream",
          "name": "stdout",
          "text": [
            "Results for training 0.556771690212023\n",
            "Results for testing -29.87134030204415\n"
          ]
        }
      ]
    },
    {
      "cell_type": "markdown",
      "source": [
        "<p>The following graph is a demonstration of how well the model fits the data for a certain degree of polynomial. The models are evaluated with R^2</p>"
      ],
      "metadata": {
        "id": "zdbAWlbRj6dO"
      }
    },
    {
      "cell_type": "code",
      "source": [
        "Rsqu_test = []\n",
        "\n",
        "order = [1, 2, 3, 4]\n",
        "for n in order:\n",
        "    pr = PolynomialFeatures(degree=n)\n",
        "    \n",
        "    x_train_pr = pr.fit_transform(x_train[['horsepower']])\n",
        "    \n",
        "    x_test_pr = pr.fit_transform(x_test[['horsepower']])    \n",
        "    \n",
        "    lr.fit(x_train_pr, y_train)\n",
        "    \n",
        "    Rsqu_test.append(lr.score(x_test_pr, y_test))\n",
        "\n",
        "plt.plot(order, Rsqu_test)\n",
        "plt.xlabel('order')\n",
        "plt.ylabel('R^2')\n",
        "plt.title('R^2 Using Test Data')\n",
        "plt.text(3, 0.75, 'Maximum R^2 ')  "
      ],
      "metadata": {
        "id": "8OSY-bkFj4My",
        "outputId": "63c470f6-667f-4dbd-de69-3dff737112db",
        "colab": {
          "base_uri": "https://localhost:8080/",
          "height": 313
        }
      },
      "execution_count": 14,
      "outputs": [
        {
          "output_type": "execute_result",
          "data": {
            "text/plain": [
              "Text(3, 0.75, 'Maximum R^2 ')"
            ]
          },
          "metadata": {},
          "execution_count": 14
        },
        {
          "output_type": "display_data",
          "data": {
            "text/plain": [
              "<Figure size 432x288 with 1 Axes>"
            ],
            "image/png": "[encoded data removed]"
          },
          "metadata": {
            "needs_background": "light"
          }
        }
      ]
    },
    {
      "cell_type": "markdown",
      "source": [
        "<h2>Ridge Regression</h2>\n",
        "<p>Ridge regression controls the magnitude of the polynomials by introducing a parameter alpha. We select alpha before fittting or training the model</p>"
      ],
      "metadata": {
        "id": "wpjq2HoDEu_K"
      }
    },
    {
      "cell_type": "code",
      "source": [
        "from sklearn.linear_model import Ridge\n",
        "pr=PolynomialFeatures(degree=2)\n",
        "x_train_pr=pr.fit_transform(x_train[['horsepower', 'curb-weight', 'engine-size', 'highway-mpg','normalized-losses','symboling']])\n",
        "x_test_pr=pr.fit_transform(x_test[['horsepower', 'curb-weight', 'engine-size', 'highway-mpg','normalized-losses','symboling']])\n",
        "\n",
        "\n",
        "RigeModel=Ridge(alpha=1)\n",
        "RigeModel.fit(x_train_pr, y_train)\n",
        "yhat = RigeModel.predict(x_test_pr)\n",
        "print('predicted:', yhat[0:4])\n",
        "print('test set :', y_test[0:4].values)"
      ],
      "metadata": {
        "id": "olVPMiLdlWH5",
        "outputId": "67727ac8-497a-4294-d776-b98b0518c33c",
        "colab": {
          "base_uri": "https://localhost:8080/"
        }
      },
      "execution_count": 17,
      "outputs": [
        {
          "output_type": "stream",
          "name": "stdout",
          "text": [
            "predicted: [ 6570.82441941  9636.2489147  20949.92322737 19403.60313256]\n",
            "test set : [ 6295. 10698. 13860. 13499.]\n"
          ]
        }
      ]
    },
    {
      "cell_type": "markdown",
      "source": [
        "<p>We can test the performance of the model for distinct values for alpha</p>"
      ],
      "metadata": {
        "id": "EnsOrY2xGayF"
      }
    },
    {
      "cell_type": "code",
      "source": [
        "from tqdm import tqdm\n",
        "\n",
        "Rsqu_test = []\n",
        "Rsqu_train = []\n",
        "dummy1 = []\n",
        "Alpha = 10 * np.array(range(0,1000))\n",
        "pbar = tqdm(Alpha)\n",
        "\n",
        "for alpha in pbar:\n",
        "    RigeModel = Ridge(alpha=alpha) \n",
        "    RigeModel.fit(x_train_pr, y_train)\n",
        "    test_score, train_score = RigeModel.score(x_test_pr, y_test), RigeModel.score(x_train_pr, y_train)\n",
        "    \n",
        "    pbar.set_postfix({\"Test Score\": test_score, \"Train Score\": train_score})\n",
        "\n",
        "    Rsqu_test.append(test_score)\n",
        "    Rsqu_train.append(train_score)"
      ],
      "metadata": {
        "id": "QkZrxNEhGhGs",
        "outputId": "8d54a40a-bc0c-45eb-c7c5-54fc841afbb7",
        "colab": {
          "base_uri": "https://localhost:8080/"
        }
      },
      "execution_count": 18,
      "outputs": [
        {
          "output_type": "stream",
          "name": "stderr",
          "text": [
            "100%|██████████| 1000/1000 [00:12<00:00, 77.56it/s, Test Score=0.564, Train Score=0.859]\n"
          ]
        }
      ]
    },
    {
      "cell_type": "code",
      "source": [
        "width = 12\n",
        "height = 10\n",
        "plt.figure(figsize=(width, height))\n",
        "\n",
        "plt.plot(Alpha,Rsqu_test, label='validation data  ')\n",
        "plt.plot(Alpha,Rsqu_train, 'r', label='training Data ')\n",
        "plt.xlabel('alpha')\n",
        "plt.ylabel('R^2')\n",
        "plt.legend()"
      ],
      "metadata": {
        "id": "oY-kb_IZGpNR",
        "outputId": "8c50be19-8a42-483a-9c4b-376e6ae7ea3d",
        "colab": {
          "base_uri": "https://localhost:8080/",
          "height": 624
        }
      },
      "execution_count": 19,
      "outputs": [
        {
          "output_type": "execute_result",
          "data": {
            "text/plain": [
              "<matplotlib.legend.Legend at 0x7f0ae1ca5f50>"
            ]
          },
          "metadata": {},
          "execution_count": 19
        },
        {
          "output_type": "display_data",
          "data": {
            "text/plain": [
              "<Figure size 864x720 with 1 Axes>"
            ],
            "image/png": "[encoded data removed]"
          },
          "metadata": {
            "needs_background": "light"
          }
        }
      ]
    }
  ]
}