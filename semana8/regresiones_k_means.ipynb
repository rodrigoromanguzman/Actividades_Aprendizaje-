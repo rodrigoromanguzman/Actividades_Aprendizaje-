{
  "nbformat": 4,
  "nbformat_minor": 0,
  "metadata": {
    "colab": {
      "name": "assignment01.ipynb",
      "provenance": [],
      "include_colab_link": true
    },
    "kernelspec": {
      "name": "python3",
      "display_name": "Python 3"
    },
    "language_info": {
      "name": "python"
    }
  },
  "cells": [
    {
      "cell_type": "markdown",
      "metadata": {
        "id": "view-in-github",
        "colab_type": "text"
      },
      "source": [
        "<a href=\"https://colab.research.google.com/github/rodrigoromanguzman/Actividades_Aprendizaje-/blob/main/semana8/regresiones_k_means.ipynb\" target=\"_parent\"><img src=\"https://colab.research.google.com/assets/colab-badge.svg\" alt=\"Open In Colab\"/></a>"
      ]
    },
    {
      "cell_type": "markdown",
      "source": [
        "<h3>Ejercicio 1</h3>\n",
        "<p>Costo en la industria de manufactura.</p>"
      ],
      "metadata": {
        "id": "nrp5w6z57pgw"
      }
    },
    {
      "cell_type": "markdown",
      "source": [
        "<ul>\n",
        "<li>Divide los datos del costo de manufactura. Utiliza la duncion train_test_split</li>\n",
        "<ul>"
      ],
      "metadata": {
        "id": "DlcK4XlL73nf"
      }
    },
    {
      "cell_type": "code",
      "source": [
        "#Importamos la base de datos y las librerias que vamos a utilizar\n",
        "import pandas as pd\n",
        "import numpy as np\n",
        "from sklearn.model_selection import train_test_split\n",
        "df = pd.read_csv('https://raw.githubusercontent.com/marypazrf/bdd/main/EconomiesOfScale.csv')\n",
        "\n",
        "#Revisamos la correlacion entre variables porque nos da un indice de linearidad y \n",
        "#de que tan funcional sera usar regression lineal con los datos\n",
        "print('Correlacion entre variables')\n",
        "print(df.corr())\n",
        "\n",
        "#Separamos la variable objetivo de la caracteristica que usaremos para predecir\n",
        "x = df['Number of Units']\n",
        "y = df['Manufacturing Cost']\n",
        "\n",
        "#El modelo de regresion lineal de Scikit-Learn's espera un input de 2D y de momento nuestros datos\n",
        "#tienen una forma de 1D. Por lo que tenemos que reformar nuestros datos.\n",
        "print('Forma de datos antes')\n",
        "print('X: ',x.values.shape,'Y: ',y.values.shape)\n",
        "\n",
        "#reformar\n",
        "X = x.values.reshape(-1, 1)\n",
        "Y = y.values.reshape(-1, 1)\n",
        "\n",
        "print('Forma de datos despues')\n",
        "print('X: ',X.shape,'Y_train: ',Y.shape)\n",
        "\n",
        "\n",
        "#Por default obtenemos un 25% de datos reservados para testing\n",
        "#Dado que el proceso de seleccion de datos es random, para evitar diferencias cada vez que \n",
        "#ejecutemos el algoritmo. Utilizaremos una constante SEED = 42\n",
        "SEED = 42\n",
        "(X_train, X_test, y_train, y_test) = train_test_split(X, Y,random_state=SEED)\n"
      ],
      "metadata": {
        "colab": {
          "base_uri": "https://localhost:8080/"
        },
        "id": "oQhx5LWH8Dnz",
        "outputId": "80d9348f-6525-43ce-b4d7-859e28bf9247"
      },
      "execution_count": 205,
      "outputs": [
        {
          "output_type": "stream",
          "name": "stdout",
          "text": [
            "Correlacion entre variables\n",
            "                    Number of Units  Manufacturing Cost\n",
            "Number of Units            1.000000           -0.760905\n",
            "Manufacturing Cost        -0.760905            1.000000\n",
            "Forma de datos antes\n",
            "X:  (1000,) Y:  (1000,)\n",
            "Forma de datos despues\n",
            "X:  (1000, 1) Y_train:  (1000, 1)\n"
          ]
        }
      ]
    },
    {
      "cell_type": "markdown",
      "source": [
        "<ul>\n",
        "<li>Regression Lineal</li>\n",
        "<ul>"
      ],
      "metadata": {
        "id": "Y-jZmO1g_Sf9"
      }
    },
    {
      "cell_type": "code",
      "source": [
        "from sklearn.linear_model import LinearRegression\n",
        "regressor = LinearRegression()\n",
        "\n",
        "#Entrenamos nuestro modelo en los datos de entrenamiento\n",
        "regressor.fit(X_train, y_train)\n",
        "\n",
        "print('Interseccion: ',regressor.intercept_)\n",
        "print('Coeficiente: ',regressor.coef_)\n",
        "\n",
        "#Revisemos las predicciones en los datos de prueba\n",
        "y_pred = regressor.predict(X_test)\n",
        "\n",
        "#Comparamos las predicciones con los valores reales\n",
        "df_preds = pd.DataFrame({'Real': y_test.squeeze(), 'Prediccion': y_pred.squeeze()})\n",
        "print(df_preds)\n",
        "\n"
      ],
      "metadata": {
        "colab": {
          "base_uri": "https://localhost:8080/"
        },
        "id": "3W0MqOhq_YFf",
        "outputId": "771ca13a-b5c8-478e-ebb1-bdecdddc8f10"
      },
      "execution_count": 206,
      "outputs": [
        {
          "output_type": "stream",
          "name": "stdout",
          "text": [
            "Interseccion:  [67.88519414]\n",
            "Coeficiente:  [[-6.22507903]]\n",
            "          Real  Prediccion\n",
            "0    38.634483   39.755998\n",
            "1    33.233497   34.987583\n",
            "2    34.550609   34.937744\n",
            "3    34.982985   36.569338\n",
            "4    43.090662   41.850114\n",
            "..         ...         ...\n",
            "245  57.942993   50.041007\n",
            "246  37.715435   41.573461\n",
            "247  46.461065   51.676315\n",
            "248  50.402065   51.241571\n",
            "249  40.800063   44.616595\n",
            "\n",
            "[250 rows x 2 columns]\n"
          ]
        }
      ]
    },
    {
      "cell_type": "markdown",
      "source": [
        "<p>Errores y R^2</p>"
      ],
      "metadata": {
        "id": "45jIYpZzION4"
      }
    },
    {
      "cell_type": "code",
      "source": [
        "from sklearn.metrics import mean_absolute_error, mean_squared_error\n",
        "from sklearn.metrics import r2_score\n",
        "\n",
        "mae = mean_absolute_error(y_test, y_pred)\n",
        "mse = mean_squared_error(y_test, y_pred)\n",
        "rmse = np.sqrt(mse)\n",
        "r2 = r2_score(y_test, y_pred)\n",
        "print(f'Mean absolute error: {mae:.2f}')\n",
        "print(f'Mean squared error: {mse:.2f}')\n",
        "print(f'Root mean squared error: {rmse:.2f}')\n",
        "print(f'R^2: {r2:.2f}')"
      ],
      "metadata": {
        "colab": {
          "base_uri": "https://localhost:8080/"
        },
        "id": "KdSyj5k5ITkn",
        "outputId": "1830959a-e465-4995-8e20-e2af59627812"
      },
      "execution_count": 207,
      "outputs": [
        {
          "output_type": "stream",
          "name": "stdout",
          "text": [
            "Mean absolute error: 4.73\n",
            "Mean squared error: 39.90\n",
            "Root mean squared error: 6.32\n",
            "R^2: 0.58\n"
          ]
        }
      ]
    },
    {
      "cell_type": "markdown",
      "source": [
        "<p>Graficamos los resultados</p>"
      ],
      "metadata": {
        "id": "-fx0n-i_KB80"
      }
    },
    {
      "cell_type": "code",
      "source": [
        "import matplotlib.pyplot as plot\n",
        "\n",
        "plot.scatter(X_test, y_test, color = 'red')\n",
        "plot.plot(X_test, y_pred, color = 'blue')\n",
        "plot.title('Comparacion entre prediccion y valor real')\n",
        "plot.xlabel('Number of Units')\n",
        "plot.ylabel('Manufacturing Cost')\n",
        "plot.show()"
      ],
      "metadata": {
        "colab": {
          "base_uri": "https://localhost:8080/",
          "height": 295
        },
        "id": "UeVPFkVOJ1GG",
        "outputId": "b21c048a-a904-4228-b085-b93a89f75c56"
      },
      "execution_count": 208,
      "outputs": [
        {
          "output_type": "display_data",
          "data": {
            "text/plain": [
              "<Figure size 432x288 with 1 Axes>"
            ],
            "image/png": "[encoded data removed]"
          },
          "metadata": {
            "needs_background": "light"
          }
        }
      ]
    },
    {
      "cell_type": "markdown",
      "source": [
        "<h3>Regresion Polinomial</h3>"
      ],
      "metadata": {
        "id": "kdoip6NYPAk1"
      }
    },
    {
      "cell_type": "code",
      "source": [
        "from sklearn.preprocessing import PolynomialFeatures\n",
        "\n",
        "\n",
        "#Ejemplo con grado 2\n",
        "poly_reg=PolynomialFeatures(degree=2)\n",
        "\n",
        "#Entrenamos el Modelo\n",
        "X_poly=poly_reg.fit_transform(X_train)\n",
        "\n",
        "\n",
        "poly_reg.fit(X_poly,y_train)\n",
        "\n",
        "poly_reg_model = LinearRegression()\n",
        "\n",
        "poly_reg_model.fit(X_poly, y_train)\n",
        "\n",
        "#Creamos la base polinomial de los datos de prueba\n",
        "poly_test = poly_reg.fit_transform(X_test)\n",
        "\n",
        "y_poly_pred = poly_reg_model.predict(poly_test)\n"
      ],
      "metadata": {
        "id": "t4K_nRGFPFub"
      },
      "execution_count": 209,
      "outputs": []
    },
    {
      "cell_type": "code",
      "source": [
        "mae = mean_absolute_error(y_test, y_poly_pred)\n",
        "mse = mean_squared_error(y_test, y_poly_pred)\n",
        "rmse = np.sqrt(mse)\n",
        "r2 = r2_score(y_test, y_poly_pred)\n",
        "print(f'Mean absolute error: {mae:.2f}')\n",
        "print(f'Mean squared error: {mse:.2f}')\n",
        "print(f'Root mean squared error: {rmse:.2f}')\n",
        "print(f'R^2: {r2:.2f}')"
      ],
      "metadata": {
        "colab": {
          "base_uri": "https://localhost:8080/"
        },
        "id": "xX7rYRd9cgIR",
        "outputId": "1194f43a-7a52-404e-9c28-0aa73bf9848f"
      },
      "execution_count": 210,
      "outputs": [
        {
          "output_type": "stream",
          "name": "stdout",
          "text": [
            "Mean absolute error: 4.51\n",
            "Mean squared error: 35.17\n",
            "Root mean squared error: 5.93\n",
            "R^2: 0.63\n"
          ]
        }
      ]
    },
    {
      "cell_type": "code",
      "source": [
        "plot.scatter(X_test, y_test, color = 'red')\n",
        "plot.plot(X_test, y_poly_pred, color = 'blue')\n",
        "plot.title('Real Vs Predecido (Polinomial)')\n",
        "plot.xlabel('Number of Units')\n",
        "plot.ylabel('Manufacturing Cost')\n",
        "plot.show()"
      ],
      "metadata": {
        "colab": {
          "base_uri": "https://localhost:8080/",
          "height": 295
        },
        "id": "40ydgG3ZQoNx",
        "outputId": "a198e8bd-e5c2-491b-8e08-f6a178cff3e2"
      },
      "execution_count": 211,
      "outputs": [
        {
          "output_type": "display_data",
          "data": {
            "text/plain": [
              "<Figure size 432x288 with 1 Axes>"
            ],
            "image/png": "[encoded data removed]"
          },
          "metadata": {
            "needs_background": "light"
          }
        }
      ]
    },
    {
      "cell_type": "markdown",
      "source": [
        "<h3>Ridge and Lasso Regression</h3>"
      ],
      "metadata": {
        "id": "9XuocbFTYGcS"
      }
    },
    {
      "cell_type": "code",
      "source": [
        "from sklearn.linear_model import Ridge, RidgeCV, Lasso\n",
        "\n",
        "#Modelo Ridge Regression \n",
        "ridgeReg = Ridge(alpha=10)\n",
        "\n",
        "ridgeReg.fit(X_train,y_train)\n",
        "\n",
        "#train and test scorefor ridge regression\n",
        "train_score_ridge = ridgeReg.score(X_train, y_train)\n",
        "test_score_ridge = ridgeReg.score(X_test, y_test)\n",
        "y_pred = ridgeReg.predict(X_test)\n",
        "\n",
        "print(\"\\nModelo Ridge ............................................\\n\")\n",
        "print('Coeficiente de la ecuacion: {}'.format(ridgeReg.coef_))\n",
        "print('Interseccion de la ecuacion: {}'.format(ridgeReg.intercept_))\n",
        "print(\"\\n\")\n",
        "\n",
        "\n",
        "print(\"El valor de entrenamiento para ridge es {}\".format(train_score_ridge))\n",
        "print(\"El valor de prueba para ridge es {}\".format(test_score_ridge))"
      ],
      "metadata": {
        "id": "2CpVpkqxYL0Q",
        "outputId": "f706d439-ef90-4929-c848-627e9a049e30",
        "colab": {
          "base_uri": "https://localhost:8080/"
        }
      },
      "execution_count": 212,
      "outputs": [
        {
          "output_type": "stream",
          "name": "stdout",
          "text": [
            "\n",
            "Modelo Ridge ............................................\n",
            "\n",
            "Coeficiente de la ecuacion: [[-6.17811641]]\n",
            "Interseccion de la ecuacion: [67.67536193]\n",
            "\n",
            "\n",
            "El valor de entrenamiento para ridge es 0.5773917472599517\n",
            "El valor de prueba para ridge es 0.5832526783114598\n"
          ]
        }
      ]
    },
    {
      "cell_type": "code",
      "source": [
        "mae = mean_absolute_error(y_test, y_pred)\n",
        "mse = mean_squared_error(y_test, y_pred)\n",
        "rmse = np.sqrt(mse)\n",
        "r2 = r2_score(y_test, y_pred)\n",
        "print(f'Mean absolute error: {mae:.2f}')\n",
        "print(f'Mean squared error: {mse:.2f}')\n",
        "print(f'Root mean squared error: {rmse:.2f}')\n",
        "print(f'R^2: {r2:.2f}')"
      ],
      "metadata": {
        "id": "Pkd0OxFBi6JG",
        "outputId": "94b9546a-56aa-40bf-ca0f-df4ba7fb11eb",
        "colab": {
          "base_uri": "https://localhost:8080/"
        }
      },
      "execution_count": 213,
      "outputs": [
        {
          "output_type": "stream",
          "name": "stdout",
          "text": [
            "Mean absolute error: 4.72\n",
            "Mean squared error: 39.77\n",
            "Root mean squared error: 6.31\n",
            "R^2: 0.58\n"
          ]
        }
      ]
    },
    {
      "cell_type": "code",
      "source": [
        "plot.scatter(X_test, y_test, color = 'red')\n",
        "plot.plot(X_test, y_pred, color = 'blue')\n",
        "plot.title('Real Vs Predecido (Polinomial)')\n",
        "plot.xlabel('Number of Units')\n",
        "plot.ylabel('Manufacturing Cost')\n",
        "plot.show()"
      ],
      "metadata": {
        "id": "JQTRTcawkAfK",
        "outputId": "b368462b-592f-438b-b026-4db4817e8bcb",
        "colab": {
          "base_uri": "https://localhost:8080/",
          "height": 295
        }
      },
      "execution_count": 214,
      "outputs": [
        {
          "output_type": "display_data",
          "data": {
            "text/plain": [
              "<Figure size 432x288 with 1 Axes>"
            ],
            "image/png": "[encoded data removed]"
          },
          "metadata": {
            "needs_background": "light"
          }
        }
      ]
    },
    {
      "cell_type": "code",
      "source": [
        "#Lasso regression model\n",
        "print(\"\\nModelo Lasso............................................\\n\")\n",
        "lasso = Lasso(alpha = 10)\n",
        "lasso.fit(X_train,y_train)\n",
        "train_score_ls =lasso.score(X_train,y_train)\n",
        "test_score_ls =lasso.score(X_test,y_test)\n",
        "y_pred = lasso.predict(X_test)\n",
        "\n",
        "print(\"\\nModelo Ridge ............................................\\n\")\n",
        "print('Coeficiente de la ecuacion: {}'.format(lasso.coef_))\n",
        "print('Interseccion de la ecuacion: {}'.format(lasso.intercept_))\n",
        "print(\"\\n\")\n",
        "\n",
        "print(\"El valor de entrenamiento para Lasso es  {}\".format(train_score_ls))\n",
        "print(\"El valor de prueba para Lasso es  {}\".format(test_score_ls))"
      ],
      "metadata": {
        "id": "T557NeHfahTQ",
        "outputId": "c3f05382-bd0a-404d-a781-07d4123d3b2b",
        "colab": {
          "base_uri": "https://localhost:8080/"
        }
      },
      "execution_count": 215,
      "outputs": [
        {
          "output_type": "stream",
          "name": "stdout",
          "text": [
            "\n",
            "Modelo Lasso............................................\n",
            "\n",
            "\n",
            "Modelo Ridge ............................................\n",
            "\n",
            "Coeficiente de la ecuacion: [-0.5239936]\n",
            "Interseccion de la ecuacion: [42.41235616]\n",
            "\n",
            "\n",
            "El valor de entrenamiento para Lasso es  0.09311771941960012\n",
            "El valor de prueba para Lasso es  0.10755887340772496\n"
          ]
        }
      ]
    },
    {
      "cell_type": "code",
      "source": [
        "mae = mean_absolute_error(y_test, y_pred)\n",
        "mse = mean_squared_error(y_test, y_pred)\n",
        "rmse = np.sqrt(mse)\n",
        "r2 = r2_score(y_test, y_pred)\n",
        "print(f'Mean absolute error: {mae:.2f}')\n",
        "print(f'Mean squared error: {mse:.2f}')\n",
        "print(f'Root mean squared error: {rmse:.2f}')\n",
        "print(f'R^2: {r2:.2f}')"
      ],
      "metadata": {
        "id": "odsLuEahjLDm",
        "outputId": "d47fd129-64d1-4ede-e559-7aa1f0f0ffde",
        "colab": {
          "base_uri": "https://localhost:8080/"
        }
      },
      "execution_count": 216,
      "outputs": [
        {
          "output_type": "stream",
          "name": "stdout",
          "text": [
            "Mean absolute error: 6.78\n",
            "Mean squared error: 85.18\n",
            "Root mean squared error: 9.23\n",
            "R^2: 0.11\n"
          ]
        }
      ]
    },
    {
      "cell_type": "code",
      "source": [
        "plot.scatter(X_test, y_test, color = 'red')\n",
        "plot.plot(X_test, y_pred, color = 'blue')\n",
        "plot.title('Real Vs Predecido (Polinomial)')\n",
        "plot.xlabel('Number of Units')\n",
        "plot.ylabel('Manufacturing Cost')\n",
        "plot.show()"
      ],
      "metadata": {
        "id": "HG4ynZ0ij7CW",
        "outputId": "6a172e4f-4781-4e7e-f0f9-f89802dc2ae4",
        "colab": {
          "base_uri": "https://localhost:8080/",
          "height": 295
        }
      },
      "execution_count": 217,
      "outputs": [
        {
          "output_type": "display_data",
          "data": {
            "text/plain": [
              "<Figure size 432x288 with 1 Axes>"
            ],
            "image/png": "[encoded data removed]"
          },
          "metadata": {
            "needs_background": "light"
          }
        }
      ]
    },
    {
      "cell_type": "markdown",
      "source": [
        "<h3>Concluisiones:</h3>\n",
        "<p>Utilizamos 25% para los datos de prueba<p>\n",
        "<p>El modelo que conviene usar para esta base de datos es una regresion polinomial de grado 2. Todas las medidas de error se ven reducidas con este metodo y la R^2 es mas cercana a 1.</p>\n",
        "<p>Ademas los metodos de Ridge y Lasso no son necesarios en este caso ya que tenemos suficientes instancias para entrenar a los modelos.</p>"
      ],
      "metadata": {
        "id": "50XWk3XcjQYO"
      }
    }
  ]
}