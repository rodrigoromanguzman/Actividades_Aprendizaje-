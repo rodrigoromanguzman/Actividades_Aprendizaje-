{
  "nbformat": 4,
  "nbformat_minor": 0,
  "metadata": {
    "colab": {
      "name": "assignment01.ipynb",
      "provenance": [],
      "include_colab_link": true
    },
    "kernelspec": {
      "name": "python3",
      "display_name": "Python 3"
    },
    "language_info": {
      "name": "python"
    }
  },
  "cells": [
    {
      "cell_type": "markdown",
      "metadata": {
        "id": "view-in-github",
        "colab_type": "text"
      },
      "source": [
        "<a href=\"https://colab.research.google.com/github/rodrigoromanguzman/Actividades_Aprendizaje-/blob/main/semana8/regresiones_k_means.ipynb\" target=\"_parent\"><img src=\"https://colab.research.google.com/assets/colab-badge.svg\" alt=\"Open In Colab\"/></a>"
      ]
    },
    {
      "cell_type": "markdown",
      "source": [
        "<h3>Ejercicio 1</h3>\n",
        "<p>Costo en la industria de manufactura.</p>"
      ],
      "metadata": {
        "id": "nrp5w6z57pgw"
      }
    },
    {
      "cell_type": "markdown",
      "source": [
        "<ul>\n",
        "<li>Divide los datos del costo de manufactura. Utiliza la duncion train_test_split</li>\n",
        "<ul>"
      ],
      "metadata": {
        "id": "DlcK4XlL73nf"
      }
    },
    {
      "cell_type": "code",
      "source": [
        "#Importamos la base de datos y las librerias que vamos a utilizar\n",
        "import pandas as pd\n",
        "import numpy as np\n",
        "from sklearn.model_selection import train_test_split\n",
        "df = pd.read_csv('https://raw.githubusercontent.com/marypazrf/bdd/main/EconomiesOfScale.csv')\n",
        "\n",
        "#Revisamos la correlacion entre variables porque nos da un indice de linearidad y \n",
        "#de que tan funcional sera usar regression lineal con los datos\n",
        "print('Correlacion entre variables')\n",
        "print(df.corr())\n",
        "\n",
        "#Separamos la variable objetivo de la caracteristica que usaremos para predecir\n",
        "x = df['Number of Units']\n",
        "y = df['Manufacturing Cost']\n",
        "\n",
        "#El modelo de regresion lineal de Scikit-Learn's espera un input de 2D y de momento nuestros datos\n",
        "#tienen una forma de 1D. Por lo que tenemos que reformar nuestros datos.\n",
        "print('Forma de datos antes')\n",
        "print('X: ',x.values.shape,'Y: ',y.values.shape)\n",
        "\n",
        "#reformar\n",
        "X = x.values.reshape(-1, 1)\n",
        "Y = y.values.reshape(-1, 1)\n",
        "\n",
        "print('Forma de datos despues')\n",
        "print('X: ',X.shape,'Y_train: ',Y.shape)\n",
        "\n",
        "\n",
        "#Por default obtenemos un 25% de datos reservados para testing\n",
        "#Dado que el proceso de seleccion de datos es random, para evitar diferencias cada vez que \n",
        "#ejecutemos el algoritmo. Utilizaremos una constante SEED = 42\n",
        "SEED = 42\n",
        "(X_train, X_test, y_train, y_test) = train_test_split(X, Y,random_state=SEED)\n"
      ],
      "metadata": {
        "colab": {
          "base_uri": "https://localhost:8080/"
        },
        "id": "oQhx5LWH8Dnz",
        "outputId": "edcc5cc1-d02c-48c5-be7d-d5ec8a6186c0"
      },
      "execution_count": 53,
      "outputs": [
        {
          "output_type": "stream",
          "name": "stdout",
          "text": [
            "Correlacion entre variables\n",
            "                    Number of Units  Manufacturing Cost\n",
            "Number of Units            1.000000           -0.760905\n",
            "Manufacturing Cost        -0.760905            1.000000\n",
            "Forma de datos antes\n",
            "X:  (1000,) Y:  (1000,)\n",
            "Forma de datos despues\n",
            "X:  (1000, 1) Y_train:  (1000, 1)\n"
          ]
        }
      ]
    },
    {
      "cell_type": "markdown",
      "source": [
        "<ul>\n",
        "<li>Regression Lineal</li>\n",
        "<ul>"
      ],
      "metadata": {
        "id": "Y-jZmO1g_Sf9"
      }
    },
    {
      "cell_type": "code",
      "source": [
        "from sklearn.linear_model import LinearRegression\n",
        "regressor = LinearRegression()\n",
        "\n",
        "#Entrenamos nuestro modelo en los datos de entrenamiento\n",
        "regressor.fit(X_train, y_train)\n",
        "\n",
        "print('Interseccion: ',regressor.intercept_)\n",
        "print('Coeficiente: ',regressor.coef_)\n",
        "\n",
        "#Revisemos las predicciones en los datos de prueba\n",
        "y_pred = regressor.predict(X_test)\n",
        "\n",
        "#Comparamos las predicciones con los valores reales\n",
        "df_preds = pd.DataFrame({'Real': y_test.squeeze(), 'Prediccion': y_pred.squeeze()})\n",
        "print(df_preds)\n",
        "\n"
      ],
      "metadata": {
        "colab": {
          "base_uri": "https://localhost:8080/"
        },
        "id": "3W0MqOhq_YFf",
        "outputId": "cb2566c4-a43f-4632-e974-e8d3acf0eaed"
      },
      "execution_count": 54,
      "outputs": [
        {
          "output_type": "stream",
          "name": "stdout",
          "text": [
            "Interseccion:  [67.88519414]\n",
            "Coeficiente:  [[-6.22507903]]\n",
            "          Real  Prediccion\n",
            "0    38.634483   39.755998\n",
            "1    33.233497   34.987583\n",
            "2    34.550609   34.937744\n",
            "3    34.982985   36.569338\n",
            "4    43.090662   41.850114\n",
            "..         ...         ...\n",
            "245  57.942993   50.041007\n",
            "246  37.715435   41.573461\n",
            "247  46.461065   51.676315\n",
            "248  50.402065   51.241571\n",
            "249  40.800063   44.616595\n",
            "\n",
            "[250 rows x 2 columns]\n"
          ]
        }
      ]
    },
    {
      "cell_type": "markdown",
      "source": [
        "<p>Errores y R^2</p>"
      ],
      "metadata": {
        "id": "45jIYpZzION4"
      }
    },
    {
      "cell_type": "code",
      "source": [
        "from sklearn.metrics import mean_absolute_error, mean_squared_error\n",
        "from sklearn.metrics import r2_score\n",
        "\n",
        "mae = mean_absolute_error(y_test, y_pred)\n",
        "mse = mean_squared_error(y_test, y_pred)\n",
        "rmse = np.sqrt(mse)\n",
        "r2 = r2_score(y_test, y_pred)\n",
        "print(f'Mean absolute error: {mae:.2f}')\n",
        "print(f'Mean squared error: {mse:.2f}')\n",
        "print(f'Root mean squared error: {rmse:.2f}')\n",
        "print(f'R^2: {r2:.2f}')"
      ],
      "metadata": {
        "colab": {
          "base_uri": "https://localhost:8080/"
        },
        "id": "KdSyj5k5ITkn",
        "outputId": "a75d1e57-a3a2-45b9-ccbb-6dd74a6bc8ac"
      },
      "execution_count": 55,
      "outputs": [
        {
          "output_type": "stream",
          "name": "stdout",
          "text": [
            "Mean absolute error: 4.73\n",
            "Mean squared error: 39.90\n",
            "Root mean squared error: 6.32\n",
            "R^2: 0.58\n"
          ]
        }
      ]
    },
    {
      "cell_type": "markdown",
      "source": [
        "<p>Graficamos los resultados</p>"
      ],
      "metadata": {
        "id": "-fx0n-i_KB80"
      }
    },
    {
      "cell_type": "code",
      "source": [
        "import matplotlib.pyplot as plot\n",
        "\n",
        "plot.scatter(X_test, y_test, color = 'red')\n",
        "plot.plot(X_test, y_pred, color = 'blue')\n",
        "plot.title('Comparacion entre prediccion y valor real')\n",
        "plot.xlabel('Number of Units')\n",
        "plot.ylabel('Manufacturing Cost')\n",
        "plot.show()"
      ],
      "metadata": {
        "colab": {
          "base_uri": "https://localhost:8080/",
          "height": 295
        },
        "id": "UeVPFkVOJ1GG",
        "outputId": "bdc4d152-a925-4102-8a48-283eb9ee94ff"
      },
      "execution_count": 56,
      "outputs": [
        {
          "output_type": "display_data",
          "data": {
            "text/plain": [
              "<Figure size 432x288 with 1 Axes>"
            ],
            "image/png": "[encoded data removed]"
          },
          "metadata": {
            "needs_background": "light"
          }
        }
      ]
    },
    {
      "cell_type": "markdown",
      "source": [
        "<h3>Regresion Polinomial</h3>"
      ],
      "metadata": {
        "id": "kdoip6NYPAk1"
      }
    },
    {
      "cell_type": "code",
      "source": [
        "from sklearn.preprocessing import PolynomialFeatures\n",
        "\n",
        "\n",
        "#Ejemplo con grado 2\n",
        "poly_reg=PolynomialFeatures(degree=2)\n",
        "\n",
        "#Entrenamos el Modelo\n",
        "X_poly=poly_reg.fit_transform(X_train)\n",
        "\n",
        "\n",
        "poly_reg.fit(X_poly,y_train)\n",
        "\n",
        "poly_reg_model = LinearRegression()\n",
        "\n",
        "poly_reg_model.fit(X_poly, y_train)\n",
        "\n",
        "#Creamos la base polinomial de los datos de prueba\n",
        "poly_test = poly_reg.fit_transform(X_test)\n",
        "\n",
        "y_poly_pred = poly_reg_model.predict(poly_test)\n"
      ],
      "metadata": {
        "id": "t4K_nRGFPFub"
      },
      "execution_count": 57,
      "outputs": []
    },
    {
      "cell_type": "code",
      "source": [
        "mae = mean_absolute_error(y_test, y_poly_pred)\n",
        "mse = mean_squared_error(y_test, y_poly_pred)\n",
        "rmse = np.sqrt(mse)\n",
        "r2 = r2_score(y_test, y_poly_pred)\n",
        "print(f'Mean absolute error: {mae:.2f}')\n",
        "print(f'Mean squared error: {mse:.2f}')\n",
        "print(f'Root mean squared error: {rmse:.2f}')\n",
        "print(f'R^2: {r2:.2f}')"
      ],
      "metadata": {
        "colab": {
          "base_uri": "https://localhost:8080/"
        },
        "id": "xX7rYRd9cgIR",
        "outputId": "8bcfbaa7-3f73-4601-991a-448dab74782c"
      },
      "execution_count": 58,
      "outputs": [
        {
          "output_type": "stream",
          "name": "stdout",
          "text": [
            "Mean absolute error: 4.51\n",
            "Mean squared error: 35.17\n",
            "Root mean squared error: 5.93\n",
            "R^2: 0.63\n"
          ]
        }
      ]
    },
    {
      "cell_type": "code",
      "source": [
        "plot.scatter(X_test, y_test, color = 'red')\n",
        "plot.plot(X_test, y_poly_pred, color = 'blue')\n",
        "plot.title('Real Vs Predecido (Polinomial)')\n",
        "plot.xlabel('Number of Units')\n",
        "plot.ylabel('Manufacturing Cost')\n",
        "plot.show()"
      ],
      "metadata": {
        "colab": {
          "base_uri": "https://localhost:8080/",
          "height": 295
        },
        "id": "40ydgG3ZQoNx",
        "outputId": "51fc5352-3314-4d1a-f07a-af5a5871c761"
      },
      "execution_count": 59,
      "outputs": [
        {
          "output_type": "display_data",
          "data": {
            "text/plain": [
              "<Figure size 432x288 with 1 Axes>"
            ],
            "image/png": "[encoded data removed]"
          },
          "metadata": {
            "needs_background": "light"
          }
        }
      ]
    },
    {
      "cell_type": "markdown",
      "source": [
        "<h3>Ridge and Lasso Regression</h3>"
      ],
      "metadata": {
        "id": "9XuocbFTYGcS"
      }
    },
    {
      "cell_type": "code",
      "source": [
        "from sklearn.linear_model import Ridge, RidgeCV, Lasso\n",
        "\n",
        "#Modelo Ridge Regression \n",
        "ridgeReg = Ridge(alpha=10)\n",
        "\n",
        "ridgeReg.fit(X_train,y_train)\n",
        "\n",
        "#train and test scorefor ridge regression\n",
        "train_score_ridge = ridgeReg.score(X_train, y_train)\n",
        "test_score_ridge = ridgeReg.score(X_test, y_test)\n",
        "y_pred = ridgeReg.predict(X_test)\n",
        "\n",
        "print(\"\\nModelo Ridge ............................................\\n\")\n",
        "print('Coeficiente de la ecuacion: {}'.format(ridgeReg.coef_))\n",
        "print('Interseccion de la ecuacion: {}'.format(ridgeReg.intercept_))\n",
        "print(\"\\n\")\n",
        "\n",
        "\n",
        "print(\"El valor de entrenamiento para ridge es {}\".format(train_score_ridge))\n",
        "print(\"El valor de prueba para ridge es {}\".format(test_score_ridge))"
      ],
      "metadata": {
        "colab": {
          "base_uri": "https://localhost:8080/"
        },
        "id": "2CpVpkqxYL0Q",
        "outputId": "1ea32822-b710-44ac-c4d2-16f05d63f629"
      },
      "execution_count": 60,
      "outputs": [
        {
          "output_type": "stream",
          "name": "stdout",
          "text": [
            "\n",
            "Modelo Ridge ............................................\n",
            "\n",
            "Coeficiente de la ecuacion: [[-6.17811641]]\n",
            "Interseccion de la ecuacion: [67.67536193]\n",
            "\n",
            "\n",
            "El valor de entrenamiento para ridge es 0.5773917472599517\n",
            "El valor de prueba para ridge es 0.5832526783114598\n"
          ]
        }
      ]
    },
    {
      "cell_type": "code",
      "source": [
        "mae = mean_absolute_error(y_test, y_pred)\n",
        "mse = mean_squared_error(y_test, y_pred)\n",
        "rmse = np.sqrt(mse)\n",
        "r2 = r2_score(y_test, y_pred)\n",
        "print(f'Mean absolute error: {mae:.2f}')\n",
        "print(f'Mean squared error: {mse:.2f}')\n",
        "print(f'Root mean squared error: {rmse:.2f}')\n",
        "print(f'R^2: {r2:.2f}')"
      ],
      "metadata": {
        "colab": {
          "base_uri": "https://localhost:8080/"
        },
        "id": "Pkd0OxFBi6JG",
        "outputId": "28c88962-e3d2-4feb-e5d4-1721678a2307"
      },
      "execution_count": 61,
      "outputs": [
        {
          "output_type": "stream",
          "name": "stdout",
          "text": [
            "Mean absolute error: 4.72\n",
            "Mean squared error: 39.77\n",
            "Root mean squared error: 6.31\n",
            "R^2: 0.58\n"
          ]
        }
      ]
    },
    {
      "cell_type": "code",
      "source": [
        "plot.scatter(X_test, y_test, color = 'red')\n",
        "plot.plot(X_test, y_pred, color = 'blue')\n",
        "plot.title('Real Vs Predecido (Polinomial)')\n",
        "plot.xlabel('Number of Units')\n",
        "plot.ylabel('Manufacturing Cost')\n",
        "plot.show()"
      ],
      "metadata": {
        "colab": {
          "base_uri": "https://localhost:8080/",
          "height": 295
        },
        "id": "JQTRTcawkAfK",
        "outputId": "14cc51f4-3b6e-4cb8-ba52-1bc15a7100bd"
      },
      "execution_count": 62,
      "outputs": [
        {
          "output_type": "display_data",
          "data": {
            "text/plain": [
              "<Figure size 432x288 with 1 Axes>"
            ],
            "image/png": "[encoded data removed]"
          },
          "metadata": {
            "needs_background": "light"
          }
        }
      ]
    },
    {
      "cell_type": "code",
      "source": [
        "#Lasso regression model\n",
        "print(\"\\nModelo Lasso............................................\\n\")\n",
        "lasso = Lasso(alpha = 10)\n",
        "lasso.fit(X_train,y_train)\n",
        "train_score_ls =lasso.score(X_train,y_train)\n",
        "test_score_ls =lasso.score(X_test,y_test)\n",
        "y_pred = lasso.predict(X_test)\n",
        "\n",
        "print(\"\\nModelo Ridge ............................................\\n\")\n",
        "print('Coeficiente de la ecuacion: {}'.format(lasso.coef_))\n",
        "print('Interseccion de la ecuacion: {}'.format(lasso.intercept_))\n",
        "print(\"\\n\")\n",
        "\n",
        "print(\"El valor de entrenamiento para Lasso es  {}\".format(train_score_ls))\n",
        "print(\"El valor de prueba para Lasso es  {}\".format(test_score_ls))"
      ],
      "metadata": {
        "colab": {
          "base_uri": "https://localhost:8080/"
        },
        "id": "T557NeHfahTQ",
        "outputId": "17c1a4d6-387a-40be-ff46-70aa1690bd3d"
      },
      "execution_count": 63,
      "outputs": [
        {
          "output_type": "stream",
          "name": "stdout",
          "text": [
            "\n",
            "Modelo Lasso............................................\n",
            "\n",
            "\n",
            "Modelo Ridge ............................................\n",
            "\n",
            "Coeficiente de la ecuacion: [-0.5239936]\n",
            "Interseccion de la ecuacion: [42.41235616]\n",
            "\n",
            "\n",
            "El valor de entrenamiento para Lasso es  0.09311771941960012\n",
            "El valor de prueba para Lasso es  0.10755887340772496\n"
          ]
        }
      ]
    },
    {
      "cell_type": "code",
      "source": [
        "mae = mean_absolute_error(y_test, y_pred)\n",
        "mse = mean_squared_error(y_test, y_pred)\n",
        "rmse = np.sqrt(mse)\n",
        "r2 = r2_score(y_test, y_pred)\n",
        "print(f'Mean absolute error: {mae:.2f}')\n",
        "print(f'Mean squared error: {mse:.2f}')\n",
        "print(f'Root mean squared error: {rmse:.2f}')\n",
        "print(f'R^2: {r2:.2f}')"
      ],
      "metadata": {
        "colab": {
          "base_uri": "https://localhost:8080/"
        },
        "id": "odsLuEahjLDm",
        "outputId": "9b7e4acc-c8c7-4368-8916-1853f4235092"
      },
      "execution_count": 64,
      "outputs": [
        {
          "output_type": "stream",
          "name": "stdout",
          "text": [
            "Mean absolute error: 6.78\n",
            "Mean squared error: 85.18\n",
            "Root mean squared error: 9.23\n",
            "R^2: 0.11\n"
          ]
        }
      ]
    },
    {
      "cell_type": "code",
      "source": [
        "plot.scatter(X_test, y_test, color = 'red')\n",
        "plot.plot(X_test, y_pred, color = 'blue')\n",
        "plot.title('Real Vs Predecido (Polinomial)')\n",
        "plot.xlabel('Number of Units')\n",
        "plot.ylabel('Manufacturing Cost')\n",
        "plot.show()"
      ],
      "metadata": {
        "colab": {
          "base_uri": "https://localhost:8080/",
          "height": 295
        },
        "id": "HG4ynZ0ij7CW",
        "outputId": "74313db1-ec6a-42db-cdc0-0c9ad7a53feb"
      },
      "execution_count": 65,
      "outputs": [
        {
          "output_type": "display_data",
          "data": {
            "text/plain": [
              "<Figure size 432x288 with 1 Axes>"
            ],
            "image/png": "[encoded data removed]"
          },
          "metadata": {
            "needs_background": "light"
          }
        }
      ]
    },
    {
      "cell_type": "markdown",
      "source": [
        "<h3>Concluisiones:</h3>\n",
        "<p>Utilizamos 25% para los datos de prueba<p>\n",
        "<p>El modelo que conviene usar para esta base de datos es una regresion polinomial de grado 2. Todas las medidas de error se ven reducidas con este metodo y la R^2 es mas cercana a 1.</p>\n",
        "<p>Ademas los metodos de Ridge y Lasso no son necesarios en este caso ya que tenemos suficientes instancias para entrenar a los modelos.</p>"
      ],
      "metadata": {
        "id": "50XWk3XcjQYO"
      }
    },
    {
      "cell_type": "markdown",
      "source": [
        "<h2>Ejercicio 2</h2>\n",
        "<h3>Regresion Multiple</h3>\n",
        "<p>Con los datos de las casas</p>"
      ],
      "metadata": {
        "id": "yKG_cCq-ZN-P"
      }
    },
    {
      "cell_type": "code",
      "source": [
        "#importamos la base de datos\n",
        "df = pd.read_csv('https://raw.githubusercontent.com/marypazrf/bdd/main/kc_house_data.csv')\n",
        "\n",
        "#Informacion general de los datos\n",
        "print(df.info())\n",
        "\n",
        "#Revisamos la cantidad de datos nulos que tenemos\n",
        "print(df.isnull().sum())\n",
        "\n",
        "#Revisamos la organizacion de los datos\n",
        "df.head()\n",
        "\n"
      ],
      "metadata": {
        "id": "nM2GzdvxZay9",
        "outputId": "b14d591a-9fea-4afb-cb7c-2bddf3b15808",
        "colab": {
          "base_uri": "https://localhost:8080/",
          "height": 1000
        }
      },
      "execution_count": 66,
      "outputs": [
        {
          "output_type": "stream",
          "name": "stdout",
          "text": [
            "<class 'pandas.core.frame.DataFrame'>\n",
            "RangeIndex: 21613 entries, 0 to 21612\n",
            "Data columns (total 21 columns):\n",
            " #   Column         Non-Null Count  Dtype  \n",
            "---  ------         --------------  -----  \n",
            " 0   id             21613 non-null  int64  \n",
            " 1   date           21613 non-null  object \n",
            " 2   price          21613 non-null  float64\n",
            " 3   bedrooms       21613 non-null  int64  \n",
            " 4   bathrooms      21613 non-null  float64\n",
            " 5   sqft_living    21613 non-null  int64  \n",
            " 6   sqft_lot       21613 non-null  int64  \n",
            " 7   floors         21613 non-null  float64\n",
            " 8   waterfront     21613 non-null  int64  \n",
            " 9   view           21613 non-null  int64  \n",
            " 10  condition      21613 non-null  int64  \n",
            " 11  grade          21613 non-null  int64  \n",
            " 12  sqft_above     21613 non-null  int64  \n",
            " 13  sqft_basement  21613 non-null  int64  \n",
            " 14  yr_built       21613 non-null  int64  \n",
            " 15  yr_renovated   21613 non-null  int64  \n",
            " 16  zipcode        21613 non-null  int64  \n",
            " 17  lat            21613 non-null  float64\n",
            " 18  long           21613 non-null  float64\n",
            " 19  sqft_living15  21613 non-null  int64  \n",
            " 20  sqft_lot15     21613 non-null  int64  \n",
            "dtypes: float64(5), int64(15), object(1)\n",
            "memory usage: 3.5+ MB\n",
            "None\n",
            "id               0\n",
            "date             0\n",
            "price            0\n",
            "bedrooms         0\n",
            "bathrooms        0\n",
            "sqft_living      0\n",
            "sqft_lot         0\n",
            "floors           0\n",
            "waterfront       0\n",
            "view             0\n",
            "condition        0\n",
            "grade            0\n",
            "sqft_above       0\n",
            "sqft_basement    0\n",
            "yr_built         0\n",
            "yr_renovated     0\n",
            "zipcode          0\n",
            "lat              0\n",
            "long             0\n",
            "sqft_living15    0\n",
            "sqft_lot15       0\n",
            "dtype: int64\n"
          ]
        },
        {
          "output_type": "execute_result",
          "data": {
            "text/plain": [
              "           id             date     price  bedrooms  bathrooms  sqft_living  \\\n",
              "0  7129300520  20141013T000000  221900.0         3       1.00         1180   \n",
              "1  6414100192  20141209T000000  538000.0         3       2.25         2570   \n",
              "2  5631500400  20150225T000000  180000.0         2       1.00          770   \n",
              "3  2487200875  20141209T000000  604000.0         4       3.00         1960   \n",
              "4  1954400510  20150218T000000  510000.0         3       2.00         1680   \n",
              "\n",
              "   sqft_lot  floors  waterfront  view  ...  grade  sqft_above  sqft_basement  \\\n",
              "0      5650     1.0           0     0  ...      7        1180              0   \n",
              "1      7242     2.0           0     0  ...      7        2170            400   \n",
              "2     10000     1.0           0     0  ...      6         770              0   \n",
              "3      5000     1.0           0     0  ...      7        1050            910   \n",
              "4      8080     1.0           0     0  ...      8        1680              0   \n",
              "\n",
              "   yr_built  yr_renovated  zipcode      lat     long  sqft_living15  \\\n",
              "0      1955             0    98178  47.5112 -122.257           1340   \n",
              "1      1951          1991    98125  47.7210 -122.319           1690   \n",
              "2      1933             0    98028  47.7379 -122.233           2720   \n",
              "3      1965             0    98136  47.5208 -122.393           1360   \n",
              "4      1987             0    98074  47.6168 -122.045           1800   \n",
              "\n",
              "   sqft_lot15  \n",
              "0        5650  \n",
              "1        7639  \n",
              "2        8062  \n",
              "3        5000  \n",
              "4        7503  \n",
              "\n",
              "[5 rows x 21 columns]"
            ],
            "text/html": [
              "\n",
              "  <div id=\"df-759ddc16-68df-4f6e-925a-2fd814b75a9f\">\n",
              "    <div class=\"colab-df-container\">\n",
              "      <div>\n",
              "<style scoped>\n",
              "    .dataframe tbody tr th:only-of-type {\n",
              "        vertical-align: middle;\n",
              "    }\n",
              "\n",
              "    .dataframe tbody tr th {\n",
              "        vertical-align: top;\n",
              "    }\n",
              "\n",
              "    .dataframe thead th {\n",
              "        text-align: right;\n",
              "    }\n",
              "</style>\n",
              "<table border=\"1\" class=\"dataframe\">\n",
              "  <thead>\n",
              "    <tr style=\"text-align: right;\">\n",
              "      <th></th>\n",
              "      <th>id</th>\n",
              "      <th>date</th>\n",
              "      <th>price</th>\n",
              "      <th>bedrooms</th>\n",
              "      <th>bathrooms</th>\n",
              "      <th>sqft_living</th>\n",
              "      <th>sqft_lot</th>\n",
              "      <th>floors</th>\n",
              "      <th>waterfront</th>\n",
              "      <th>view</th>\n",
              "      <th>...</th>\n",
              "      <th>grade</th>\n",
              "      <th>sqft_above</th>\n",
              "      <th>sqft_basement</th>\n",
              "      <th>yr_built</th>\n",
              "      <th>yr_renovated</th>\n",
              "      <th>zipcode</th>\n",
              "      <th>lat</th>\n",
              "      <th>long</th>\n",
              "      <th>sqft_living15</th>\n",
              "      <th>sqft_lot15</th>\n",
              "    </tr>\n",
              "  </thead>\n",
              "  <tbody>\n",
              "    <tr>\n",
              "      <th>0</th>\n",
              "      <td>7129300520</td>\n",
              "      <td>20141013T000000</td>\n",
              "      <td>221900.0</td>\n",
              "      <td>3</td>\n",
              "      <td>1.00</td>\n",
              "      <td>1180</td>\n",
              "      <td>5650</td>\n",
              "      <td>1.0</td>\n",
              "      <td>0</td>\n",
              "      <td>0</td>\n",
              "      <td>...</td>\n",
              "      <td>7</td>\n",
              "      <td>1180</td>\n",
              "      <td>0</td>\n",
              "      <td>1955</td>\n",
              "      <td>0</td>\n",
              "      <td>98178</td>\n",
              "      <td>47.5112</td>\n",
              "      <td>-122.257</td>\n",
              "      <td>1340</td>\n",
              "      <td>5650</td>\n",
              "    </tr>\n",
              "    <tr>\n",
              "      <th>1</th>\n",
              "      <td>6414100192</td>\n",
              "      <td>20141209T000000</td>\n",
              "      <td>538000.0</td>\n",
              "      <td>3</td>\n",
              "      <td>2.25</td>\n",
              "      <td>2570</td>\n",
              "      <td>7242</td>\n",
              "      <td>2.0</td>\n",
              "      <td>0</td>\n",
              "      <td>0</td>\n",
              "      <td>...</td>\n",
              "      <td>7</td>\n",
              "      <td>2170</td>\n",
              "      <td>400</td>\n",
              "      <td>1951</td>\n",
              "      <td>1991</td>\n",
              "      <td>98125</td>\n",
              "      <td>47.7210</td>\n",
              "      <td>-122.319</td>\n",
              "      <td>1690</td>\n",
              "      <td>7639</td>\n",
              "    </tr>\n",
              "    <tr>\n",
              "      <th>2</th>\n",
              "      <td>5631500400</td>\n",
              "      <td>20150225T000000</td>\n",
              "      <td>180000.0</td>\n",
              "      <td>2</td>\n",
              "      <td>1.00</td>\n",
              "      <td>770</td>\n",
              "      <td>10000</td>\n",
              "      <td>1.0</td>\n",
              "      <td>0</td>\n",
              "      <td>0</td>\n",
              "      <td>...</td>\n",
              "      <td>6</td>\n",
              "      <td>770</td>\n",
              "      <td>0</td>\n",
              "      <td>1933</td>\n",
              "      <td>0</td>\n",
              "      <td>98028</td>\n",
              "      <td>47.7379</td>\n",
              "      <td>-122.233</td>\n",
              "      <td>2720</td>\n",
              "      <td>8062</td>\n",
              "    </tr>\n",
              "    <tr>\n",
              "      <th>3</th>\n",
              "      <td>2487200875</td>\n",
              "      <td>20141209T000000</td>\n",
              "      <td>604000.0</td>\n",
              "      <td>4</td>\n",
              "      <td>3.00</td>\n",
              "      <td>1960</td>\n",
              "      <td>5000</td>\n",
              "      <td>1.0</td>\n",
              "      <td>0</td>\n",
              "      <td>0</td>\n",
              "      <td>...</td>\n",
              "      <td>7</td>\n",
              "      <td>1050</td>\n",
              "      <td>910</td>\n",
              "      <td>1965</td>\n",
              "      <td>0</td>\n",
              "      <td>98136</td>\n",
              "      <td>47.5208</td>\n",
              "      <td>-122.393</td>\n",
              "      <td>1360</td>\n",
              "      <td>5000</td>\n",
              "    </tr>\n",
              "    <tr>\n",
              "      <th>4</th>\n",
              "      <td>1954400510</td>\n",
              "      <td>20150218T000000</td>\n",
              "      <td>510000.0</td>\n",
              "      <td>3</td>\n",
              "      <td>2.00</td>\n",
              "      <td>1680</td>\n",
              "      <td>8080</td>\n",
              "      <td>1.0</td>\n",
              "      <td>0</td>\n",
              "      <td>0</td>\n",
              "      <td>...</td>\n",
              "      <td>8</td>\n",
              "      <td>1680</td>\n",
              "      <td>0</td>\n",
              "      <td>1987</td>\n",
              "      <td>0</td>\n",
              "      <td>98074</td>\n",
              "      <td>47.6168</td>\n",
              "      <td>-122.045</td>\n",
              "      <td>1800</td>\n",
              "      <td>7503</td>\n",
              "    </tr>\n",
              "  </tbody>\n",
              "</table>\n",
              "<p>5 rows × 21 columns</p>\n",
              "</div>\n",
              "      <button class=\"colab-df-convert\" onclick=\"convertToInteractive('df-759ddc16-68df-4f6e-925a-2fd814b75a9f')\"\n",
              "              title=\"Convert this dataframe to an interactive table.\"\n",
              "              style=\"display:none;\">\n",
              "        \n",
              "  <svg xmlns=\"http://www.w3.org/2000/svg\" height=\"24px\"viewBox=\"0 0 24 24\"\n",
              "       width=\"24px\">\n",
              "    <path d=\"M0 0h24v24H0V0z\" fill=\"none\"/>\n",
              "    <path d=\"M18.56 5.44l.94 2.06.94-2.06 2.06-.94-2.06-.94-.94-2.06-.94 2.06-2.06.94zm-11 1L8.5 8.5l.94-2.06 2.06-.94-2.06-.94L8.5 2.5l-.94 2.06-2.06.94zm10 10l.94 2.06.94-2.06 2.06-.94-2.06-.94-.94-2.06-.94 2.06-2.06.94z\"/><path d=\"M17.41 7.96l-1.37-1.37c-.4-.4-.92-.59-1.43-.59-.52 0-1.04.2-1.43.59L10.3 9.45l-7.72 7.72c-.78.78-.78 2.05 0 2.83L4 21.41c.39.39.9.59 1.41.59.51 0 1.02-.2 1.41-.59l7.78-7.78 2.81-2.81c.8-.78.8-2.07 0-2.86zM5.41 20L4 18.59l7.72-7.72 1.47 1.35L5.41 20z\"/>\n",
              "  </svg>\n",
              "      </button>\n",
              "      \n",
              "  <style>\n",
              "    .colab-df-container {\n",
              "      display:flex;\n",
              "      flex-wrap:wrap;\n",
              "      gap: 12px;\n",
              "    }\n",
              "\n",
              "    .colab-df-convert {\n",
              "      background-color: #E8F0FE;\n",
              "      border: none;\n",
              "      border-radius: 50%;\n",
              "      cursor: pointer;\n",
              "      display: none;\n",
              "      fill: #1967D2;\n",
              "      height: 32px;\n",
              "      padding: 0 0 0 0;\n",
              "      width: 32px;\n",
              "    }\n",
              "\n",
              "    .colab-df-convert:hover {\n",
              "      background-color: #E2EBFA;\n",
              "      box-shadow: 0px 1px 2px rgba(60, 64, 67, 0.3), 0px 1px 3px 1px rgba(60, 64, 67, 0.15);\n",
              "      fill: #174EA6;\n",
              "    }\n",
              "\n",
              "    [theme=dark] .colab-df-convert {\n",
              "      background-color: #3B4455;\n",
              "      fill: #D2E3FC;\n",
              "    }\n",
              "\n",
              "    [theme=dark] .colab-df-convert:hover {\n",
              "      background-color: #434B5C;\n",
              "      box-shadow: 0px 1px 3px 1px rgba(0, 0, 0, 0.15);\n",
              "      filter: drop-shadow(0px 1px 2px rgba(0, 0, 0, 0.3));\n",
              "      fill: #FFFFFF;\n",
              "    }\n",
              "  </style>\n",
              "\n",
              "      <script>\n",
              "        const buttonEl =\n",
              "          document.querySelector('#df-759ddc16-68df-4f6e-925a-2fd814b75a9f button.colab-df-convert');\n",
              "        buttonEl.style.display =\n",
              "          google.colab.kernel.accessAllowed ? 'block' : 'none';\n",
              "\n",
              "        async function convertToInteractive(key) {\n",
              "          const element = document.querySelector('#df-759ddc16-68df-4f6e-925a-2fd814b75a9f');\n",
              "          const dataTable =\n",
              "            await google.colab.kernel.invokeFunction('convertToInteractive',\n",
              "                                                     [key], {});\n",
              "          if (!dataTable) return;\n",
              "\n",
              "          const docLinkHtml = 'Like what you see? Visit the ' +\n",
              "            '<a target=\"_blank\" href=https://colab.research.google.com/notebooks/data_table.ipynb>data table notebook</a>'\n",
              "            + ' to learn more about interactive tables.';\n",
              "          element.innerHTML = '';\n",
              "          dataTable['output_type'] = 'display_data';\n",
              "          await google.colab.output.renderOutput(dataTable, element);\n",
              "          const docLink = document.createElement('div');\n",
              "          docLink.innerHTML = docLinkHtml;\n",
              "          element.appendChild(docLink);\n",
              "        }\n",
              "      </script>\n",
              "    </div>\n",
              "  </div>\n",
              "  "
            ]
          },
          "metadata": {},
          "execution_count": 66
        }
      ]
    },
    {
      "cell_type": "markdown",
      "source": [
        "<p>Limpieza de datos</p>"
      ],
      "metadata": {
        "id": "He4o3sB4eM7W"
      }
    },
    {
      "cell_type": "code",
      "source": [
        "#Removemos manualmente los datos categoricos que no nos ayudaran en nuestras regresiones\n",
        "\n",
        "#Date es inecesario para este caso\n",
        "df.drop('date', inplace=True, axis=1)\n",
        "\n",
        "#zipcode no tiene una logica lineal y es mas bien un dato categorico que tendria que ser analizado de otra manera\n",
        "df.drop('zipcode', inplace=True, axis=1)\n",
        "\n",
        "#igualmente lat\n",
        "df.drop('lat', inplace=True, axis=1)\n",
        "\n",
        "#y long\n",
        "df.drop('long', inplace=True, axis=1)\n",
        "\n",
        "#El id no aporta informacion\n",
        "df.drop('id', inplace=True, axis=1)\n",
        "\n",
        "#Podemos quedarnos con sqft_living15 \n",
        "df.drop('sqft_living', inplace=True, axis=1)\n",
        "\n",
        "#y tambien con sqft_lot15\n",
        "df.drop('sqft_lot', inplace=True, axis=1)\n",
        "\n",
        "df.head()"
      ],
      "metadata": {
        "id": "H3JsQFX-coUa",
        "outputId": "d2743ee5-c6fd-4c7d-a260-aa413a113800",
        "colab": {
          "base_uri": "https://localhost:8080/",
          "height": 270
        }
      },
      "execution_count": 67,
      "outputs": [
        {
          "output_type": "execute_result",
          "data": {
            "text/plain": [
              "      price  bedrooms  bathrooms  floors  waterfront  view  condition  grade  \\\n",
              "0  221900.0         3       1.00     1.0           0     0          3      7   \n",
              "1  538000.0         3       2.25     2.0           0     0          3      7   \n",
              "2  180000.0         2       1.00     1.0           0     0          3      6   \n",
              "3  604000.0         4       3.00     1.0           0     0          5      7   \n",
              "4  510000.0         3       2.00     1.0           0     0          3      8   \n",
              "\n",
              "   sqft_above  sqft_basement  yr_built  yr_renovated  sqft_living15  \\\n",
              "0        1180              0      1955             0           1340   \n",
              "1        2170            400      1951          1991           1690   \n",
              "2         770              0      1933             0           2720   \n",
              "3        1050            910      1965             0           1360   \n",
              "4        1680              0      1987             0           1800   \n",
              "\n",
              "   sqft_lot15  \n",
              "0        5650  \n",
              "1        7639  \n",
              "2        8062  \n",
              "3        5000  \n",
              "4        7503  "
            ],
            "text/html": [
              "\n",
              "  <div id=\"df-f66ca350-077f-4407-9ed2-2821612e42bb\">\n",
              "    <div class=\"colab-df-container\">\n",
              "      <div>\n",
              "<style scoped>\n",
              "    .dataframe tbody tr th:only-of-type {\n",
              "        vertical-align: middle;\n",
              "    }\n",
              "\n",
              "    .dataframe tbody tr th {\n",
              "        vertical-align: top;\n",
              "    }\n",
              "\n",
              "    .dataframe thead th {\n",
              "        text-align: right;\n",
              "    }\n",
              "</style>\n",
              "<table border=\"1\" class=\"dataframe\">\n",
              "  <thead>\n",
              "    <tr style=\"text-align: right;\">\n",
              "      <th></th>\n",
              "      <th>price</th>\n",
              "      <th>bedrooms</th>\n",
              "      <th>bathrooms</th>\n",
              "      <th>floors</th>\n",
              "      <th>waterfront</th>\n",
              "      <th>view</th>\n",
              "      <th>condition</th>\n",
              "      <th>grade</th>\n",
              "      <th>sqft_above</th>\n",
              "      <th>sqft_basement</th>\n",
              "      <th>yr_built</th>\n",
              "      <th>yr_renovated</th>\n",
              "      <th>sqft_living15</th>\n",
              "      <th>sqft_lot15</th>\n",
              "    </tr>\n",
              "  </thead>\n",
              "  <tbody>\n",
              "    <tr>\n",
              "      <th>0</th>\n",
              "      <td>221900.0</td>\n",
              "      <td>3</td>\n",
              "      <td>1.00</td>\n",
              "      <td>1.0</td>\n",
              "      <td>0</td>\n",
              "      <td>0</td>\n",
              "      <td>3</td>\n",
              "      <td>7</td>\n",
              "      <td>1180</td>\n",
              "      <td>0</td>\n",
              "      <td>1955</td>\n",
              "      <td>0</td>\n",
              "      <td>1340</td>\n",
              "      <td>5650</td>\n",
              "    </tr>\n",
              "    <tr>\n",
              "      <th>1</th>\n",
              "      <td>538000.0</td>\n",
              "      <td>3</td>\n",
              "      <td>2.25</td>\n",
              "      <td>2.0</td>\n",
              "      <td>0</td>\n",
              "      <td>0</td>\n",
              "      <td>3</td>\n",
              "      <td>7</td>\n",
              "      <td>2170</td>\n",
              "      <td>400</td>\n",
              "      <td>1951</td>\n",
              "      <td>1991</td>\n",
              "      <td>1690</td>\n",
              "      <td>7639</td>\n",
              "    </tr>\n",
              "    <tr>\n",
              "      <th>2</th>\n",
              "      <td>180000.0</td>\n",
              "      <td>2</td>\n",
              "      <td>1.00</td>\n",
              "      <td>1.0</td>\n",
              "      <td>0</td>\n",
              "      <td>0</td>\n",
              "      <td>3</td>\n",
              "      <td>6</td>\n",
              "      <td>770</td>\n",
              "      <td>0</td>\n",
              "      <td>1933</td>\n",
              "      <td>0</td>\n",
              "      <td>2720</td>\n",
              "      <td>8062</td>\n",
              "    </tr>\n",
              "    <tr>\n",
              "      <th>3</th>\n",
              "      <td>604000.0</td>\n",
              "      <td>4</td>\n",
              "      <td>3.00</td>\n",
              "      <td>1.0</td>\n",
              "      <td>0</td>\n",
              "      <td>0</td>\n",
              "      <td>5</td>\n",
              "      <td>7</td>\n",
              "      <td>1050</td>\n",
              "      <td>910</td>\n",
              "      <td>1965</td>\n",
              "      <td>0</td>\n",
              "      <td>1360</td>\n",
              "      <td>5000</td>\n",
              "    </tr>\n",
              "    <tr>\n",
              "      <th>4</th>\n",
              "      <td>510000.0</td>\n",
              "      <td>3</td>\n",
              "      <td>2.00</td>\n",
              "      <td>1.0</td>\n",
              "      <td>0</td>\n",
              "      <td>0</td>\n",
              "      <td>3</td>\n",
              "      <td>8</td>\n",
              "      <td>1680</td>\n",
              "      <td>0</td>\n",
              "      <td>1987</td>\n",
              "      <td>0</td>\n",
              "      <td>1800</td>\n",
              "      <td>7503</td>\n",
              "    </tr>\n",
              "  </tbody>\n",
              "</table>\n",
              "</div>\n",
              "      <button class=\"colab-df-convert\" onclick=\"convertToInteractive('df-f66ca350-077f-4407-9ed2-2821612e42bb')\"\n",
              "              title=\"Convert this dataframe to an interactive table.\"\n",
              "              style=\"display:none;\">\n",
              "        \n",
              "  <svg xmlns=\"http://www.w3.org/2000/svg\" height=\"24px\"viewBox=\"0 0 24 24\"\n",
              "       width=\"24px\">\n",
              "    <path d=\"M0 0h24v24H0V0z\" fill=\"none\"/>\n",
              "    <path d=\"M18.56 5.44l.94 2.06.94-2.06 2.06-.94-2.06-.94-.94-2.06-.94 2.06-2.06.94zm-11 1L8.5 8.5l.94-2.06 2.06-.94-2.06-.94L8.5 2.5l-.94 2.06-2.06.94zm10 10l.94 2.06.94-2.06 2.06-.94-2.06-.94-.94-2.06-.94 2.06-2.06.94z\"/><path d=\"M17.41 7.96l-1.37-1.37c-.4-.4-.92-.59-1.43-.59-.52 0-1.04.2-1.43.59L10.3 9.45l-7.72 7.72c-.78.78-.78 2.05 0 2.83L4 21.41c.39.39.9.59 1.41.59.51 0 1.02-.2 1.41-.59l7.78-7.78 2.81-2.81c.8-.78.8-2.07 0-2.86zM5.41 20L4 18.59l7.72-7.72 1.47 1.35L5.41 20z\"/>\n",
              "  </svg>\n",
              "      </button>\n",
              "      \n",
              "  <style>\n",
              "    .colab-df-container {\n",
              "      display:flex;\n",
              "      flex-wrap:wrap;\n",
              "      gap: 12px;\n",
              "    }\n",
              "\n",
              "    .colab-df-convert {\n",
              "      background-color: #E8F0FE;\n",
              "      border: none;\n",
              "      border-radius: 50%;\n",
              "      cursor: pointer;\n",
              "      display: none;\n",
              "      fill: #1967D2;\n",
              "      height: 32px;\n",
              "      padding: 0 0 0 0;\n",
              "      width: 32px;\n",
              "    }\n",
              "\n",
              "    .colab-df-convert:hover {\n",
              "      background-color: #E2EBFA;\n",
              "      box-shadow: 0px 1px 2px rgba(60, 64, 67, 0.3), 0px 1px 3px 1px rgba(60, 64, 67, 0.15);\n",
              "      fill: #174EA6;\n",
              "    }\n",
              "\n",
              "    [theme=dark] .colab-df-convert {\n",
              "      background-color: #3B4455;\n",
              "      fill: #D2E3FC;\n",
              "    }\n",
              "\n",
              "    [theme=dark] .colab-df-convert:hover {\n",
              "      background-color: #434B5C;\n",
              "      box-shadow: 0px 1px 3px 1px rgba(0, 0, 0, 0.15);\n",
              "      filter: drop-shadow(0px 1px 2px rgba(0, 0, 0, 0.3));\n",
              "      fill: #FFFFFF;\n",
              "    }\n",
              "  </style>\n",
              "\n",
              "      <script>\n",
              "        const buttonEl =\n",
              "          document.querySelector('#df-f66ca350-077f-4407-9ed2-2821612e42bb button.colab-df-convert');\n",
              "        buttonEl.style.display =\n",
              "          google.colab.kernel.accessAllowed ? 'block' : 'none';\n",
              "\n",
              "        async function convertToInteractive(key) {\n",
              "          const element = document.querySelector('#df-f66ca350-077f-4407-9ed2-2821612e42bb');\n",
              "          const dataTable =\n",
              "            await google.colab.kernel.invokeFunction('convertToInteractive',\n",
              "                                                     [key], {});\n",
              "          if (!dataTable) return;\n",
              "\n",
              "          const docLinkHtml = 'Like what you see? Visit the ' +\n",
              "            '<a target=\"_blank\" href=https://colab.research.google.com/notebooks/data_table.ipynb>data table notebook</a>'\n",
              "            + ' to learn more about interactive tables.';\n",
              "          element.innerHTML = '';\n",
              "          dataTable['output_type'] = 'display_data';\n",
              "          await google.colab.output.renderOutput(dataTable, element);\n",
              "          const docLink = document.createElement('div');\n",
              "          docLink.innerHTML = docLinkHtml;\n",
              "          element.appendChild(docLink);\n",
              "        }\n",
              "      </script>\n",
              "    </div>\n",
              "  </div>\n",
              "  "
            ]
          },
          "metadata": {},
          "execution_count": 67
        }
      ]
    },
    {
      "cell_type": "code",
      "source": [
        "import seaborn as sns # Convention alias for Seaborn\n",
        "plot.figure(figsize = (16,5))\n",
        "\n",
        "correlations = df.corr()\n",
        "# annot=True displays the correlation values\n",
        "sns.heatmap(correlations, annot=True).set(title='Mapa de calor de correlacion entre variables');"
      ],
      "metadata": {
        "id": "LP1wyodRtf-0",
        "outputId": "ebdc90f2-5975-4027-c81a-76829bbc23ed",
        "colab": {
          "base_uri": "https://localhost:8080/",
          "height": 399
        }
      },
      "execution_count": 68,
      "outputs": [
        {
          "output_type": "display_data",
          "data": {
            "text/plain": [
              "<Figure size 1152x360 with 2 Axes>"
            ],
            "image/png": "[encoded data removed]"
          },
          "metadata": {
            "needs_background": "light"
          }
        }
      ]
    },
    {
      "cell_type": "markdown",
      "source": [
        "<p>Separamos los datos</p>"
      ],
      "metadata": {
        "id": "XbRcAr2vvBd5"
      }
    },
    {
      "cell_type": "code",
      "source": [
        "#Variable objetivo\n",
        "y = df['price']\n",
        "\n",
        "#Caracteristicas\n",
        "X = df[['bedrooms',\t'bathrooms',\t'floors',\t'waterfront',\t'view',\t'condition',\t'grade',\t'sqft_above',\t'sqft_basement',\t'yr_built',\t'yr_renovated',\t'sqft_living15',\t'sqft_lot15']]\n",
        "\n",
        "#Separacion en training y testing\n",
        "X_train, X_test, y_train, y_test = train_test_split(X, y, \n",
        "                                                    random_state=SEED)\n",
        "#Regresion lineal multiple\n",
        "regressor = LinearRegression()\n",
        "regressor.fit(X_train, y_train)\n",
        "\n",
        "#Interseccion\n",
        "print(regressor.intercept_)\n",
        "\n",
        "#Coeficiente\n",
        "print(regressor.coef_)\n"
      ],
      "metadata": {
        "id": "3L7SbX7ouSMg",
        "outputId": "83287ca8-4476-41e6-a67f-fb7f139de0ea",
        "colab": {
          "base_uri": "https://localhost:8080/"
        }
      },
      "execution_count": 69,
      "outputs": [
        {
          "output_type": "stream",
          "name": "stdout",
          "text": [
            "6253192.638267014\n",
            "[-3.82339495e+04  4.78360292e+04  2.70676837e+04  5.51415627e+05\n",
            "  4.43392828e+04  1.58426520e+04  1.17722812e+05  1.58579904e+02\n",
            "  1.65360222e+02 -3.58808661e+03  1.35998036e+01  2.51893823e+01\n",
            " -5.42218324e-01]\n"
          ]
        }
      ]
    },
    {
      "cell_type": "markdown",
      "source": [
        "<p>Predicciones, errores y graficas</p>"
      ],
      "metadata": {
        "id": "Fny4SFZlzUq0"
      }
    },
    {
      "cell_type": "code",
      "source": [
        "y_pred = np.around(regressor.predict(X_test),2)\n",
        "results = pd.DataFrame({'Valor real': y_test, 'Prediccion': y_pred})\n",
        "print(results)"
      ],
      "metadata": {
        "id": "xNcHE0EmzT2D",
        "outputId": "680924aa-34d7-4540-cde2-86c268b8be40",
        "colab": {
          "base_uri": "https://localhost:8080/"
        }
      },
      "execution_count": 70,
      "outputs": [
        {
          "output_type": "stream",
          "name": "stdout",
          "text": [
            "       Valor real  Prediccion\n",
            "735      365000.0   525524.31\n",
            "2830     865000.0   683375.93\n",
            "4106    1038000.0  1225778.23\n",
            "16218   1490000.0  1586067.93\n",
            "19964    711000.0   687582.81\n",
            "...           ...         ...\n",
            "11144    650000.0   775030.42\n",
            "17803    705000.0   573294.25\n",
            "268      272500.0   553971.92\n",
            "518     2250000.0  1372884.69\n",
            "8482     330000.0   480205.98\n",
            "\n",
            "[5404 rows x 2 columns]\n"
          ]
        }
      ]
    },
    {
      "cell_type": "code",
      "source": [
        "#Errores\n",
        "mae = mean_absolute_error(y_test, y_pred)\n",
        "mse = mean_squared_error(y_test, y_pred)\n",
        "rmse = np.sqrt(mse)\n",
        "\n",
        "print(f'Mean absolute error: {mae:.2f}')\n",
        "print(f'Mean squared error: {mse:.2f}')\n",
        "print(f'Root mean squared error: {rmse:.2f}')\n",
        "\n",
        "#R cuadrada\n",
        "actual_minus_predicted = sum((y_test - y_pred)**2)\n",
        "actual_minus_actual_mean = sum((y_test - y_test.mean())**2)\n",
        "r2 = 1 - actual_minus_predicted/actual_minus_actual_mean\n",
        "print('R²:', r2)"
      ],
      "metadata": {
        "id": "SK7_nsnb0clA",
        "outputId": "aa286cd1-c73c-4510-dd2b-de08aa4d8b21",
        "colab": {
          "base_uri": "https://localhost:8080/"
        }
      },
      "execution_count": 71,
      "outputs": [
        {
          "output_type": "stream",
          "name": "stdout",
          "text": [
            "Mean absolute error: 142337.92\n",
            "Mean squared error: 51005030409.17\n",
            "Root mean squared error: 225842.93\n",
            "R²: 0.6590290764933266\n"
          ]
        }
      ]
    },
    {
      "cell_type": "markdown",
      "source": [
        "<h4>Multiple polonomial</h4>"
      ],
      "metadata": {
        "id": "3uCmV5xj0s4t"
      }
    },
    {
      "cell_type": "code",
      "source": [
        "degree=2\n",
        "\n",
        "#Creamos una nueva matriz con las combinaciones polinomiales de las caracteristicas. Con grados menores o igual a degree\n",
        "poly_model = PolynomialFeatures(degree=degree)\n",
        "\n",
        "# transformamos las caracteristicas\n",
        "poly_x_values = poly_model.fit_transform(X_train)\n",
        "\n",
        "# transformamos para los datos de prueba\n",
        "poly_x_values_test = poly_model.fit_transform(X_test)\n",
        "\n"
      ],
      "metadata": {
        "id": "eH0i19_o0qub"
      },
      "execution_count": 72,
      "outputs": []
    },
    {
      "cell_type": "code",
      "source": [
        "# Entrenamos el modelo\n",
        "poly_model.fit(poly_x_values, y_train)\n",
        "\n",
        "regression_model = LinearRegression()\n",
        "\n",
        "regression_model.fit(poly_x_values, y_train)\n",
        "\n",
        "y_pred = regression_model.predict(poly_x_values_test)\n"
      ],
      "metadata": {
        "id": "y8Gp2DXv5GBv"
      },
      "execution_count": 73,
      "outputs": []
    },
    {
      "cell_type": "code",
      "source": [
        "#Errores\n",
        "mae = mean_absolute_error(y_test, y_pred)\n",
        "mse = mean_squared_error(y_test, y_pred)\n",
        "rmse = np.sqrt(mse)\n",
        "\n",
        "print(f'Mean absolute error: {mae:.2f}')\n",
        "print(f'Mean squared error: {mse:.2f}')\n",
        "print(f'Root mean squared error: {rmse:.2f}')\n",
        "\n",
        "#R cuadrada\n",
        "actual_minus_predicted = sum((y_test - y_pred)**2)\n",
        "actual_minus_actual_mean = sum((y_test - y_test.mean())**2)\n",
        "r2 = 1 - actual_minus_predicted/actual_minus_actual_mean\n",
        "print('R²:', r2)"
      ],
      "metadata": {
        "id": "hyJ6E-Od6s5y",
        "outputId": "b69a0fdf-e346-41e9-8c38-cd2116b253cb",
        "colab": {
          "base_uri": "https://localhost:8080/"
        }
      },
      "execution_count": 74,
      "outputs": [
        {
          "output_type": "stream",
          "name": "stdout",
          "text": [
            "Mean absolute error: 128692.20\n",
            "Mean squared error: 40466292367.08\n",
            "Root mean squared error: 201162.35\n",
            "R²: 0.7294810145468695\n"
          ]
        }
      ]
    },
    {
      "cell_type": "code",
      "source": [
        "number_degrees = [1,2,3,4]\n",
        "plt_mean_squared_error = []\n",
        "for degree in number_degrees:\n",
        "   poly_model = PolynomialFeatures(degree=degree)\n",
        "\n",
        "   poly_x_values = poly_model.fit_transform(X_train)\n",
        "\n",
        "   poly_model.fit(poly_x_values, y_train)\n",
        "\n",
        "   regression_model = LinearRegression()\n",
        "   regression_model.fit(poly_x_values, y_train)\n",
        "   poly_x_values_test = poly_model.fit_transform(X_test)\n",
        "   y_pred = regression_model.predict(poly_x_values_test)\n",
        "  \n",
        "   plt_mean_squared_error.append(mean_squared_error(y_test, y_pred, squared=False))\n",
        "  \n",
        "plot.scatter(number_degrees,plt_mean_squared_error, color=\"green\")\n",
        "plot.plot(number_degrees,plt_mean_squared_error, color=\"red\") "
      ],
      "metadata": {
        "id": "sHjvhDur63Jp",
        "outputId": "10031aed-74ce-40de-ce41-5cc74202f4f9",
        "colab": {
          "base_uri": "https://localhost:8080/",
          "height": 294
        }
      },
      "execution_count": 75,
      "outputs": [
        {
          "output_type": "execute_result",
          "data": {
            "text/plain": [
              "[<matplotlib.lines.Line2D at 0x7faee4232710>]"
            ]
          },
          "metadata": {},
          "execution_count": 75
        },
        {
          "output_type": "display_data",
          "data": {
            "text/plain": [
              "<Figure size 432x288 with 1 Axes>"
            ],
            "image/png": "[encoded data removed]"
          },
          "metadata": {
            "needs_background": "light"
          }
        }
      ]
    },
    {
      "cell_type": "markdown",
      "source": [
        "<h3>Ridge y Lasso</h3>"
      ],
      "metadata": {
        "id": "NA6hfFtR9WxD"
      }
    },
    {
      "cell_type": "code",
      "source": [
        "ridgeReg = Ridge(alpha=10)\n",
        "\n",
        "ridgeReg.fit(X_train,y_train)\n",
        "\n",
        "#train and test scorefor ridge regression\n",
        "train_score_ridge = ridgeReg.score(X_train, y_train)\n",
        "test_score_ridge = ridgeReg.score(X_test, y_test)\n",
        "y_pred = ridgeReg.predict(X_test)\n",
        "\n",
        "print(\"\\nModelo Ridge ............................................\\n\")\n",
        "print('Coeficiente de la ecuacion: {}'.format(ridgeReg.coef_))\n",
        "print('Interseccion de la ecuacion: {}'.format(ridgeReg.intercept_))\n",
        "print(\"\\n\")\n",
        "\n",
        "\n",
        "print(\"El valor de entrenamiento para ridge es {}\".format(train_score_ridge))\n",
        "print(\"El valor de prueba para ridge es {}\".format(test_score_ridge))"
      ],
      "metadata": {
        "id": "fMg7iTUl9n15",
        "outputId": "b5dc2f64-5d34-4586-9915-c36f86dddb70",
        "colab": {
          "base_uri": "https://localhost:8080/"
        }
      },
      "execution_count": 76,
      "outputs": [
        {
          "output_type": "stream",
          "name": "stdout",
          "text": [
            "\n",
            "Modelo Ridge ............................................\n",
            "\n",
            "Coeficiente de la ecuacion: [-3.84408562e+04  4.77879414e+04  2.70677633e+04  4.98987429e+05\n",
            "  4.65480639e+04  1.58808816e+04  1.17358544e+05  1.59200021e+02\n",
            "  1.65512358e+02 -3.58507453e+03  1.42053631e+01  2.49356545e+01\n",
            " -5.41500195e-01]\n",
            "Interseccion de la ecuacion: 6249852.497763605\n",
            "\n",
            "\n",
            "El valor de entrenamiento para ridge es 0.6513093424275317\n",
            "El valor de prueba para ridge es 0.6583872021443291\n"
          ]
        }
      ]
    },
    {
      "cell_type": "code",
      "source": [
        "mae = mean_absolute_error(y_test, y_pred)\n",
        "mse = mean_squared_error(y_test, y_pred)\n",
        "rmse = np.sqrt(mse)\n",
        "r2 = r2_score(y_test, y_pred)\n",
        "print(f'Mean absolute error: {mae:.2f}')\n",
        "print(f'Mean squared error: {mse:.2f}')\n",
        "print(f'Root mean squared error: {rmse:.2f}')\n",
        "print(f'R^2: {r2:.2f}')"
      ],
      "metadata": {
        "id": "qfeqQenI_Gxg",
        "outputId": "f972ae16-0d24-4e0c-efce-6662ee091011",
        "colab": {
          "base_uri": "https://localhost:8080/"
        }
      },
      "execution_count": 77,
      "outputs": [
        {
          "output_type": "stream",
          "name": "stdout",
          "text": [
            "Mean absolute error: 142397.19\n",
            "Mean squared error: 51101046868.15\n",
            "Root mean squared error: 226055.41\n",
            "R^2: 0.66\n"
          ]
        }
      ]
    },
    {
      "cell_type": "code",
      "source": [
        "#Lasso regression model\n",
        "print(\"\\nModelo Lasso............................................\\n\")\n",
        "lasso = Lasso(alpha = 10)\n",
        "lasso.fit(X_train,y_train)\n",
        "train_score_ls =lasso.score(X_train,y_train)\n",
        "test_score_ls =lasso.score(X_test,y_test)\n",
        "y_pred = lasso.predict(X_test)\n",
        "\n",
        "print(\"\\nModelo Ridge ............................................\\n\")\n",
        "print('Coeficiente de la ecuacion: {}'.format(lasso.coef_))\n",
        "print('Interseccion de la ecuacion: {}'.format(lasso.intercept_))\n",
        "print(\"\\n\")\n",
        "\n",
        "print(\"El valor de entrenamiento para Lasso es  {}\".format(train_score_ls))\n",
        "print(\"El valor de prueba para Lasso es  {}\".format(test_score_ls))"
      ],
      "metadata": {
        "id": "0gQ2S8ux9yFC",
        "outputId": "30304f48-4bcb-4851-eaef-6118d8a991be",
        "colab": {
          "base_uri": "https://localhost:8080/"
        }
      },
      "execution_count": 78,
      "outputs": [
        {
          "output_type": "stream",
          "name": "stdout",
          "text": [
            "\n",
            "Modelo Lasso............................................\n",
            "\n",
            "\n",
            "Modelo Ridge ............................................\n",
            "\n",
            "Coeficiente de la ecuacion: [-3.82215166e+04  4.77978669e+04  2.70230451e+04  5.49785484e+05\n",
            "  4.43950913e+04  1.58145383e+04  1.17705777e+05  1.58626899e+02\n",
            "  1.65379365e+02 -3.58760358e+03  1.36258135e+01  2.51817394e+01\n",
            " -5.42288626e-01]\n",
            "Interseccion de la ecuacion: 6252495.1519059595\n",
            "\n",
            "\n",
            "El valor de entrenamiento para Lasso es  0.6514332285377904\n",
            "El valor de prueba para Lasso es  0.6590109290862542\n"
          ]
        }
      ]
    },
    {
      "cell_type": "code",
      "source": [
        "mae = mean_absolute_error(y_test, y_pred)\n",
        "mse = mean_squared_error(y_test, y_pred)\n",
        "rmse = np.sqrt(mse)\n",
        "r2 = r2_score(y_test, y_pred)\n",
        "print(f'Mean absolute error: {mae:.2f}')\n",
        "print(f'Mean squared error: {mse:.2f}')\n",
        "print(f'Root mean squared error: {rmse:.2f}')\n",
        "print(f'R^2: {r2:.2f}')"
      ],
      "metadata": {
        "id": "8k5c92Kh_Iak",
        "outputId": "62bf645c-2db1-4a5d-888d-554c8c9da9a2",
        "colab": {
          "base_uri": "https://localhost:8080/"
        }
      },
      "execution_count": 79,
      "outputs": [
        {
          "output_type": "stream",
          "name": "stdout",
          "text": [
            "Mean absolute error: 142340.42\n",
            "Mean squared error: 51007745036.68\n",
            "Root mean squared error: 225848.94\n",
            "R^2: 0.66\n"
          ]
        }
      ]
    },
    {
      "cell_type": "markdown",
      "source": [
        "<h3>Conclusiones:</h3>\n",
        "<p>Utilizamos 25% para los datos de prueba<p>\n",
        "<p>El modelo que tiene un mejor desempeño es el de regresion polinomial con exponente 2. Si incrementamos el grado del exponente empezamos a ver un aumento en el error. Ridge y Lasso tienen un desempeño muy parecido, incluso un poco mejor que la regresion lineal simple</p>"
      ],
      "metadata": {
        "id": "v5V-2EoZ_YGx"
      }
    },
    {
      "cell_type": "markdown",
      "source": [
        "<br>"
      ],
      "metadata": {
        "id": "VSjTVH5cAY0o"
      }
    },
    {
      "cell_type": "markdown",
      "source": [
        "<h1>K Means</h1>\n",
        "<h3>Target</h3>"
      ],
      "metadata": {
        "id": "_8ds_E7oANeD"
      }
    },
    {
      "cell_type": "code",
      "source": [],
      "metadata": {
        "id": "Y1etmTkCAXoU"
      },
      "execution_count": null,
      "outputs": []
    }
  ]
}