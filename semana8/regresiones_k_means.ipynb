{
  "nbformat": 4,
  "nbformat_minor": 0,
  "metadata": {
    "colab": {
      "name": "assignment01.ipynb",
      "provenance": [],
      "include_colab_link": true
    },
    "kernelspec": {
      "name": "python3",
      "display_name": "Python 3"
    },
    "language_info": {
      "name": "python"
    }
  },
  "cells": [
    {
      "cell_type": "markdown",
      "metadata": {
        "id": "view-in-github",
        "colab_type": "text"
      },
      "source": [
        "<a href=\"https://colab.research.google.com/github/rodrigoromanguzman/Actividades_Aprendizaje-/blob/main/semana8/regresiones_k_means.ipynb\" target=\"_parent\"><img src=\"https://colab.research.google.com/assets/colab-badge.svg\" alt=\"Open In Colab\"/></a>"
      ]
    },
    {
      "cell_type": "markdown",
      "source": [
        "<h3>Ejercicio 1</h3>\n",
        "<p>Costo en la industria de manufactura.</p>"
      ],
      "metadata": {
        "id": "nrp5w6z57pgw"
      }
    },
    {
      "cell_type": "markdown",
      "source": [
        "<ul>\n",
        "<li>Divide los datos del costo de manufactura. Utiliza la duncion train_test_split</li>\n",
        "<ul>"
      ],
      "metadata": {
        "id": "DlcK4XlL73nf"
      }
    },
    {
      "cell_type": "code",
      "source": [
        "#Importamos la base de datos y las librerias que vamos a utilizar\n",
        "import pandas as pd\n",
        "import numpy as np\n",
        "from sklearn.model_selection import train_test_split\n",
        "df = pd.read_csv('https://raw.githubusercontent.com/marypazrf/bdd/main/EconomiesOfScale.csv')\n",
        "\n",
        "#Revisamos la correlacion entre variables porque nos da un indice de linearidad y \n",
        "#de que tan funcional sera usar regression lineal con los datos\n",
        "print('Correlacion entre variables')\n",
        "print(df.corr())\n",
        "\n",
        "#Separamos la variable objetivo de la caracteristica que usaremos para predecir\n",
        "x = df['Number of Units']\n",
        "y = df['Manufacturing Cost']\n",
        "\n",
        "#El modelo de regresion lineal de Scikit-Learn's espera un input de 2D y de momento nuestros datos\n",
        "#tienen una forma de 1D. Por lo que tenemos que reformar nuestros datos.\n",
        "print('Forma de datos antes')\n",
        "print('X: ',x.values.shape,'Y: ',y.values.shape)\n",
        "\n",
        "#reformar\n",
        "X = x.values.reshape(-1, 1)\n",
        "Y = y.values.reshape(-1, 1)\n",
        "\n",
        "print('Forma de datos despues')\n",
        "print('X: ',X.shape,'Y_train: ',Y.shape)\n",
        "\n",
        "\n",
        "#Por default obtenemos un 25% de datos reservados para testing\n",
        "#Dado que el proceso de seleccion de datos es random, para evitar diferencias cada vez que \n",
        "#ejecutemos el algoritmo. Utilizaremos una constante SEED = 42\n",
        "SEED = 42\n",
        "(X_train, X_test, y_train, y_test) = train_test_split(X, Y,random_state=SEED)\n"
      ],
      "metadata": {
        "id": "oQhx5LWH8Dnz",
        "outputId": "b7721393-0928-42ff-c70a-a1e0d08d047b",
        "colab": {
          "base_uri": "https://localhost:8080/"
        }
      },
      "execution_count": 77,
      "outputs": [
        {
          "output_type": "stream",
          "name": "stdout",
          "text": [
            "Correlacion entre variables\n",
            "                    Number of Units  Manufacturing Cost\n",
            "Number of Units            1.000000           -0.760905\n",
            "Manufacturing Cost        -0.760905            1.000000\n",
            "Forma de datos antes\n",
            "X:  (1000,) Y:  (1000,)\n",
            "Forma de datos despues\n",
            "X:  (1000, 1) Y_train:  (1000, 1)\n"
          ]
        }
      ]
    },
    {
      "cell_type": "markdown",
      "source": [
        "<ul>\n",
        "<li>Regression Lineal</li>\n",
        "<ul>"
      ],
      "metadata": {
        "id": "Y-jZmO1g_Sf9"
      }
    },
    {
      "cell_type": "code",
      "source": [
        "from sklearn.linear_model import LinearRegression\n",
        "regressor = LinearRegression()\n",
        "\n",
        "#Entrenamos nuestro modelo en los datos de entrenamiento\n",
        "regressor.fit(X_train, y_train)\n",
        "\n",
        "print('Interseccion: ',regressor.intercept_)\n",
        "print('Coeficiente: ',regressor.coef_)\n",
        "\n",
        "#Revisemos las predicciones en los datos de prueba\n",
        "y_pred = regressor.predict(X_test)\n",
        "\n",
        "#Comparamos las predicciones con los valores reales\n",
        "df_preds = pd.DataFrame({'Real': y_test.squeeze(), 'Prediccion': y_pred.squeeze()})\n",
        "print(df_preds)\n",
        "\n"
      ],
      "metadata": {
        "id": "3W0MqOhq_YFf",
        "outputId": "e690a62c-fdde-44b0-adb3-913d3b40565b",
        "colab": {
          "base_uri": "https://localhost:8080/"
        }
      },
      "execution_count": 78,
      "outputs": [
        {
          "output_type": "stream",
          "name": "stdout",
          "text": [
            "Interseccion:  [67.88519414]\n",
            "Coeficiente:  [[-6.22507903]]\n",
            "          Real  Prediccion\n",
            "0    38.634483   39.755998\n",
            "1    33.233497   34.987583\n",
            "2    34.550609   34.937744\n",
            "3    34.982985   36.569338\n",
            "4    43.090662   41.850114\n",
            "..         ...         ...\n",
            "245  57.942993   50.041007\n",
            "246  37.715435   41.573461\n",
            "247  46.461065   51.676315\n",
            "248  50.402065   51.241571\n",
            "249  40.800063   44.616595\n",
            "\n",
            "[250 rows x 2 columns]\n"
          ]
        }
      ]
    },
    {
      "cell_type": "markdown",
      "source": [
        "<p>Errores y R^2</p>"
      ],
      "metadata": {
        "id": "45jIYpZzION4"
      }
    },
    {
      "cell_type": "code",
      "source": [
        "from sklearn.metrics import mean_absolute_error, mean_squared_error\n",
        "from sklearn.metrics import r2_score\n",
        "\n",
        "mae = mean_absolute_error(y_test, y_pred)\n",
        "mse = mean_squared_error(y_test, y_pred)\n",
        "rmse = np.sqrt(mse)\n",
        "r2 = r2_score(y_test, y_pred)\n",
        "print(f'Mean absolute error: {mae:.2f}')\n",
        "print(f'Mean squared error: {mse:.2f}')\n",
        "print(f'Root mean squared error: {rmse:.2f}')\n",
        "print(f'R^2: {r2:.2f}')"
      ],
      "metadata": {
        "id": "KdSyj5k5ITkn",
        "outputId": "abc28e7f-d594-438e-a051-165171868453",
        "colab": {
          "base_uri": "https://localhost:8080/"
        }
      },
      "execution_count": 79,
      "outputs": [
        {
          "output_type": "stream",
          "name": "stdout",
          "text": [
            "Mean absolute error: 4.73\n",
            "Mean squared error: 39.90\n",
            "Root mean squared error: 6.32\n",
            "R^2: 0.58\n"
          ]
        }
      ]
    },
    {
      "cell_type": "markdown",
      "source": [
        "<p>Graficamos los resultados</p>"
      ],
      "metadata": {
        "id": "-fx0n-i_KB80"
      }
    },
    {
      "cell_type": "code",
      "source": [
        "import matplotlib.pyplot as plot\n",
        "\n",
        "plot.scatter(X_test, y_test, color = 'red')\n",
        "plot.plot(X_test, y_pred, color = 'blue')\n",
        "plot.title('Comparacion entre prediccion y valor real')\n",
        "plot.xlabel('Number of Units')\n",
        "plot.ylabel('Manufacturing Cost')\n",
        "plot.show()"
      ],
      "metadata": {
        "id": "UeVPFkVOJ1GG",
        "outputId": "e7223182-27ce-4b46-e033-e696bb0deaf6",
        "colab": {
          "base_uri": "https://localhost:8080/",
          "height": 295
        }
      },
      "execution_count": 80,
      "outputs": [
        {
          "output_type": "display_data",
          "data": {
            "text/plain": [
              "<Figure size 432x288 with 1 Axes>"
            ],
            "image/png": "[encoded data removed]"
          },
          "metadata": {
            "needs_background": "light"
          }
        }
      ]
    },
    {
      "cell_type": "markdown",
      "source": [
        "<h3>Regresion Polinomial</h3>"
      ],
      "metadata": {
        "id": "kdoip6NYPAk1"
      }
    },
    {
      "cell_type": "code",
      "source": [
        "from sklearn.preprocessing import PolynomialFeatures\n",
        "\n",
        "\n",
        "#Ejemplo con grado 2\n",
        "poly_reg=PolynomialFeatures(degree=2)\n",
        "\n",
        "#Entrenamos el Modelo\n",
        "X_poly=poly_reg.fit_transform(X_train)\n",
        "\n",
        "\n",
        "poly_reg.fit(X_poly,y_train)\n",
        "\n",
        "poly_reg_model = LinearRegression()\n",
        "\n",
        "poly_reg_model.fit(X_poly, y_train)\n",
        "\n",
        "#Creamos la base polinomial de los datos de prueba\n",
        "poly_test = poly_reg.fit_transform(X_test)\n",
        "\n",
        "y_poly_pred = np.ravel(poly_reg_model.predict(poly_test))\n",
        "print(y_poly_pred)"
      ],
      "metadata": {
        "id": "t4K_nRGFPFub",
        "outputId": "b2a4a048-13b5-4701-be19-8cb84b86bc6a",
        "colab": {
          "base_uri": "https://localhost:8080/"
        }
      },
      "execution_count": 81,
      "outputs": [
        {
          "output_type": "stream",
          "name": "stdout",
          "text": [
            "[37.51186406 33.37100093 33.33561018 34.57900036 39.80248666 34.34302715\n",
            " 35.12780897 37.73598268 31.26389176 49.63099553 32.1822282  54.42854339\n",
            " 34.96659631 29.5425703  29.75508236 30.57309912 43.46973132 30.82369286\n",
            " 32.97466436 42.15490615 37.00009786 48.03595941 40.68506452 37.41767523\n",
            " 46.50662299 45.43284123 52.40752569 29.9433378  30.53903453 29.65688088\n",
            " 41.32765463 49.5688114  35.2205882  38.05799261 40.71856994 46.91759955\n",
            " 34.23268725 36.27182419 30.54715366 57.17410142 41.85445282 52.64923261\n",
            " 42.37777863 29.54749107 42.94794314 43.61293676 30.03286793 35.83224952\n",
            " 39.31851118 31.80232426 36.63043277 30.89422822 44.08210194 36.41176362\n",
            " 64.05770583 63.28979232 35.38562737 67.80141814 46.14797412 32.02685422\n",
            " 43.06575465 57.55177792 37.12709472 46.5329593  35.75385904 34.17960644\n",
            " 34.56100496 31.1222925  54.83617316 37.10604247 51.80206217 38.09406179\n",
            " 36.18729229 33.29146341 43.15448389 43.19512862 34.68205779 60.32672305\n",
            " 36.19459345 42.56907924 34.33669611 55.38125042 43.64601701 55.34817717\n",
            " 42.18284274 37.01418369 33.98101765 33.73152066 33.15542731 41.86463789\n",
            " 40.45067168 39.0761823  37.49012198 46.18675025 32.53361738 39.36100374\n",
            " 32.92051626 53.27983632 55.81497062 31.95954234 33.70479221 41.20162394\n",
            " 29.77549805 44.19918745 34.9916941  34.82301111 36.91374745 29.52985735\n",
            " 48.33011906 30.16210926 37.41553682 32.00144054 29.93409507 32.13100621\n",
            " 53.41770641 39.46362208 47.61233434 29.63587923 37.34516062 43.11348291\n",
            " 30.68886967 39.57132187 33.73783324 44.11924712 45.20112591 36.85179637\n",
            " 36.28226182 39.23176386 31.11626266 32.30437569 35.84986718 31.50268973\n",
            " 43.91421523 30.98657991 37.39899251 57.46391303 50.80840331 46.37367729\n",
            " 63.85667782 54.71796989 59.50503388 44.65403762 33.63325507 43.45257529\n",
            " 30.66935459 30.27468914 32.19334147 44.81512255 32.00465482 42.1210925\n",
            " 34.84478015 48.86952594 29.62026391 39.49514396 29.74473796 38.92464414\n",
            " 42.49820944 34.12650516 56.98175292 30.8185437  35.92277659 32.79004669\n",
            " 34.76761675 34.75726122 31.14804079 34.50109856 43.00551436 34.22661073\n",
            " 42.35528822 42.44153359 40.95409627 38.61629842 51.52407541 30.36959651\n",
            " 38.29387219 40.93747415 44.3785012  44.13873267 32.2709086  34.38643164\n",
            " 38.09017445 34.48186453 40.51210673 37.456702   31.63032974 49.59519286\n",
            " 41.13036981 40.88181449 29.72304044 33.19568847 29.63610075 31.92142785\n",
            " 34.62755616 46.86599368 46.44449703 39.87889149 41.74186812 46.58995935\n",
            " 35.45645268 54.19066869 63.40682535 37.32321948 34.1698436  36.89790185\n",
            " 31.86955894 35.90592768 48.38046989 30.1053571  38.08409393 31.99880833\n",
            " 55.54968075 49.50235652 30.01573741 31.95799174 34.62985893 41.77200364\n",
            " 34.53068871 44.51163972 30.38999978 33.77657313 42.64723254 33.42741651\n",
            " 29.55092711 58.45395984 30.61207167 72.83538593 37.09930596 41.23317441\n",
            " 30.46552407 37.31608745 41.42785805 30.95290658 38.58182303 36.46744203\n",
            " 61.81611141 63.00729462 45.55998394 29.52052442 47.29504371 41.72271584\n",
            " 72.63847959 46.72538261 37.71835598 32.31374477 42.60662483 51.52949542\n",
            " 39.48335529 54.39867116 53.61875939 43.27030943]\n"
          ]
        }
      ]
    },
    {
      "cell_type": "code",
      "source": [
        "mae = mean_absolute_error(y_test, y_poly_pred)\n",
        "mse = mean_squared_error(y_test, y_poly_pred)\n",
        "rmse = np.sqrt(mse)\n",
        "r2 = r2_score(y_test, y_poly_pred)\n",
        "print(f'Mean absolute error: {mae:.2f}')\n",
        "print(f'Mean squared error: {mse:.2f}')\n",
        "print(f'Root mean squared error: {rmse:.2f}')\n",
        "print(f'R^2: {r2:.2f}')"
      ],
      "metadata": {
        "id": "xX7rYRd9cgIR",
        "outputId": "f3dde5a4-b343-48bd-d26f-37709174d06a",
        "colab": {
          "base_uri": "https://localhost:8080/"
        }
      },
      "execution_count": 87,
      "outputs": [
        {
          "output_type": "stream",
          "name": "stdout",
          "text": [
            "Mean absolute error: 4.51\n",
            "Mean squared error: 35.17\n",
            "Root mean squared error: 5.93\n",
            "R^2: 0.63\n"
          ]
        }
      ]
    },
    {
      "cell_type": "code",
      "source": [
        "plot.scatter(X_test, y_test, color = 'red')\n",
        "plot.plot(X_test, y_poly_pred, color = 'blue')\n",
        "plot.title('Real Vs Predecido (Polinomial)')\n",
        "plot.xlabel('Number of Units')\n",
        "plot.ylabel('Manufacturing Cost')\n",
        "plot.show()"
      ],
      "metadata": {
        "id": "40ydgG3ZQoNx",
        "outputId": "0fbe548d-03e5-4b0d-95cb-4dd61b5b99cb",
        "colab": {
          "base_uri": "https://localhost:8080/",
          "height": 295
        }
      },
      "execution_count": 86,
      "outputs": [
        {
          "output_type": "display_data",
          "data": {
            "text/plain": [
              "<Figure size 432x288 with 1 Axes>"
            ],
            "image/png": "[encoded data removed]"
          },
          "metadata": {
            "needs_background": "light"
          }
        }
      ]
    }
  ]
}